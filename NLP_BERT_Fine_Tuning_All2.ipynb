{
 "cells": [
  {
   "cell_type": "code",
   "execution_count": 1,
   "id": "a6868f49",
   "metadata": {
    "colab": {
     "base_uri": "https://localhost:8080/"
    },
    "executionInfo": {
     "elapsed": 19995,
     "status": "ok",
     "timestamp": 1657467864987,
     "user": {
      "displayName": "Mauricio Arancibia",
      "userId": "13958671575886021820"
     },
     "user_tz": 240
    },
    "id": "7a17ff13",
    "outputId": "ffaaf87e-fac3-4f27-b593-2df5b99ed5d1"
   },
   "outputs": [],
   "source": [
    "#!pip install transformers\n",
    "#!unzip data.zip"
   ]
  },
  {
   "cell_type": "code",
   "execution_count": 2,
   "id": "69afc771",
   "metadata": {
    "executionInfo": {
     "elapsed": 6919,
     "status": "ok",
     "timestamp": 1657467871902,
     "user": {
      "displayName": "Mauricio Arancibia",
      "userId": "13958671575886021820"
     },
     "user_tz": 240
    },
    "id": "c0e801a1"
   },
   "outputs": [
    {
     "name": "stderr",
     "output_type": "stream",
     "text": [
      "C:\\Users\\JorgeMauricioArancib\\anaconda3\\envs\\envNLPTensorFlowGPU\\lib\\site-packages\\tqdm\\auto.py:22: TqdmWarning: IProgress not found. Please update jupyter and ipywidgets. See https://ipywidgets.readthedocs.io/en/stable/user_install.html\n",
      "  from .autonotebook import tqdm as notebook_tqdm\n"
     ]
    }
   ],
   "source": [
    "import pandas as pd\n",
    "import numpy as np\n",
    "import matplotlib.pyplot as plt\n",
    "\n",
    "from transformers import BertTokenizer, BertConfig, TFBertForSequenceClassification\n",
    "import tensorflow as tf\n",
    "\n",
    "from sklearn.model_selection import train_test_split\n",
    "\n",
    "pd.options.display.max_colwidth = None\n",
    "%matplotlib inline"
   ]
  },
  {
   "cell_type": "code",
   "execution_count": 3,
   "id": "a9bd1058",
   "metadata": {
    "executionInfo": {
     "elapsed": 7,
     "status": "ok",
     "timestamp": 1657467871902,
     "user": {
      "displayName": "Mauricio Arancibia",
      "userId": "13958671575886021820"
     },
     "user_tz": 240
    },
    "id": "80a9c654"
   },
   "outputs": [],
   "source": [
    "#modelo transformer a utilizar\n",
    "nombre_modelo = 'bert-base-multilingual-uncased'"
   ]
  },
  {
   "cell_type": "code",
   "execution_count": 4,
   "id": "e36c1a09",
   "metadata": {
    "colab": {
     "base_uri": "https://localhost:8080/"
    },
    "executionInfo": {
     "elapsed": 5,
     "status": "ok",
     "timestamp": 1657467871903,
     "user": {
      "displayName": "Mauricio Arancibia",
      "userId": "13958671575886021820"
     },
     "user_tz": 240
    },
    "id": "5e0e7668",
    "outputId": "e19f7ba8-ab79-4a8c-da6b-b5ec59742acd"
   },
   "outputs": [
    {
     "data": {
      "text/plain": [
       "['anger',\n",
       " 'anticipation',\n",
       " 'disgust',\n",
       " 'fear',\n",
       " 'joy',\n",
       " 'love',\n",
       " 'optimism',\n",
       " 'pessimism',\n",
       " 'sadness',\n",
       " 'surprise',\n",
       " 'trust']"
      ]
     },
     "execution_count": 4,
     "metadata": {},
     "output_type": "execute_result"
    }
   ],
   "source": [
    "sent_list = ['anger','anticipation','disgust','fear','joy','love','optimism','pessimism','sadness','surprise','trust']\n",
    "sent_list"
   ]
  },
  {
   "cell_type": "markdown",
   "id": "9c15998a",
   "metadata": {
    "id": "0c05d707"
   },
   "source": [
    "## Limpieza de datos"
   ]
  },
  {
   "cell_type": "code",
   "execution_count": 5,
   "id": "44b4cc54",
   "metadata": {
    "executionInfo": {
     "elapsed": 4,
     "status": "ok",
     "timestamp": 1657467871903,
     "user": {
      "displayName": "Mauricio Arancibia",
      "userId": "13958671575886021820"
     },
     "user_tz": 240
    },
    "id": "2c6c78e4"
   },
   "outputs": [],
   "source": [
    "import re, string\n",
    "\n",
    "pattern1 = re.compile(r'@[\\w_]+') #elimina menciones\n",
    "pattern2 = re.compile(r'https?://[\\w_./]+') #elimina URL\n",
    "pattern3 = re.compile(r'#[\\w_]+') #elimina hashtags\n",
    "pattern4 = re.compile('[{}]+'.format(re.escape(string.punctuation))) #elimina símbolos de puntuación\n",
    "\n",
    "def clean_text(text):\n",
    "    \"\"\"Limpiamos las menciones, URL y hashtags del texto. Luego \n",
    "    quitamos signos de puntuación\"\"\"\n",
    "    text = pattern1.sub('mención', text)\n",
    "    text = pattern2.sub('URL', text)\n",
    "    text = pattern3.sub('hashtag', text)\n",
    "    text = pattern4.sub(' ', text)\n",
    "    \n",
    "    return text"
   ]
  },
  {
   "cell_type": "markdown",
   "id": "81556e3d",
   "metadata": {
    "id": "e5cfbcd1"
   },
   "source": [
    "## Fine Tunning con BERT"
   ]
  },
  {
   "cell_type": "code",
   "execution_count": 6,
   "id": "5be11f06",
   "metadata": {
    "colab": {
     "base_uri": "https://localhost:8080/"
    },
    "executionInfo": {
     "elapsed": 2911,
     "status": "ok",
     "timestamp": 1657470428523,
     "user": {
      "displayName": "Mauricio Arancibia",
      "userId": "13958671575886021820"
     },
     "user_tz": 240
    },
    "id": "81126881",
    "outputId": "3fc8b95e-feeb-48cf-87e1-4e012bb19f66"
   },
   "outputs": [
    {
     "name": "stderr",
     "output_type": "stream",
     "text": [
      "All model checkpoint layers were used when initializing TFBertForSequenceClassification.\n",
      "\n",
      "Some layers of TFBertForSequenceClassification were not initialized from the model checkpoint at bert-base-multilingual-uncased and are newly initialized: ['classifier']\n",
      "You should probably TRAIN this model on a down-stream task to be able to use it for predictions and inference.\n"
     ]
    },
    {
     "name": "stdout",
     "output_type": "stream",
     "text": [
      "Model: \"tf_bert_for_sequence_classification\"\n",
      "_________________________________________________________________\n",
      " Layer (type)                Output Shape              Param #   \n",
      "=================================================================\n",
      " bert (TFBertMainLayer)      multiple                  167356416 \n",
      "                                                                 \n",
      " dropout_37 (Dropout)        multiple                  0         \n",
      "                                                                 \n",
      " classifier (Dense)          multiple                  1538      \n",
      "                                                                 \n",
      "=================================================================\n",
      "Total params: 167,357,954\n",
      "Trainable params: 167,357,954\n",
      "Non-trainable params: 0\n",
      "_________________________________________________________________\n"
     ]
    }
   ],
   "source": [
    "#definimos modelo de clasificación\n",
    "config = BertConfig.from_pretrained(nombre_modelo, hidden_dropout_prob=0.1, num_labels=2)\n",
    "model = TFBertForSequenceClassification.from_pretrained(nombre_modelo, config=config)\n",
    "model.bert.trainable = True #Forzamos a entrenar, puesto que congelando no aprende el modelo\n",
    "\n",
    "# recommended learning rate for Adam 5e-5, 3e-5, 2e-5\n",
    "\n",
    "learning_rate = 2e-5\n",
    "\n",
    "optimizer = tf.keras.optimizers.Adam(learning_rate=learning_rate, epsilon=1e-08)\n",
    "\n",
    "loss = tf.keras.losses.SparseCategoricalCrossentropy(from_logits=True)\n",
    "metric = tf.keras.metrics.SparseCategoricalAccuracy('accuracy')\n",
    "\n",
    "model.compile(optimizer=optimizer, loss=loss, metrics=[metric])\n",
    "\n",
    "model.summary()"
   ]
  },
  {
   "cell_type": "code",
   "execution_count": 7,
   "id": "044258b2",
   "metadata": {
    "colab": {
     "background_save": true,
     "base_uri": "https://localhost:8080/",
     "height": 1000
    },
    "id": "40a26e31-365a-4762-b644-88329a925020"
   },
   "outputs": [
    {
     "name": "stdout",
     "output_type": "stream",
     "text": [
      "--------------------TRAINING SENTIMENT: anger---------------------\n",
      "Epoch 1/5\n",
      "312/312 [==============================] - 79s 195ms/step - loss: 0.6151 - accuracy: 0.6874 - val_loss: 0.5682 - val_accuracy: 0.7287\n",
      "Epoch 2/5\n",
      "312/312 [==============================] - 58s 186ms/step - loss: 0.5169 - accuracy: 0.7665 - val_loss: 0.5068 - val_accuracy: 0.7689\n",
      "Epoch 3/5\n",
      "312/312 [==============================] - 58s 187ms/step - loss: 0.3949 - accuracy: 0.8291 - val_loss: 0.5565 - val_accuracy: 0.7334\n",
      "Epoch 4/5\n",
      "312/312 [==============================] - 59s 188ms/step - loss: 0.2741 - accuracy: 0.8913 - val_loss: 0.5980 - val_accuracy: 0.7465\n",
      "Epoch 5/5\n",
      "312/312 [==============================] - 58s 188ms/step - loss: 0.2061 - accuracy: 0.9205 - val_loss: 0.8725 - val_accuracy: 0.6801\n"
     ]
    },
    {
     "data": {
      "image/png": "[encoded data removed]",
      "text/plain": [
       "<Figure size 432x288 with 1 Axes>"
      ]
     },
     "metadata": {
      "needs_background": "light"
     },
     "output_type": "display_data"
    },
    {
     "name": "stdout",
     "output_type": "stream",
     "text": [
      "134/134 - 7s - loss: 0.8725 - accuracy: 0.6801 - 7s/epoch - 50ms/step\n",
      "Evaluacion Modelo Sentimiento: anger\n",
      "score: 0.87\n",
      "acc: 0.68\n",
      "85/85 [==============================] - 7s 53ms/step\n",
      "--------------------TRAINING SENTIMENT: anticipation---------------------\n",
      "Epoch 1/5\n",
      "312/312 [==============================] - 59s 188ms/step - loss: 0.4079 - accuracy: 0.8656 - val_loss: 0.3542 - val_accuracy: 0.8840\n",
      "Epoch 2/5\n",
      "312/312 [==============================] - 59s 188ms/step - loss: 0.3553 - accuracy: 0.8832 - val_loss: 0.3508 - val_accuracy: 0.8840\n",
      "Epoch 3/5\n",
      "312/312 [==============================] - 58s 187ms/step - loss: 0.3395 - accuracy: 0.8832 - val_loss: 0.3372 - val_accuracy: 0.8849\n",
      "Epoch 4/5\n",
      "312/312 [==============================] - 59s 190ms/step - loss: 0.2929 - accuracy: 0.8925 - val_loss: 0.4096 - val_accuracy: 0.8513\n",
      "Epoch 5/5\n",
      "312/312 [==============================] - 58s 187ms/step - loss: 0.2198 - accuracy: 0.9161 - val_loss: 0.3992 - val_accuracy: 0.8531\n"
     ]
    },
    {
     "data": {
      "image/png": "[encoded data removed]",
      "text/plain": [
       "<Figure size 432x288 with 1 Axes>"
      ]
     },
     "metadata": {
      "needs_background": "light"
     },
     "output_type": "display_data"
    },
    {
     "name": "stdout",
     "output_type": "stream",
     "text": [
      "134/134 - 7s - loss: 0.3992 - accuracy: 0.8531 - 7s/epoch - 49ms/step\n",
      "Evaluacion Modelo Sentimiento: anticipation\n",
      "score: 0.40\n",
      "acc: 0.85\n",
      "85/85 [==============================] - 4s 50ms/step\n",
      "--------------------TRAINING SENTIMENT: disgust---------------------\n",
      "Epoch 1/5\n",
      "312/312 [==============================] - 56s 179ms/step - loss: 0.3773 - accuracy: 0.8395 - val_loss: 0.3527 - val_accuracy: 0.8625\n",
      "Epoch 2/5\n",
      "312/312 [==============================] - 55s 176ms/step - loss: 0.2929 - accuracy: 0.8660 - val_loss: 0.3462 - val_accuracy: 0.8513\n",
      "Epoch 3/5\n",
      "312/312 [==============================] - 56s 178ms/step - loss: 0.2319 - accuracy: 0.9065 - val_loss: 0.4428 - val_accuracy: 0.8587\n",
      "Epoch 4/5\n",
      "312/312 [==============================] - 55s 177ms/step - loss: 0.1832 - accuracy: 0.9282 - val_loss: 0.5076 - val_accuracy: 0.8513\n",
      "Epoch 5/5\n",
      "312/312 [==============================] - 55s 178ms/step - loss: 0.1273 - accuracy: 0.9510 - val_loss: 0.5263 - val_accuracy: 0.8391\n"
     ]
    },
    {
     "data": {
      "image/png": "[encoded data removed]",
      "text/plain": [
       "<Figure size 432x288 with 1 Axes>"
      ]
     },
     "metadata": {
      "needs_background": "light"
     },
     "output_type": "display_data"
    },
    {
     "name": "stdout",
     "output_type": "stream",
     "text": [
      "134/134 - 6s - loss: 0.5263 - accuracy: 0.8391 - 6s/epoch - 47ms/step\n",
      "Evaluacion Modelo Sentimiento: disgust\n",
      "score: 0.53\n",
      "acc: 0.84\n",
      "85/85 [==============================] - 4s 48ms/step\n",
      "--------------------TRAINING SENTIMENT: fear---------------------\n",
      "Epoch 1/5\n",
      "312/312 [==============================] - 55s 176ms/step - loss: 0.3521 - accuracy: 0.8888 - val_loss: 0.3267 - val_accuracy: 0.8990\n",
      "Epoch 2/5\n",
      "312/312 [==============================] - 56s 178ms/step - loss: 0.3378 - accuracy: 0.8945 - val_loss: 0.3231 - val_accuracy: 0.8990\n",
      "Epoch 3/5\n",
      "312/312 [==============================] - 55s 177ms/step - loss: 0.3254 - accuracy: 0.8953 - val_loss: 0.3125 - val_accuracy: 0.8990\n",
      "Epoch 4/5\n",
      "312/312 [==============================] - 55s 177ms/step - loss: 0.2873 - accuracy: 0.9013 - val_loss: 0.3300 - val_accuracy: 0.8887\n",
      "Epoch 5/5\n",
      "312/312 [==============================] - 55s 177ms/step - loss: 0.2412 - accuracy: 0.9205 - val_loss: 0.2855 - val_accuracy: 0.9027\n"
     ]
    },
    {
     "data": {
      "image/png": "[encoded data removed]",
      "text/plain": [
       "<Figure size 432x288 with 1 Axes>"
      ]
     },
     "metadata": {
      "needs_background": "light"
     },
     "output_type": "display_data"
    },
    {
     "name": "stdout",
     "output_type": "stream",
     "text": [
      "134/134 - 6s - loss: 0.2855 - accuracy: 0.9027 - 6s/epoch - 47ms/step\n",
      "Evaluacion Modelo Sentimiento: fear\n",
      "score: 0.29\n",
      "acc: 0.90\n",
      "85/85 [==============================] - 4s 48ms/step\n",
      "--------------------TRAINING SENTIMENT: joy---------------------\n",
      "Epoch 1/5\n",
      "312/312 [==============================] - 55s 177ms/step - loss: 0.5262 - accuracy: 0.7516 - val_loss: 0.4548 - val_accuracy: 0.7895\n",
      "Epoch 2/5\n",
      "312/312 [==============================] - 55s 178ms/step - loss: 0.3629 - accuracy: 0.8479 - val_loss: 0.4498 - val_accuracy: 0.7998\n",
      "Epoch 3/5\n",
      "312/312 [==============================] - 56s 179ms/step - loss: 0.2398 - accuracy: 0.9141 - val_loss: 0.5234 - val_accuracy: 0.7802\n",
      "Epoch 4/5\n",
      "312/312 [==============================] - 56s 178ms/step - loss: 0.1689 - accuracy: 0.9438 - val_loss: 0.5358 - val_accuracy: 0.7914\n",
      "Epoch 5/5\n",
      "312/312 [==============================] - 55s 177ms/step - loss: 0.1346 - accuracy: 0.9555 - val_loss: 0.7714 - val_accuracy: 0.7465\n"
     ]
    },
    {
     "data": {
      "image/png": "[encoded data removed]",
      "text/plain": [
       "<Figure size 432x288 with 1 Axes>"
      ]
     },
     "metadata": {
      "needs_background": "light"
     },
     "output_type": "display_data"
    },
    {
     "name": "stdout",
     "output_type": "stream",
     "text": [
      "134/134 - 6s - loss: 0.7714 - accuracy: 0.7465 - 6s/epoch - 47ms/step\n",
      "Evaluacion Modelo Sentimiento: joy\n",
      "score: 0.77\n",
      "acc: 0.75\n",
      "85/85 [==============================] - 4s 48ms/step\n",
      "--------------------TRAINING SENTIMENT: love---------------------\n",
      "Epoch 1/5\n",
      "312/312 [==============================] - 55s 177ms/step - loss: 0.2581 - accuracy: 0.9133 - val_loss: 0.2331 - val_accuracy: 0.9326\n",
      "Epoch 2/5\n",
      "312/312 [==============================] - 56s 178ms/step - loss: 0.1866 - accuracy: 0.9298 - val_loss: 0.1962 - val_accuracy: 0.9345\n",
      "Epoch 3/5\n",
      "312/312 [==============================] - 56s 179ms/step - loss: 0.1407 - accuracy: 0.9426 - val_loss: 0.1837 - val_accuracy: 0.9439\n",
      "Epoch 4/5\n",
      "312/312 [==============================] - 55s 177ms/step - loss: 0.1076 - accuracy: 0.9583 - val_loss: 0.2098 - val_accuracy: 0.9476\n",
      "Epoch 5/5\n",
      "312/312 [==============================] - 55s 177ms/step - loss: 0.0763 - accuracy: 0.9735 - val_loss: 0.2837 - val_accuracy: 0.9214\n"
     ]
    },
    {
     "data": {
      "image/png": "[encoded data removed]",
      "text/plain": [
       "<Figure size 432x288 with 1 Axes>"
      ]
     },
     "metadata": {
      "needs_background": "light"
     },
     "output_type": "display_data"
    },
    {
     "name": "stdout",
     "output_type": "stream",
     "text": [
      "134/134 - 6s - loss: 0.2837 - accuracy: 0.9214 - 6s/epoch - 48ms/step\n",
      "Evaluacion Modelo Sentimiento: love\n",
      "score: 0.28\n",
      "acc: 0.92\n",
      "85/85 [==============================] - 4s 48ms/step\n",
      "--------------------TRAINING SENTIMENT: optimism---------------------\n",
      "Epoch 1/5\n",
      "312/312 [==============================] - 56s 178ms/step - loss: 0.3214 - accuracy: 0.8880 - val_loss: 0.3272 - val_accuracy: 0.8924\n",
      "Epoch 2/5\n",
      "312/312 [==============================] - 2400s 8s/step - loss: 0.2555 - accuracy: 0.8941 - val_loss: 0.3465 - val_accuracy: 0.8924\n",
      "Epoch 3/5\n",
      "312/312 [==============================] - 58s 185ms/step - loss: 0.2154 - accuracy: 0.9005 - val_loss: 0.3418 - val_accuracy: 0.8859\n",
      "Epoch 4/5\n",
      "312/312 [==============================] - 57s 183ms/step - loss: 0.1742 - accuracy: 0.9173 - val_loss: 0.4292 - val_accuracy: 0.8728\n",
      "Epoch 5/5\n",
      "312/312 [==============================] - 57s 183ms/step - loss: 0.1463 - accuracy: 0.9462 - val_loss: 0.4384 - val_accuracy: 0.8307\n"
     ]
    },
    {
     "data": {
      "image/png": "[encoded data removed]",
      "text/plain": [
       "<Figure size 432x288 with 1 Axes>"
      ]
     },
     "metadata": {
      "needs_background": "light"
     },
     "output_type": "display_data"
    },
    {
     "name": "stdout",
     "output_type": "stream",
     "text": [
      "134/134 - 6s - loss: 0.4384 - accuracy: 0.8307 - 6s/epoch - 48ms/step\n",
      "Evaluacion Modelo Sentimiento: optimism\n",
      "score: 0.44\n",
      "acc: 0.83\n",
      "85/85 [==============================] - 4s 49ms/step\n",
      "--------------------TRAINING SENTIMENT: pessimism---------------------\n",
      "Epoch 1/5\n",
      "312/312 [==============================] - 57s 183ms/step - loss: 0.4435 - accuracy: 0.8343 - val_loss: 0.4317 - val_accuracy: 0.8316\n",
      "Epoch 2/5\n",
      "312/312 [==============================] - 57s 183ms/step - loss: 0.4129 - accuracy: 0.8403 - val_loss: 0.4261 - val_accuracy: 0.8316\n",
      "Epoch 3/5\n",
      "312/312 [==============================] - 57s 182ms/step - loss: 0.3840 - accuracy: 0.8399 - val_loss: 0.4382 - val_accuracy: 0.8316\n",
      "Epoch 4/5\n",
      "312/312 [==============================] - 57s 182ms/step - loss: 0.3349 - accuracy: 0.8511 - val_loss: 0.4678 - val_accuracy: 0.8316\n",
      "Epoch 5/5\n",
      "312/312 [==============================] - 58s 185ms/step - loss: 0.2834 - accuracy: 0.8616 - val_loss: 0.4790 - val_accuracy: 0.8307\n"
     ]
    },
    {
     "data": {
      "image/png": "[encoded data removed]",
      "text/plain": [
       "<Figure size 432x288 with 1 Axes>"
      ]
     },
     "metadata": {
      "needs_background": "light"
     },
     "output_type": "display_data"
    },
    {
     "name": "stdout",
     "output_type": "stream",
     "text": [
      "134/134 - 6s - loss: 0.4790 - accuracy: 0.8307 - 6s/epoch - 48ms/step\n",
      "Evaluacion Modelo Sentimiento: pessimism\n",
      "score: 0.48\n",
      "acc: 0.83\n",
      "85/85 [==============================] - 4s 49ms/step\n",
      "--------------------TRAINING SENTIMENT: sadness---------------------\n",
      "Epoch 1/5\n",
      "312/312 [==============================] - 57s 183ms/step - loss: 0.4846 - accuracy: 0.7705 - val_loss: 0.4736 - val_accuracy: 0.8064\n",
      "Epoch 2/5\n",
      "312/312 [==============================] - 57s 183ms/step - loss: 0.3915 - accuracy: 0.8387 - val_loss: 0.4687 - val_accuracy: 0.8307\n",
      "Epoch 3/5\n",
      "312/312 [==============================] - 57s 183ms/step - loss: 0.2884 - accuracy: 0.8957 - val_loss: 0.5111 - val_accuracy: 0.8101\n",
      "Epoch 4/5\n",
      "312/312 [==============================] - 57s 183ms/step - loss: 0.2323 - accuracy: 0.9205 - val_loss: 0.5539 - val_accuracy: 0.8110\n",
      "Epoch 5/5\n",
      "312/312 [==============================] - 57s 183ms/step - loss: 0.1960 - accuracy: 0.9366 - val_loss: 0.5469 - val_accuracy: 0.8148\n"
     ]
    },
    {
     "data": {
      "image/png": "[encoded data removed]",
      "text/plain": [
       "<Figure size 432x288 with 1 Axes>"
      ]
     },
     "metadata": {
      "needs_background": "light"
     },
     "output_type": "display_data"
    },
    {
     "name": "stdout",
     "output_type": "stream",
     "text": [
      "134/134 - 6s - loss: 0.5469 - accuracy: 0.8148 - 6s/epoch - 48ms/step\n",
      "Evaluacion Modelo Sentimiento: sadness\n",
      "score: 0.55\n",
      "acc: 0.81\n",
      "85/85 [==============================] - 4s 48ms/step\n",
      "--------------------TRAINING SENTIMENT: surprise---------------------\n",
      "Epoch 1/5\n",
      "312/312 [==============================] - 57s 184ms/step - loss: 0.2031 - accuracy: 0.9470 - val_loss: 0.2176 - val_accuracy: 0.9476\n",
      "Epoch 2/5\n",
      "312/312 [==============================] - 59s 188ms/step - loss: 0.1863 - accuracy: 0.9547 - val_loss: 0.2134 - val_accuracy: 0.9476\n",
      "Epoch 3/5\n",
      "312/312 [==============================] - 60s 191ms/step - loss: 0.1848 - accuracy: 0.9547 - val_loss: 0.2129 - val_accuracy: 0.9476\n",
      "Epoch 4/5\n",
      "312/312 [==============================] - 58s 185ms/step - loss: 0.1860 - accuracy: 0.9547 - val_loss: 0.2126 - val_accuracy: 0.9476\n",
      "Epoch 5/5\n",
      "312/312 [==============================] - 58s 187ms/step - loss: 0.1807 - accuracy: 0.9547 - val_loss: 0.2066 - val_accuracy: 0.9476\n"
     ]
    },
    {
     "data": {
      "image/png": "[encoded data removed]",
      "text/plain": [
       "<Figure size 432x288 with 1 Axes>"
      ]
     },
     "metadata": {
      "needs_background": "light"
     },
     "output_type": "display_data"
    },
    {
     "name": "stdout",
     "output_type": "stream",
     "text": [
      "134/134 - 7s - loss: 0.2066 - accuracy: 0.9476 - 7s/epoch - 50ms/step\n",
      "Evaluacion Modelo Sentimiento: surprise\n",
      "score: 0.21\n",
      "acc: 0.95\n",
      "85/85 [==============================] - 4s 51ms/step\n",
      "--------------------TRAINING SENTIMENT: trust---------------------\n",
      "Epoch 1/5\n",
      "312/312 [==============================] - 60s 193ms/step - loss: 0.1834 - accuracy: 0.9539 - val_loss: 0.2139 - val_accuracy: 0.9439\n",
      "Epoch 2/5\n",
      "312/312 [==============================] - 61s 196ms/step - loss: 0.1626 - accuracy: 0.9539 - val_loss: 0.2099 - val_accuracy: 0.9439\n",
      "Epoch 3/5\n",
      "312/312 [==============================] - 59s 190ms/step - loss: 0.1422 - accuracy: 0.9526 - val_loss: 0.2237 - val_accuracy: 0.9439\n",
      "Epoch 4/5\n",
      "312/312 [==============================] - 58s 185ms/step - loss: 0.1110 - accuracy: 0.9611 - val_loss: 0.2419 - val_accuracy: 0.9411\n",
      "Epoch 5/5\n",
      "312/312 [==============================] - 58s 186ms/step - loss: 0.0863 - accuracy: 0.9707 - val_loss: 0.2441 - val_accuracy: 0.9457\n"
     ]
    },
    {
     "data": {
      "image/png": "[encoded data removed]",
      "text/plain": [
       "<Figure size 432x288 with 1 Axes>"
      ]
     },
     "metadata": {
      "needs_background": "light"
     },
     "output_type": "display_data"
    },
    {
     "name": "stdout",
     "output_type": "stream",
     "text": [
      "134/134 - 7s - loss: 0.2441 - accuracy: 0.9457 - 7s/epoch - 49ms/step\n",
      "Evaluacion Modelo Sentimiento: trust\n",
      "score: 0.24\n",
      "acc: 0.95\n",
      "85/85 [==============================] - 5s 55ms/step\n",
      "finished: in 5649.3135 seconds.\n"
     ]
    }
   ],
   "source": [
    "from timeit import default_timer as timer\n",
    "\n",
    "start = timer()\n",
    "\n",
    "#main Loop\n",
    "df_test = pd.read_csv('data/sem_eval_test_blank_es.csv')\n",
    "tokenizer = BertTokenizer.from_pretrained(nombre_modelo)\n",
    "\n",
    "EPOCHS = 5\n",
    "\n",
    "#preparamos el final test\n",
    "df_test.Tweet = df_test.Tweet.apply(clean_text)\n",
    "df_test = df_test[df_test['Tweet']!='']\n",
    "\n",
    "final_predictions = []\n",
    "\n",
    "\n",
    "\n",
    "for data in sent_list:\n",
    "    ###PREPARANDO EL DATASET-------------------------------------------------------------\n",
    "    #limpiamos texto y quitamos tweets que se han quedado vacíos\n",
    "    df = pd.read_csv(\"data/df_\"+data+\".csv\")\n",
    "    \n",
    "    df.Tweet=df.Tweet.apply(clean_text)\n",
    "    df = df[df['Tweet']!='']\n",
    "    #el conjunto de salida es la polaridad, hay que convertir a binario\n",
    "    #codificamos 'P' como 1 y 'N' se queda como 0\n",
    "    Y=df.iloc[:,1:]\n",
    "\n",
    "    #Separamos entrenamiento y test\n",
    "    #realmente habría que sacar los tokens sólo del conjunto de entrenamiento...\n",
    "    X_train_tweets, X_test_tweets, Y_train, Y_test = train_test_split(df.Tweet,Y, test_size = 0.3, random_state = 42)\n",
    "    #print(X_train_tweets.shape,Y_train.shape)\n",
    "    #print(X_test_tweets.shape,Y_test.shape)\n",
    "\n",
    "    #preparamos el final test\n",
    "    df_test.Tweet = df_test.Tweet.apply(clean_text)\n",
    "    df_test = df_test[df_test['Tweet']!='']\n",
    "    #print(df_test.Tweet.shape)\n",
    "    \n",
    "    ##PREPARAMOS LOS DATOS PARA ENTRADA AL MODELO-----------------------------------------\n",
    "    #Tokenizamos y codificamos como Dataset\n",
    "\n",
    "    train_encodings = tokenizer(X_train_tweets.to_list(), truncation=True, padding=True, return_tensors=\"tf\")\n",
    "    MAX_SEQUENCE_LENGTH=train_encodings['input_ids'].shape[1]\n",
    "    test_encodings = tokenizer(X_test_tweets.to_list(), truncation=True, padding='max_length', max_length=MAX_SEQUENCE_LENGTH, return_tensors=\"tf\")\n",
    "    test_final_encondings = tokenizer(df_test.Tweet.to_list(), truncation=True, padding='max_length', max_length=MAX_SEQUENCE_LENGTH, return_tensors=\"tf\")\n",
    "    \n",
    "    train_dataset = tf.data.Dataset.from_tensor_slices((\n",
    "        dict(train_encodings),\n",
    "        Y_train\n",
    "    ))\n",
    "    test_dataset = tf.data.Dataset.from_tensor_slices((\n",
    "        dict(test_encodings),\n",
    "        Y_test\n",
    "    ))\n",
    "    \n",
    "    final_test_dataset = tf.data.Dataset.from_tensor_slices((\n",
    "        dict(test_final_encondings),\n",
    "    ))\n",
    "\n",
    "    \n",
    "    ##TRAINING----------------------------------------------------------------------------\n",
    "    batch_size=8\n",
    "    \n",
    "    print(\"--------------------TRAINING SENTIMENT: \"+data+\"---------------------\")\n",
    "    history=model.fit(train_dataset.batch(batch_size), epochs=EPOCHS, batch_size=batch_size, validation_data=test_dataset.batch(batch_size))\n",
    "    \n",
    "    ##VISUALIZANDO EL ENTRENAMIENTO-------------------------------------------------------\n",
    "    # Plot training & validation accuracy values\n",
    "    plt.plot(history.history['accuracy'])\n",
    "    plt.plot(history.history['val_accuracy'])\n",
    "    plt.title('Fine-tuning BERT:'+data)\n",
    "    plt.ylabel('Accuracy')\n",
    "    plt.xlabel('Epoch')\n",
    "\n",
    "    plt.legend(['Train', 'Test'], loc='upper left')\n",
    "    plt.show()\n",
    "    \n",
    "    \n",
    "    ##EVALUACION DEL MODELO -------------------------------------------------------------\n",
    "    score,acc = model.evaluate(test_dataset.batch(batch_size), verbose = 2, batch_size = batch_size)\n",
    "    print(\"Evaluacion Modelo Sentimiento: \"+data)\n",
    "    print(\"score: %.2f\" % (score))\n",
    "    print(\"acc: %.2f\" % (acc))\n",
    "    \n",
    "    ##PREDICTIONS FOR TEST DATASET\n",
    "    #obtenemos las predicciones del modelo sobre el dataset de test final\n",
    "    predict=model.predict(final_test_dataset.batch(batch_size))\n",
    "    \n",
    "    predict_proba = tf.nn.softmax(predict.logits)\n",
    "    predict_clases = np.argmax(predict_proba, 1)\n",
    "    \n",
    "    final_predictions.append(predict_clases)\n",
    "  \n",
    "\n",
    "end= timer()\n",
    "print(f\"finished: in {(end-start):.4f} seconds.\")\n",
    "    "
   ]
  },
  {
   "cell_type": "code",
   "execution_count": 8,
   "id": "2483fc5b",
   "metadata": {
    "colab": {
     "base_uri": "https://localhost:8080/",
     "height": 677
    },
    "executionInfo": {
     "elapsed": 363,
     "status": "ok",
     "timestamp": 1657469147554,
     "user": {
      "displayName": "Mauricio Arancibia",
      "userId": "13958671575886021820"
     },
     "user_tz": 240
    },
    "id": "65676ace-a567-48af-b407-2fe65b50f420",
    "outputId": "a02ef3d4-21a3-44b8-fa9a-944fb8047d77"
   },
   "outputs": [
    {
     "data": {
      "text/html": [
       "<div>\n",
       "<style scoped>\n",
       "    .dataframe tbody tr th:only-of-type {\n",
       "        vertical-align: middle;\n",
       "    }\n",
       "\n",
       "    .dataframe tbody tr th {\n",
       "        vertical-align: top;\n",
       "    }\n",
       "\n",
       "    .dataframe thead th {\n",
       "        text-align: right;\n",
       "    }\n",
       "</style>\n",
       "<table border=\"1\" class=\"dataframe\">\n",
       "  <thead>\n",
       "    <tr style=\"text-align: right;\">\n",
       "      <th></th>\n",
       "      <th>anger</th>\n",
       "      <th>anticipation</th>\n",
       "      <th>disgust</th>\n",
       "      <th>fear</th>\n",
       "      <th>joy</th>\n",
       "      <th>love</th>\n",
       "      <th>optimism</th>\n",
       "      <th>pessimism</th>\n",
       "      <th>sadness</th>\n",
       "      <th>surprise</th>\n",
       "      <th>trust</th>\n",
       "    </tr>\n",
       "  </thead>\n",
       "  <tbody>\n",
       "    <tr>\n",
       "      <th>0</th>\n",
       "      <td>0</td>\n",
       "      <td>0</td>\n",
       "      <td>0</td>\n",
       "      <td>0</td>\n",
       "      <td>0</td>\n",
       "      <td>0</td>\n",
       "      <td>0</td>\n",
       "      <td>0</td>\n",
       "      <td>0</td>\n",
       "      <td>0</td>\n",
       "      <td>0</td>\n",
       "    </tr>\n",
       "    <tr>\n",
       "      <th>1</th>\n",
       "      <td>0</td>\n",
       "      <td>1</td>\n",
       "      <td>0</td>\n",
       "      <td>1</td>\n",
       "      <td>0</td>\n",
       "      <td>0</td>\n",
       "      <td>0</td>\n",
       "      <td>0</td>\n",
       "      <td>0</td>\n",
       "      <td>0</td>\n",
       "      <td>0</td>\n",
       "    </tr>\n",
       "    <tr>\n",
       "      <th>2</th>\n",
       "      <td>0</td>\n",
       "      <td>0</td>\n",
       "      <td>0</td>\n",
       "      <td>0</td>\n",
       "      <td>1</td>\n",
       "      <td>0</td>\n",
       "      <td>0</td>\n",
       "      <td>0</td>\n",
       "      <td>0</td>\n",
       "      <td>0</td>\n",
       "      <td>0</td>\n",
       "    </tr>\n",
       "    <tr>\n",
       "      <th>3</th>\n",
       "      <td>1</td>\n",
       "      <td>0</td>\n",
       "      <td>1</td>\n",
       "      <td>0</td>\n",
       "      <td>1</td>\n",
       "      <td>0</td>\n",
       "      <td>0</td>\n",
       "      <td>0</td>\n",
       "      <td>0</td>\n",
       "      <td>0</td>\n",
       "      <td>0</td>\n",
       "    </tr>\n",
       "    <tr>\n",
       "      <th>4</th>\n",
       "      <td>1</td>\n",
       "      <td>0</td>\n",
       "      <td>1</td>\n",
       "      <td>0</td>\n",
       "      <td>0</td>\n",
       "      <td>0</td>\n",
       "      <td>0</td>\n",
       "      <td>0</td>\n",
       "      <td>1</td>\n",
       "      <td>0</td>\n",
       "      <td>0</td>\n",
       "    </tr>\n",
       "    <tr>\n",
       "      <th>5</th>\n",
       "      <td>0</td>\n",
       "      <td>0</td>\n",
       "      <td>0</td>\n",
       "      <td>0</td>\n",
       "      <td>0</td>\n",
       "      <td>0</td>\n",
       "      <td>0</td>\n",
       "      <td>0</td>\n",
       "      <td>1</td>\n",
       "      <td>0</td>\n",
       "      <td>0</td>\n",
       "    </tr>\n",
       "    <tr>\n",
       "      <th>6</th>\n",
       "      <td>1</td>\n",
       "      <td>0</td>\n",
       "      <td>0</td>\n",
       "      <td>1</td>\n",
       "      <td>0</td>\n",
       "      <td>0</td>\n",
       "      <td>0</td>\n",
       "      <td>0</td>\n",
       "      <td>0</td>\n",
       "      <td>0</td>\n",
       "      <td>0</td>\n",
       "    </tr>\n",
       "    <tr>\n",
       "      <th>7</th>\n",
       "      <td>1</td>\n",
       "      <td>0</td>\n",
       "      <td>0</td>\n",
       "      <td>0</td>\n",
       "      <td>0</td>\n",
       "      <td>0</td>\n",
       "      <td>0</td>\n",
       "      <td>0</td>\n",
       "      <td>1</td>\n",
       "      <td>0</td>\n",
       "      <td>0</td>\n",
       "    </tr>\n",
       "    <tr>\n",
       "      <th>8</th>\n",
       "      <td>0</td>\n",
       "      <td>0</td>\n",
       "      <td>0</td>\n",
       "      <td>0</td>\n",
       "      <td>0</td>\n",
       "      <td>0</td>\n",
       "      <td>0</td>\n",
       "      <td>0</td>\n",
       "      <td>0</td>\n",
       "      <td>0</td>\n",
       "      <td>0</td>\n",
       "    </tr>\n",
       "    <tr>\n",
       "      <th>9</th>\n",
       "      <td>0</td>\n",
       "      <td>0</td>\n",
       "      <td>0</td>\n",
       "      <td>0</td>\n",
       "      <td>1</td>\n",
       "      <td>1</td>\n",
       "      <td>1</td>\n",
       "      <td>0</td>\n",
       "      <td>0</td>\n",
       "      <td>0</td>\n",
       "      <td>0</td>\n",
       "    </tr>\n",
       "    <tr>\n",
       "      <th>10</th>\n",
       "      <td>1</td>\n",
       "      <td>0</td>\n",
       "      <td>0</td>\n",
       "      <td>0</td>\n",
       "      <td>0</td>\n",
       "      <td>0</td>\n",
       "      <td>0</td>\n",
       "      <td>0</td>\n",
       "      <td>0</td>\n",
       "      <td>0</td>\n",
       "      <td>0</td>\n",
       "    </tr>\n",
       "    <tr>\n",
       "      <th>11</th>\n",
       "      <td>1</td>\n",
       "      <td>0</td>\n",
       "      <td>0</td>\n",
       "      <td>0</td>\n",
       "      <td>1</td>\n",
       "      <td>1</td>\n",
       "      <td>0</td>\n",
       "      <td>0</td>\n",
       "      <td>0</td>\n",
       "      <td>0</td>\n",
       "      <td>0</td>\n",
       "    </tr>\n",
       "    <tr>\n",
       "      <th>12</th>\n",
       "      <td>1</td>\n",
       "      <td>0</td>\n",
       "      <td>0</td>\n",
       "      <td>1</td>\n",
       "      <td>1</td>\n",
       "      <td>0</td>\n",
       "      <td>0</td>\n",
       "      <td>0</td>\n",
       "      <td>1</td>\n",
       "      <td>0</td>\n",
       "      <td>0</td>\n",
       "    </tr>\n",
       "    <tr>\n",
       "      <th>13</th>\n",
       "      <td>1</td>\n",
       "      <td>0</td>\n",
       "      <td>0</td>\n",
       "      <td>0</td>\n",
       "      <td>1</td>\n",
       "      <td>0</td>\n",
       "      <td>0</td>\n",
       "      <td>0</td>\n",
       "      <td>0</td>\n",
       "      <td>0</td>\n",
       "      <td>0</td>\n",
       "    </tr>\n",
       "    <tr>\n",
       "      <th>14</th>\n",
       "      <td>0</td>\n",
       "      <td>0</td>\n",
       "      <td>0</td>\n",
       "      <td>0</td>\n",
       "      <td>1</td>\n",
       "      <td>1</td>\n",
       "      <td>1</td>\n",
       "      <td>0</td>\n",
       "      <td>0</td>\n",
       "      <td>0</td>\n",
       "      <td>0</td>\n",
       "    </tr>\n",
       "    <tr>\n",
       "      <th>15</th>\n",
       "      <td>1</td>\n",
       "      <td>1</td>\n",
       "      <td>0</td>\n",
       "      <td>0</td>\n",
       "      <td>1</td>\n",
       "      <td>0</td>\n",
       "      <td>0</td>\n",
       "      <td>0</td>\n",
       "      <td>0</td>\n",
       "      <td>0</td>\n",
       "      <td>0</td>\n",
       "    </tr>\n",
       "    <tr>\n",
       "      <th>16</th>\n",
       "      <td>1</td>\n",
       "      <td>0</td>\n",
       "      <td>0</td>\n",
       "      <td>0</td>\n",
       "      <td>0</td>\n",
       "      <td>0</td>\n",
       "      <td>0</td>\n",
       "      <td>0</td>\n",
       "      <td>0</td>\n",
       "      <td>0</td>\n",
       "      <td>0</td>\n",
       "    </tr>\n",
       "    <tr>\n",
       "      <th>17</th>\n",
       "      <td>0</td>\n",
       "      <td>0</td>\n",
       "      <td>0</td>\n",
       "      <td>0</td>\n",
       "      <td>1</td>\n",
       "      <td>0</td>\n",
       "      <td>1</td>\n",
       "      <td>0</td>\n",
       "      <td>0</td>\n",
       "      <td>0</td>\n",
       "      <td>0</td>\n",
       "    </tr>\n",
       "    <tr>\n",
       "      <th>18</th>\n",
       "      <td>1</td>\n",
       "      <td>0</td>\n",
       "      <td>0</td>\n",
       "      <td>1</td>\n",
       "      <td>0</td>\n",
       "      <td>0</td>\n",
       "      <td>0</td>\n",
       "      <td>0</td>\n",
       "      <td>0</td>\n",
       "      <td>0</td>\n",
       "      <td>0</td>\n",
       "    </tr>\n",
       "    <tr>\n",
       "      <th>19</th>\n",
       "      <td>1</td>\n",
       "      <td>0</td>\n",
       "      <td>1</td>\n",
       "      <td>0</td>\n",
       "      <td>0</td>\n",
       "      <td>0</td>\n",
       "      <td>0</td>\n",
       "      <td>0</td>\n",
       "      <td>0</td>\n",
       "      <td>0</td>\n",
       "      <td>0</td>\n",
       "    </tr>\n",
       "  </tbody>\n",
       "</table>\n",
       "</div>"
      ],
      "text/plain": [
       "    anger  anticipation  disgust  fear  joy  love  optimism  pessimism  \\\n",
       "0       0             0        0     0    0     0         0          0   \n",
       "1       0             1        0     1    0     0         0          0   \n",
       "2       0             0        0     0    1     0         0          0   \n",
       "3       1             0        1     0    1     0         0          0   \n",
       "4       1             0        1     0    0     0         0          0   \n",
       "5       0             0        0     0    0     0         0          0   \n",
       "6       1             0        0     1    0     0         0          0   \n",
       "7       1             0        0     0    0     0         0          0   \n",
       "8       0             0        0     0    0     0         0          0   \n",
       "9       0             0        0     0    1     1         1          0   \n",
       "10      1             0        0     0    0     0         0          0   \n",
       "11      1             0        0     0    1     1         0          0   \n",
       "12      1             0        0     1    1     0         0          0   \n",
       "13      1             0        0     0    1     0         0          0   \n",
       "14      0             0        0     0    1     1         1          0   \n",
       "15      1             1        0     0    1     0         0          0   \n",
       "16      1             0        0     0    0     0         0          0   \n",
       "17      0             0        0     0    1     0         1          0   \n",
       "18      1             0        0     1    0     0         0          0   \n",
       "19      1             0        1     0    0     0         0          0   \n",
       "\n",
       "    sadness  surprise  trust  \n",
       "0         0         0      0  \n",
       "1         0         0      0  \n",
       "2         0         0      0  \n",
       "3         0         0      0  \n",
       "4         1         0      0  \n",
       "5         1         0      0  \n",
       "6         0         0      0  \n",
       "7         1         0      0  \n",
       "8         0         0      0  \n",
       "9         0         0      0  \n",
       "10        0         0      0  \n",
       "11        0         0      0  \n",
       "12        1         0      0  \n",
       "13        0         0      0  \n",
       "14        0         0      0  \n",
       "15        0         0      0  \n",
       "16        0         0      0  \n",
       "17        0         0      0  \n",
       "18        0         0      0  \n",
       "19        0         0      0  "
      ]
     },
     "execution_count": 8,
     "metadata": {},
     "output_type": "execute_result"
    }
   ],
   "source": [
    "df_final_predictions = pd.DataFrame(np.transpose(final_predictions), columns = sent_list)\n",
    "df_final_predictions.head(20)"
   ]
  },
  {
   "cell_type": "code",
   "execution_count": 9,
   "id": "11b74f6e",
   "metadata": {
    "colab": {
     "base_uri": "https://localhost:8080/",
     "height": 424
    },
    "executionInfo": {
     "elapsed": 331,
     "status": "ok",
     "timestamp": 1657470286179,
     "user": {
      "displayName": "Mauricio Arancibia",
      "userId": "13958671575886021820"
     },
     "user_tz": 240
    },
    "id": "yMDsMi4Y5blm",
    "outputId": "1d41e9bd-ba16-4267-c996-b1347e312ae0"
   },
   "outputs": [
    {
     "data": {
      "text/html": [
       "<div>\n",
       "<style scoped>\n",
       "    .dataframe tbody tr th:only-of-type {\n",
       "        vertical-align: middle;\n",
       "    }\n",
       "\n",
       "    .dataframe tbody tr th {\n",
       "        vertical-align: top;\n",
       "    }\n",
       "\n",
       "    .dataframe thead th {\n",
       "        text-align: right;\n",
       "    }\n",
       "</style>\n",
       "<table border=\"1\" class=\"dataframe\">\n",
       "  <thead>\n",
       "    <tr style=\"text-align: right;\">\n",
       "      <th></th>\n",
       "      <th>ID</th>\n",
       "      <th>anger</th>\n",
       "      <th>anticipation</th>\n",
       "      <th>disgust</th>\n",
       "      <th>fear</th>\n",
       "      <th>joy</th>\n",
       "      <th>love</th>\n",
       "      <th>optimism</th>\n",
       "      <th>pessimism</th>\n",
       "      <th>sadness</th>\n",
       "      <th>surprise</th>\n",
       "      <th>trust</th>\n",
       "    </tr>\n",
       "  </thead>\n",
       "  <tbody>\n",
       "    <tr>\n",
       "      <th>0</th>\n",
       "      <td>2018-Es-06697</td>\n",
       "      <td>0</td>\n",
       "      <td>0</td>\n",
       "      <td>0</td>\n",
       "      <td>0</td>\n",
       "      <td>0</td>\n",
       "      <td>0</td>\n",
       "      <td>0</td>\n",
       "      <td>0</td>\n",
       "      <td>0</td>\n",
       "      <td>0</td>\n",
       "      <td>0</td>\n",
       "    </tr>\n",
       "    <tr>\n",
       "      <th>1</th>\n",
       "      <td>2018-Es-05385</td>\n",
       "      <td>0</td>\n",
       "      <td>1</td>\n",
       "      <td>0</td>\n",
       "      <td>1</td>\n",
       "      <td>0</td>\n",
       "      <td>0</td>\n",
       "      <td>0</td>\n",
       "      <td>0</td>\n",
       "      <td>0</td>\n",
       "      <td>0</td>\n",
       "      <td>0</td>\n",
       "    </tr>\n",
       "    <tr>\n",
       "      <th>2</th>\n",
       "      <td>2018-Es-03777</td>\n",
       "      <td>0</td>\n",
       "      <td>0</td>\n",
       "      <td>0</td>\n",
       "      <td>0</td>\n",
       "      <td>1</td>\n",
       "      <td>0</td>\n",
       "      <td>0</td>\n",
       "      <td>0</td>\n",
       "      <td>0</td>\n",
       "      <td>0</td>\n",
       "      <td>0</td>\n",
       "    </tr>\n",
       "    <tr>\n",
       "      <th>3</th>\n",
       "      <td>2018-Es-02175</td>\n",
       "      <td>1</td>\n",
       "      <td>0</td>\n",
       "      <td>1</td>\n",
       "      <td>0</td>\n",
       "      <td>1</td>\n",
       "      <td>0</td>\n",
       "      <td>0</td>\n",
       "      <td>0</td>\n",
       "      <td>0</td>\n",
       "      <td>0</td>\n",
       "      <td>0</td>\n",
       "    </tr>\n",
       "    <tr>\n",
       "      <th>4</th>\n",
       "      <td>2018-Es-00726</td>\n",
       "      <td>1</td>\n",
       "      <td>0</td>\n",
       "      <td>1</td>\n",
       "      <td>0</td>\n",
       "      <td>0</td>\n",
       "      <td>0</td>\n",
       "      <td>0</td>\n",
       "      <td>0</td>\n",
       "      <td>1</td>\n",
       "      <td>0</td>\n",
       "      <td>0</td>\n",
       "    </tr>\n",
       "    <tr>\n",
       "      <th>...</th>\n",
       "      <td>...</td>\n",
       "      <td>...</td>\n",
       "      <td>...</td>\n",
       "      <td>...</td>\n",
       "      <td>...</td>\n",
       "      <td>...</td>\n",
       "      <td>...</td>\n",
       "      <td>...</td>\n",
       "      <td>...</td>\n",
       "      <td>...</td>\n",
       "      <td>...</td>\n",
       "      <td>...</td>\n",
       "    </tr>\n",
       "    <tr>\n",
       "      <th>674</th>\n",
       "      <td>2018-Es-06551</td>\n",
       "      <td>1</td>\n",
       "      <td>0</td>\n",
       "      <td>0</td>\n",
       "      <td>1</td>\n",
       "      <td>0</td>\n",
       "      <td>0</td>\n",
       "      <td>0</td>\n",
       "      <td>0</td>\n",
       "      <td>0</td>\n",
       "      <td>0</td>\n",
       "      <td>0</td>\n",
       "    </tr>\n",
       "    <tr>\n",
       "      <th>675</th>\n",
       "      <td>2018-Es-02782</td>\n",
       "      <td>0</td>\n",
       "      <td>0</td>\n",
       "      <td>0</td>\n",
       "      <td>0</td>\n",
       "      <td>0</td>\n",
       "      <td>0</td>\n",
       "      <td>0</td>\n",
       "      <td>0</td>\n",
       "      <td>0</td>\n",
       "      <td>0</td>\n",
       "      <td>0</td>\n",
       "    </tr>\n",
       "    <tr>\n",
       "      <th>676</th>\n",
       "      <td>2018-Es-01308</td>\n",
       "      <td>0</td>\n",
       "      <td>0</td>\n",
       "      <td>0</td>\n",
       "      <td>0</td>\n",
       "      <td>1</td>\n",
       "      <td>0</td>\n",
       "      <td>0</td>\n",
       "      <td>0</td>\n",
       "      <td>0</td>\n",
       "      <td>0</td>\n",
       "      <td>0</td>\n",
       "    </tr>\n",
       "    <tr>\n",
       "      <th>677</th>\n",
       "      <td>2018-Es-02136</td>\n",
       "      <td>1</td>\n",
       "      <td>0</td>\n",
       "      <td>0</td>\n",
       "      <td>0</td>\n",
       "      <td>0</td>\n",
       "      <td>0</td>\n",
       "      <td>0</td>\n",
       "      <td>0</td>\n",
       "      <td>0</td>\n",
       "      <td>0</td>\n",
       "      <td>0</td>\n",
       "    </tr>\n",
       "    <tr>\n",
       "      <th>678</th>\n",
       "      <td>2018-Es-03951</td>\n",
       "      <td>0</td>\n",
       "      <td>0</td>\n",
       "      <td>0</td>\n",
       "      <td>0</td>\n",
       "      <td>1</td>\n",
       "      <td>0</td>\n",
       "      <td>0</td>\n",
       "      <td>0</td>\n",
       "      <td>0</td>\n",
       "      <td>0</td>\n",
       "      <td>0</td>\n",
       "    </tr>\n",
       "  </tbody>\n",
       "</table>\n",
       "<p>679 rows × 12 columns</p>\n",
       "</div>"
      ],
      "text/plain": [
       "                ID  anger  anticipation  disgust  fear  joy  love  optimism  \\\n",
       "0    2018-Es-06697      0             0        0     0    0     0         0   \n",
       "1    2018-Es-05385      0             1        0     1    0     0         0   \n",
       "2    2018-Es-03777      0             0        0     0    1     0         0   \n",
       "3    2018-Es-02175      1             0        1     0    1     0         0   \n",
       "4    2018-Es-00726      1             0        1     0    0     0         0   \n",
       "..             ...    ...           ...      ...   ...  ...   ...       ...   \n",
       "674  2018-Es-06551      1             0        0     1    0     0         0   \n",
       "675  2018-Es-02782      0             0        0     0    0     0         0   \n",
       "676  2018-Es-01308      0             0        0     0    1     0         0   \n",
       "677  2018-Es-02136      1             0        0     0    0     0         0   \n",
       "678  2018-Es-03951      0             0        0     0    1     0         0   \n",
       "\n",
       "     pessimism  sadness  surprise  trust  \n",
       "0            0        0         0      0  \n",
       "1            0        0         0      0  \n",
       "2            0        0         0      0  \n",
       "3            0        0         0      0  \n",
       "4            0        1         0      0  \n",
       "..         ...      ...       ...    ...  \n",
       "674          0        0         0      0  \n",
       "675          0        0         0      0  \n",
       "676          0        0         0      0  \n",
       "677          0        0         0      0  \n",
       "678          0        0         0      0  \n",
       "\n",
       "[679 rows x 12 columns]"
      ]
     },
     "execution_count": 9,
     "metadata": {},
     "output_type": "execute_result"
    }
   ],
   "source": [
    "df_final_test = pd.concat([df_test['ID'], df_final_predictions], axis = 1)\n",
    "df_final_test"
   ]
  },
  {
   "cell_type": "code",
   "execution_count": 10,
   "id": "834c73b3",
   "metadata": {
    "executionInfo": {
     "elapsed": 361,
     "status": "ok",
     "timestamp": 1657470295425,
     "user": {
      "displayName": "Mauricio Arancibia",
      "userId": "13958671575886021820"
     },
     "user_tz": 240
    },
    "id": "tq_dREay53CW"
   },
   "outputs": [],
   "source": [
    "df_final_test.anger = [True if x==1 else False for x in df_final_test.anger]\n",
    "df_final_test.anticipation = [True if x==1 else False for x in df_final_test.anticipation]\n",
    "df_final_test.disgust = [True if x==1 else False for x in df_final_test.disgust]\n",
    "df_final_test.fear = [True if x==1 else False for x in df_final_test.fear]\n",
    "df_final_test.joy = [True if x==1 else False for x in df_final_test.joy]\n",
    "df_final_test.love = [True if x==1 else False for x in df_final_test.love]\n",
    "df_final_test.optimism = [True if x==1 else False for x in df_final_test.optimism]\n",
    "df_final_test.pessimism = [True if x==1 else False for x in df_final_test.pessimism]\n",
    "df_final_test.sadness = [True if x==1 else False for x in df_final_test.sadness]\n",
    "df_final_test.surprise = [True if x==1 else False for x in df_final_test.surprise]\n",
    "df_final_test.trust = [True if x==1 else False for x in df_final_test.trust]"
   ]
  },
  {
   "cell_type": "code",
   "execution_count": 11,
   "id": "48f9a717",
   "metadata": {
    "colab": {
     "base_uri": "https://localhost:8080/"
    },
    "executionInfo": {
     "elapsed": 2,
     "status": "ok",
     "timestamp": 1657470310080,
     "user": {
      "displayName": "Mauricio Arancibia",
      "userId": "13958671575886021820"
     },
     "user_tz": 240
    },
    "id": "REfB_qHZ7Zkn",
    "outputId": "24842259-0ecc-45d8-8714-d7680adae003"
   },
   "outputs": [
    {
     "name": "stdout",
     "output_type": "stream",
     "text": [
      "<class 'pandas.core.frame.DataFrame'>\n",
      "Int64Index: 679 entries, 0 to 678\n",
      "Data columns (total 12 columns):\n",
      " #   Column        Non-Null Count  Dtype \n",
      "---  ------        --------------  ----- \n",
      " 0   ID            679 non-null    object\n",
      " 1   anger         679 non-null    bool  \n",
      " 2   anticipation  679 non-null    bool  \n",
      " 3   disgust       679 non-null    bool  \n",
      " 4   fear          679 non-null    bool  \n",
      " 5   joy           679 non-null    bool  \n",
      " 6   love          679 non-null    bool  \n",
      " 7   optimism      679 non-null    bool  \n",
      " 8   pessimism     679 non-null    bool  \n",
      " 9   sadness       679 non-null    bool  \n",
      " 10  surprise      679 non-null    bool  \n",
      " 11  trust         679 non-null    bool  \n",
      "dtypes: bool(11), object(1)\n",
      "memory usage: 17.9+ KB\n"
     ]
    }
   ],
   "source": [
    "df_final_test.info()"
   ]
  },
  {
   "cell_type": "code",
   "execution_count": 12,
   "id": "ca67140d",
   "metadata": {
    "colab": {
     "base_uri": "https://localhost:8080/"
    },
    "executionInfo": {
     "elapsed": 363,
     "status": "ok",
     "timestamp": 1657470360208,
     "user": {
      "displayName": "Mauricio Arancibia",
      "userId": "13958671575886021820"
     },
     "user_tz": 240
    },
    "id": "wn5j-zyh7noL",
    "outputId": "c0fbcb4b-bb48-4c8e-f139-09b506d61f4a"
   },
   "outputs": [
    {
     "name": "stderr",
     "output_type": "stream",
     "text": [
      "Ya existe el subdirectorio o el archivo results.\n"
     ]
    }
   ],
   "source": [
    "!mkdir results"
   ]
  },
  {
   "cell_type": "code",
   "execution_count": 13,
   "id": "c7199ce8",
   "metadata": {
    "executionInfo": {
     "elapsed": 384,
     "status": "ok",
     "timestamp": 1657470328780,
     "user": {
      "displayName": "Mauricio Arancibia",
      "userId": "13958671575886021820"
     },
     "user_tz": 240
    },
    "id": "uGxuXd-a6n1T"
   },
   "outputs": [],
   "source": [
    "df_final_test.to_csv('results/soluciones_mauricio_arancibia_patzi_BERT.csv', index = False)"
   ]
  },
  {
   "cell_type": "code",
   "execution_count": null,
   "id": "57aa499c",
   "metadata": {
    "id": "vBsIdAYh7ees"
   },
   "outputs": [],
   "source": []
  }
 ],
 "metadata": {
  "accelerator": "GPU",
  "colab": {
   "collapsed_sections": [],
   "name": "NLP_BERT_Fine_Tuning_All.ipynb",
   "version": ""
  },
  "gpuClass": "standard",
  "kernelspec": {
   "display_name": "Python 3 (ipykernel)",
   "language": "python",
   "name": "python3"
  },
  "language_info": {
   "codemirror_mode": {
    "name": "ipython",
    "version": 3
   },
   "file_extension": ".py",
   "mimetype": "text/x-python",
   "name": "python",
   "nbconvert_exporter": "python",
   "pygments_lexer": "ipython3",
   "version": "3.8.13"
  }
 },
 "nbformat": 4,
 "nbformat_minor": 5
}
