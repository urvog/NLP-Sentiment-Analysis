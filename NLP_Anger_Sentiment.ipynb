{
  "nbformat": 4,
  "nbformat_minor": 0,
  "metadata": {
    "colab": {
      "name": "NLP-Anger-Sentiment.ipynb",
      "provenance": [],
      "authorship_tag": "ABX9TyOI6dZyluOwEbttxAb4l19l",
      "include_colab_link": true
    },
    "kernelspec": {
      "name": "python3",
      "display_name": "Python 3"
    },
    "language_info": {
      "name": "python"
    },
    "accelerator": "GPU",
    "gpuClass": "standard"
  },
  "cells": [
    {
      "cell_type": "markdown",
      "metadata": {
        "id": "view-in-github",
        "colab_type": "text"
      },
      "source": [
        "<a href=\"https://colab.research.google.com/github/urvog/NLP-Sentiment-Analysis/blob/main/NLP_Anger_Sentiment.ipynb\" target=\"_parent\"><img src=\"https://colab.research.google.com/assets/colab-badge.svg\" alt=\"Open In Colab\"/></a>"
      ]
    },
    {
      "cell_type": "code",
      "execution_count": 91,
      "metadata": {
        "id": "Y-c9EgPBx1wb"
      },
      "outputs": [],
      "source": [
        "import pandas as pd\n",
        "import numpy as np\n",
        "import re, string, spacy\n",
        "from sklearn.feature_extraction.text import CountVectorizer\n",
        "from tensorflow.keras.preprocessing.text import Tokenizer\n",
        "from tensorflow.keras.preprocessing.sequence import pad_sequences\n",
        "from tensorflow.keras.models import Sequential\n",
        "from tensorflow.keras.layers import Dense, Embedding, Dropout, Activation, Conv1D, GlobalMaxPooling1D\n",
        "from tensorflow.keras.layers import LSTM, Dense, Dropout, SpatialDropout1D, GRU\n",
        "from sklearn.model_selection import train_test_split\n",
        "from sklearn.metrics import classification_report\n",
        "import matplotlib.pyplot as plt\n",
        "%matplotlib inline\n",
        "\n",
        "pd.options.display.max_colwidth = None\n",
        "np.random.seed(123)"
      ]
    },
    {
      "cell_type": "code",
      "source": [
        "# Leemos los datos\n",
        "df = pd.read_csv('sem_eval_train_es.csv', index_col=None)\n",
        "\n",
        "df.head()"
      ],
      "metadata": {
        "colab": {
          "base_uri": "https://localhost:8080/",
          "height": 337
        },
        "id": "MospAKbDx-Q2",
        "outputId": "fbe655c9-c298-4a54-9b54-e7963d5d3f10"
      },
      "execution_count": 3,
      "outputs": [
        {
          "output_type": "execute_result",
          "data": {
            "text/plain": [
              "              ID  \\\n",
              "0  2018-Es-01643   \n",
              "1  2018-Es-05142   \n",
              "2  2018-Es-05379   \n",
              "3  2018-Es-00208   \n",
              "4  2018-Es-01385   \n",
              "\n",
              "                                                                                                                                         Tweet  \\\n",
              "0                                                               @aliciaenp Ajajjaa somos del clan twitteras perdidas pa eventos \"importantes\"    \n",
              "1                                                                             @AwadaNai la mala suerte del gato fichame la cara de help me pls   \n",
              "2                                         @audiomano A mí tampoco me agrado mucho eso. Especialmente por tratarse de él. No hay justificación.   \n",
              "3         Para llevar a los bebes de un lugar a otro debemos cantarles canciones...  Quiero cantarles Gunaa' nibiina (La llorona, en Zapoteco)   \n",
              "4  @DalasReview me encanta la terrible hipocresia y doble moral que tiene esta gente, claro, cuando ella te lo quita ILEGALMENTE no importa...   \n",
              "\n",
              "   anger  anticipation  disgust   fear    joy   love  optimism  pessimism  \\\n",
              "0  False         False    False  False   True  False     False      False   \n",
              "1  False         False    False   True  False  False     False       True   \n",
              "2   True         False    False  False  False  False     False      False   \n",
              "3  False         False    False  False   True  False     False      False   \n",
              "4   True         False     True  False  False  False     False      False   \n",
              "\n",
              "   sadness  surprise  trust  \n",
              "0    False     False  False  \n",
              "1    False     False  False  \n",
              "2    False     False  False  \n",
              "3    False     False  False  \n",
              "4    False     False  False  "
            ],
            "text/html": [
              "\n",
              "  <div id=\"df-898217a7-9eb6-4513-9306-8c0a6b19cb8b\">\n",
              "    <div class=\"colab-df-container\">\n",
              "      <div>\n",
              "<style scoped>\n",
              "    .dataframe tbody tr th:only-of-type {\n",
              "        vertical-align: middle;\n",
              "    }\n",
              "\n",
              "    .dataframe tbody tr th {\n",
              "        vertical-align: top;\n",
              "    }\n",
              "\n",
              "    .dataframe thead th {\n",
              "        text-align: right;\n",
              "    }\n",
              "</style>\n",
              "<table border=\"1\" class=\"dataframe\">\n",
              "  <thead>\n",
              "    <tr style=\"text-align: right;\">\n",
              "      <th></th>\n",
              "      <th>ID</th>\n",
              "      <th>Tweet</th>\n",
              "      <th>anger</th>\n",
              "      <th>anticipation</th>\n",
              "      <th>disgust</th>\n",
              "      <th>fear</th>\n",
              "      <th>joy</th>\n",
              "      <th>love</th>\n",
              "      <th>optimism</th>\n",
              "      <th>pessimism</th>\n",
              "      <th>sadness</th>\n",
              "      <th>surprise</th>\n",
              "      <th>trust</th>\n",
              "    </tr>\n",
              "  </thead>\n",
              "  <tbody>\n",
              "    <tr>\n",
              "      <th>0</th>\n",
              "      <td>2018-Es-01643</td>\n",
              "      <td>@aliciaenp Ajajjaa somos del clan twitteras perdidas pa eventos \"importantes\"</td>\n",
              "      <td>False</td>\n",
              "      <td>False</td>\n",
              "      <td>False</td>\n",
              "      <td>False</td>\n",
              "      <td>True</td>\n",
              "      <td>False</td>\n",
              "      <td>False</td>\n",
              "      <td>False</td>\n",
              "      <td>False</td>\n",
              "      <td>False</td>\n",
              "      <td>False</td>\n",
              "    </tr>\n",
              "    <tr>\n",
              "      <th>1</th>\n",
              "      <td>2018-Es-05142</td>\n",
              "      <td>@AwadaNai la mala suerte del gato fichame la cara de help me pls</td>\n",
              "      <td>False</td>\n",
              "      <td>False</td>\n",
              "      <td>False</td>\n",
              "      <td>True</td>\n",
              "      <td>False</td>\n",
              "      <td>False</td>\n",
              "      <td>False</td>\n",
              "      <td>True</td>\n",
              "      <td>False</td>\n",
              "      <td>False</td>\n",
              "      <td>False</td>\n",
              "    </tr>\n",
              "    <tr>\n",
              "      <th>2</th>\n",
              "      <td>2018-Es-05379</td>\n",
              "      <td>@audiomano A mí tampoco me agrado mucho eso. Especialmente por tratarse de él. No hay justificación.</td>\n",
              "      <td>True</td>\n",
              "      <td>False</td>\n",
              "      <td>False</td>\n",
              "      <td>False</td>\n",
              "      <td>False</td>\n",
              "      <td>False</td>\n",
              "      <td>False</td>\n",
              "      <td>False</td>\n",
              "      <td>False</td>\n",
              "      <td>False</td>\n",
              "      <td>False</td>\n",
              "    </tr>\n",
              "    <tr>\n",
              "      <th>3</th>\n",
              "      <td>2018-Es-00208</td>\n",
              "      <td>Para llevar a los bebes de un lugar a otro debemos cantarles canciones...  Quiero cantarles Gunaa' nibiina (La llorona, en Zapoteco)</td>\n",
              "      <td>False</td>\n",
              "      <td>False</td>\n",
              "      <td>False</td>\n",
              "      <td>False</td>\n",
              "      <td>True</td>\n",
              "      <td>False</td>\n",
              "      <td>False</td>\n",
              "      <td>False</td>\n",
              "      <td>False</td>\n",
              "      <td>False</td>\n",
              "      <td>False</td>\n",
              "    </tr>\n",
              "    <tr>\n",
              "      <th>4</th>\n",
              "      <td>2018-Es-01385</td>\n",
              "      <td>@DalasReview me encanta la terrible hipocresia y doble moral que tiene esta gente, claro, cuando ella te lo quita ILEGALMENTE no importa...</td>\n",
              "      <td>True</td>\n",
              "      <td>False</td>\n",
              "      <td>True</td>\n",
              "      <td>False</td>\n",
              "      <td>False</td>\n",
              "      <td>False</td>\n",
              "      <td>False</td>\n",
              "      <td>False</td>\n",
              "      <td>False</td>\n",
              "      <td>False</td>\n",
              "      <td>False</td>\n",
              "    </tr>\n",
              "  </tbody>\n",
              "</table>\n",
              "</div>\n",
              "      <button class=\"colab-df-convert\" onclick=\"convertToInteractive('df-898217a7-9eb6-4513-9306-8c0a6b19cb8b')\"\n",
              "              title=\"Convert this dataframe to an interactive table.\"\n",
              "              style=\"display:none;\">\n",
              "        \n",
              "  <svg xmlns=\"http://www.w3.org/2000/svg\" height=\"24px\"viewBox=\"0 0 24 24\"\n",
              "       width=\"24px\">\n",
              "    <path d=\"M0 0h24v24H0V0z\" fill=\"none\"/>\n",
              "    <path d=\"M18.56 5.44l.94 2.06.94-2.06 2.06-.94-2.06-.94-.94-2.06-.94 2.06-2.06.94zm-11 1L8.5 8.5l.94-2.06 2.06-.94-2.06-.94L8.5 2.5l-.94 2.06-2.06.94zm10 10l.94 2.06.94-2.06 2.06-.94-2.06-.94-.94-2.06-.94 2.06-2.06.94z\"/><path d=\"M17.41 7.96l-1.37-1.37c-.4-.4-.92-.59-1.43-.59-.52 0-1.04.2-1.43.59L10.3 9.45l-7.72 7.72c-.78.78-.78 2.05 0 2.83L4 21.41c.39.39.9.59 1.41.59.51 0 1.02-.2 1.41-.59l7.78-7.78 2.81-2.81c.8-.78.8-2.07 0-2.86zM5.41 20L4 18.59l7.72-7.72 1.47 1.35L5.41 20z\"/>\n",
              "  </svg>\n",
              "      </button>\n",
              "      \n",
              "  <style>\n",
              "    .colab-df-container {\n",
              "      display:flex;\n",
              "      flex-wrap:wrap;\n",
              "      gap: 12px;\n",
              "    }\n",
              "\n",
              "    .colab-df-convert {\n",
              "      background-color: #E8F0FE;\n",
              "      border: none;\n",
              "      border-radius: 50%;\n",
              "      cursor: pointer;\n",
              "      display: none;\n",
              "      fill: #1967D2;\n",
              "      height: 32px;\n",
              "      padding: 0 0 0 0;\n",
              "      width: 32px;\n",
              "    }\n",
              "\n",
              "    .colab-df-convert:hover {\n",
              "      background-color: #E2EBFA;\n",
              "      box-shadow: 0px 1px 2px rgba(60, 64, 67, 0.3), 0px 1px 3px 1px rgba(60, 64, 67, 0.15);\n",
              "      fill: #174EA6;\n",
              "    }\n",
              "\n",
              "    [theme=dark] .colab-df-convert {\n",
              "      background-color: #3B4455;\n",
              "      fill: #D2E3FC;\n",
              "    }\n",
              "\n",
              "    [theme=dark] .colab-df-convert:hover {\n",
              "      background-color: #434B5C;\n",
              "      box-shadow: 0px 1px 3px 1px rgba(0, 0, 0, 0.15);\n",
              "      filter: drop-shadow(0px 1px 2px rgba(0, 0, 0, 0.3));\n",
              "      fill: #FFFFFF;\n",
              "    }\n",
              "  </style>\n",
              "\n",
              "      <script>\n",
              "        const buttonEl =\n",
              "          document.querySelector('#df-898217a7-9eb6-4513-9306-8c0a6b19cb8b button.colab-df-convert');\n",
              "        buttonEl.style.display =\n",
              "          google.colab.kernel.accessAllowed ? 'block' : 'none';\n",
              "\n",
              "        async function convertToInteractive(key) {\n",
              "          const element = document.querySelector('#df-898217a7-9eb6-4513-9306-8c0a6b19cb8b');\n",
              "          const dataTable =\n",
              "            await google.colab.kernel.invokeFunction('convertToInteractive',\n",
              "                                                     [key], {});\n",
              "          if (!dataTable) return;\n",
              "\n",
              "          const docLinkHtml = 'Like what you see? Visit the ' +\n",
              "            '<a target=\"_blank\" href=https://colab.research.google.com/notebooks/data_table.ipynb>data table notebook</a>'\n",
              "            + ' to learn more about interactive tables.';\n",
              "          element.innerHTML = '';\n",
              "          dataTable['output_type'] = 'display_data';\n",
              "          await google.colab.output.renderOutput(dataTable, element);\n",
              "          const docLink = document.createElement('div');\n",
              "          docLink.innerHTML = docLinkHtml;\n",
              "          element.appendChild(docLink);\n",
              "        }\n",
              "      </script>\n",
              "    </div>\n",
              "  </div>\n",
              "  "
            ]
          },
          "metadata": {},
          "execution_count": 3
        }
      ]
    },
    {
      "cell_type": "code",
      "source": [
        "df.anger = ['a' if x==True else '' for x in df.anger]\n",
        "df.anticipation = ['b' if x==True else '' for x in df.anticipation]\n",
        "df.disgust = ['c' if x==True else '' for x in df.disgust]\n",
        "df.fear = ['d' if x==True else '' for x in df.fear]\n",
        "df.joy = ['e' if x==True else '' for x in df.joy]\n",
        "df.love = ['f' if x==True else '' for x in df.love]\n",
        "df.optimism = ['g' if x==True else '' for x in df.optimism]\n",
        "df.pessimism = ['h' if x==True else '' for x in df.pessimism]\n",
        "df.sadness = ['i' if x==True else '' for x in df.sadness]\n",
        "df.surprise = ['j' if x==True else '' for x in df.surprise]\n",
        "df.trust = ['k' if x==True else '' for x in df.trust]"
      ],
      "metadata": {
        "id": "ql5fgE0mybiC"
      },
      "execution_count": 4,
      "outputs": []
    },
    {
      "cell_type": "code",
      "source": [
        "df['sentiment'] = df.anger+df.anticipation+df.disgust+df.fear+df.joy+df.love+df.optimism+df.pessimism+df.sadness+df.surprise+df.trust"
      ],
      "metadata": {
        "id": "WvWUB3Jyygz5"
      },
      "execution_count": 5,
      "outputs": []
    },
    {
      "cell_type": "code",
      "source": [
        "df.head()"
      ],
      "metadata": {
        "id": "lWVep0ORyi5I",
        "outputId": "cc6753f4-1ce7-4f55-d798-da8a5734d0da",
        "colab": {
          "base_uri": "https://localhost:8080/",
          "height": 337
        }
      },
      "execution_count": 6,
      "outputs": [
        {
          "output_type": "execute_result",
          "data": {
            "text/plain": [
              "              ID  \\\n",
              "0  2018-Es-01643   \n",
              "1  2018-Es-05142   \n",
              "2  2018-Es-05379   \n",
              "3  2018-Es-00208   \n",
              "4  2018-Es-01385   \n",
              "\n",
              "                                                                                                                                         Tweet  \\\n",
              "0                                                               @aliciaenp Ajajjaa somos del clan twitteras perdidas pa eventos \"importantes\"    \n",
              "1                                                                             @AwadaNai la mala suerte del gato fichame la cara de help me pls   \n",
              "2                                         @audiomano A mí tampoco me agrado mucho eso. Especialmente por tratarse de él. No hay justificación.   \n",
              "3         Para llevar a los bebes de un lugar a otro debemos cantarles canciones...  Quiero cantarles Gunaa' nibiina (La llorona, en Zapoteco)   \n",
              "4  @DalasReview me encanta la terrible hipocresia y doble moral que tiene esta gente, claro, cuando ella te lo quita ILEGALMENTE no importa...   \n",
              "\n",
              "  anger anticipation disgust fear joy love optimism pessimism sadness  \\\n",
              "0                                   e                                   \n",
              "1                               d                           h           \n",
              "2     a                                                                 \n",
              "3                                   e                                   \n",
              "4     a                    c                                            \n",
              "\n",
              "  surprise trust sentiment  \n",
              "0                        e  \n",
              "1                       dh  \n",
              "2                        a  \n",
              "3                        e  \n",
              "4                       ac  "
            ],
            "text/html": [
              "\n",
              "  <div id=\"df-b8ce561b-8106-44aa-961a-f1e07f01151d\">\n",
              "    <div class=\"colab-df-container\">\n",
              "      <div>\n",
              "<style scoped>\n",
              "    .dataframe tbody tr th:only-of-type {\n",
              "        vertical-align: middle;\n",
              "    }\n",
              "\n",
              "    .dataframe tbody tr th {\n",
              "        vertical-align: top;\n",
              "    }\n",
              "\n",
              "    .dataframe thead th {\n",
              "        text-align: right;\n",
              "    }\n",
              "</style>\n",
              "<table border=\"1\" class=\"dataframe\">\n",
              "  <thead>\n",
              "    <tr style=\"text-align: right;\">\n",
              "      <th></th>\n",
              "      <th>ID</th>\n",
              "      <th>Tweet</th>\n",
              "      <th>anger</th>\n",
              "      <th>anticipation</th>\n",
              "      <th>disgust</th>\n",
              "      <th>fear</th>\n",
              "      <th>joy</th>\n",
              "      <th>love</th>\n",
              "      <th>optimism</th>\n",
              "      <th>pessimism</th>\n",
              "      <th>sadness</th>\n",
              "      <th>surprise</th>\n",
              "      <th>trust</th>\n",
              "      <th>sentiment</th>\n",
              "    </tr>\n",
              "  </thead>\n",
              "  <tbody>\n",
              "    <tr>\n",
              "      <th>0</th>\n",
              "      <td>2018-Es-01643</td>\n",
              "      <td>@aliciaenp Ajajjaa somos del clan twitteras perdidas pa eventos \"importantes\"</td>\n",
              "      <td></td>\n",
              "      <td></td>\n",
              "      <td></td>\n",
              "      <td></td>\n",
              "      <td>e</td>\n",
              "      <td></td>\n",
              "      <td></td>\n",
              "      <td></td>\n",
              "      <td></td>\n",
              "      <td></td>\n",
              "      <td></td>\n",
              "      <td>e</td>\n",
              "    </tr>\n",
              "    <tr>\n",
              "      <th>1</th>\n",
              "      <td>2018-Es-05142</td>\n",
              "      <td>@AwadaNai la mala suerte del gato fichame la cara de help me pls</td>\n",
              "      <td></td>\n",
              "      <td></td>\n",
              "      <td></td>\n",
              "      <td>d</td>\n",
              "      <td></td>\n",
              "      <td></td>\n",
              "      <td></td>\n",
              "      <td>h</td>\n",
              "      <td></td>\n",
              "      <td></td>\n",
              "      <td></td>\n",
              "      <td>dh</td>\n",
              "    </tr>\n",
              "    <tr>\n",
              "      <th>2</th>\n",
              "      <td>2018-Es-05379</td>\n",
              "      <td>@audiomano A mí tampoco me agrado mucho eso. Especialmente por tratarse de él. No hay justificación.</td>\n",
              "      <td>a</td>\n",
              "      <td></td>\n",
              "      <td></td>\n",
              "      <td></td>\n",
              "      <td></td>\n",
              "      <td></td>\n",
              "      <td></td>\n",
              "      <td></td>\n",
              "      <td></td>\n",
              "      <td></td>\n",
              "      <td></td>\n",
              "      <td>a</td>\n",
              "    </tr>\n",
              "    <tr>\n",
              "      <th>3</th>\n",
              "      <td>2018-Es-00208</td>\n",
              "      <td>Para llevar a los bebes de un lugar a otro debemos cantarles canciones...  Quiero cantarles Gunaa' nibiina (La llorona, en Zapoteco)</td>\n",
              "      <td></td>\n",
              "      <td></td>\n",
              "      <td></td>\n",
              "      <td></td>\n",
              "      <td>e</td>\n",
              "      <td></td>\n",
              "      <td></td>\n",
              "      <td></td>\n",
              "      <td></td>\n",
              "      <td></td>\n",
              "      <td></td>\n",
              "      <td>e</td>\n",
              "    </tr>\n",
              "    <tr>\n",
              "      <th>4</th>\n",
              "      <td>2018-Es-01385</td>\n",
              "      <td>@DalasReview me encanta la terrible hipocresia y doble moral que tiene esta gente, claro, cuando ella te lo quita ILEGALMENTE no importa...</td>\n",
              "      <td>a</td>\n",
              "      <td></td>\n",
              "      <td>c</td>\n",
              "      <td></td>\n",
              "      <td></td>\n",
              "      <td></td>\n",
              "      <td></td>\n",
              "      <td></td>\n",
              "      <td></td>\n",
              "      <td></td>\n",
              "      <td></td>\n",
              "      <td>ac</td>\n",
              "    </tr>\n",
              "  </tbody>\n",
              "</table>\n",
              "</div>\n",
              "      <button class=\"colab-df-convert\" onclick=\"convertToInteractive('df-b8ce561b-8106-44aa-961a-f1e07f01151d')\"\n",
              "              title=\"Convert this dataframe to an interactive table.\"\n",
              "              style=\"display:none;\">\n",
              "        \n",
              "  <svg xmlns=\"http://www.w3.org/2000/svg\" height=\"24px\"viewBox=\"0 0 24 24\"\n",
              "       width=\"24px\">\n",
              "    <path d=\"M0 0h24v24H0V0z\" fill=\"none\"/>\n",
              "    <path d=\"M18.56 5.44l.94 2.06.94-2.06 2.06-.94-2.06-.94-.94-2.06-.94 2.06-2.06.94zm-11 1L8.5 8.5l.94-2.06 2.06-.94-2.06-.94L8.5 2.5l-.94 2.06-2.06.94zm10 10l.94 2.06.94-2.06 2.06-.94-2.06-.94-.94-2.06-.94 2.06-2.06.94z\"/><path d=\"M17.41 7.96l-1.37-1.37c-.4-.4-.92-.59-1.43-.59-.52 0-1.04.2-1.43.59L10.3 9.45l-7.72 7.72c-.78.78-.78 2.05 0 2.83L4 21.41c.39.39.9.59 1.41.59.51 0 1.02-.2 1.41-.59l7.78-7.78 2.81-2.81c.8-.78.8-2.07 0-2.86zM5.41 20L4 18.59l7.72-7.72 1.47 1.35L5.41 20z\"/>\n",
              "  </svg>\n",
              "      </button>\n",
              "      \n",
              "  <style>\n",
              "    .colab-df-container {\n",
              "      display:flex;\n",
              "      flex-wrap:wrap;\n",
              "      gap: 12px;\n",
              "    }\n",
              "\n",
              "    .colab-df-convert {\n",
              "      background-color: #E8F0FE;\n",
              "      border: none;\n",
              "      border-radius: 50%;\n",
              "      cursor: pointer;\n",
              "      display: none;\n",
              "      fill: #1967D2;\n",
              "      height: 32px;\n",
              "      padding: 0 0 0 0;\n",
              "      width: 32px;\n",
              "    }\n",
              "\n",
              "    .colab-df-convert:hover {\n",
              "      background-color: #E2EBFA;\n",
              "      box-shadow: 0px 1px 2px rgba(60, 64, 67, 0.3), 0px 1px 3px 1px rgba(60, 64, 67, 0.15);\n",
              "      fill: #174EA6;\n",
              "    }\n",
              "\n",
              "    [theme=dark] .colab-df-convert {\n",
              "      background-color: #3B4455;\n",
              "      fill: #D2E3FC;\n",
              "    }\n",
              "\n",
              "    [theme=dark] .colab-df-convert:hover {\n",
              "      background-color: #434B5C;\n",
              "      box-shadow: 0px 1px 3px 1px rgba(0, 0, 0, 0.15);\n",
              "      filter: drop-shadow(0px 1px 2px rgba(0, 0, 0, 0.3));\n",
              "      fill: #FFFFFF;\n",
              "    }\n",
              "  </style>\n",
              "\n",
              "      <script>\n",
              "        const buttonEl =\n",
              "          document.querySelector('#df-b8ce561b-8106-44aa-961a-f1e07f01151d button.colab-df-convert');\n",
              "        buttonEl.style.display =\n",
              "          google.colab.kernel.accessAllowed ? 'block' : 'none';\n",
              "\n",
              "        async function convertToInteractive(key) {\n",
              "          const element = document.querySelector('#df-b8ce561b-8106-44aa-961a-f1e07f01151d');\n",
              "          const dataTable =\n",
              "            await google.colab.kernel.invokeFunction('convertToInteractive',\n",
              "                                                     [key], {});\n",
              "          if (!dataTable) return;\n",
              "\n",
              "          const docLinkHtml = 'Like what you see? Visit the ' +\n",
              "            '<a target=\"_blank\" href=https://colab.research.google.com/notebooks/data_table.ipynb>data table notebook</a>'\n",
              "            + ' to learn more about interactive tables.';\n",
              "          element.innerHTML = '';\n",
              "          dataTable['output_type'] = 'display_data';\n",
              "          await google.colab.output.renderOutput(dataTable, element);\n",
              "          const docLink = document.createElement('div');\n",
              "          docLink.innerHTML = docLinkHtml;\n",
              "          element.appendChild(docLink);\n",
              "        }\n",
              "      </script>\n",
              "    </div>\n",
              "  </div>\n",
              "  "
            ]
          },
          "metadata": {},
          "execution_count": 6
        }
      ]
    },
    {
      "cell_type": "code",
      "source": [
        "#Label encoder\n",
        "from sklearn import preprocessing\n",
        "le = preprocessing.LabelEncoder()\n",
        "df['target'] = le.fit_transform(df.sentiment)"
      ],
      "metadata": {
        "id": "FEMoUHN6ykov"
      },
      "execution_count": 7,
      "outputs": []
    },
    {
      "cell_type": "code",
      "source": [
        "df.head(20)"
      ],
      "metadata": {
        "id": "3FFup7xKyo9H",
        "outputId": "7227b7e9-eaf9-453f-f835-79db42bc51e6",
        "colab": {
          "base_uri": "https://localhost:8080/",
          "height": 1000
        }
      },
      "execution_count": 8,
      "outputs": [
        {
          "output_type": "execute_result",
          "data": {
            "text/plain": [
              "               ID  \\\n",
              "0   2018-Es-01643   \n",
              "1   2018-Es-05142   \n",
              "2   2018-Es-05379   \n",
              "3   2018-Es-00208   \n",
              "4   2018-Es-01385   \n",
              "5   2018-Es-00089   \n",
              "6   2018-Es-05189   \n",
              "7   2018-Es-02108   \n",
              "8   2018-Es-00795   \n",
              "9   2018-Es-02243   \n",
              "10  2018-Es-03082   \n",
              "11  2018-Es-04296   \n",
              "12  2018-Es-06944   \n",
              "13  2018-Es-03502   \n",
              "14  2018-Es-06713   \n",
              "15  2018-Es-04753   \n",
              "16  2018-Es-02247   \n",
              "17  2018-Es-04968   \n",
              "18  2018-Es-04737   \n",
              "19  2018-Es-05998   \n",
              "\n",
              "                                                                                                                                          Tweet  \\\n",
              "0                                                                @aliciaenp Ajajjaa somos del clan twitteras perdidas pa eventos \"importantes\"    \n",
              "1                                                                              @AwadaNai la mala suerte del gato fichame la cara de help me pls   \n",
              "2                                          @audiomano A mí tampoco me agrado mucho eso. Especialmente por tratarse de él. No hay justificación.   \n",
              "3          Para llevar a los bebes de un lugar a otro debemos cantarles canciones...  Quiero cantarles Gunaa' nibiina (La llorona, en Zapoteco)   \n",
              "4   @DalasReview me encanta la terrible hipocresia y doble moral que tiene esta gente, claro, cuando ella te lo quita ILEGALMENTE no importa...   \n",
              "5                                                   En Venezuela, el tráfico aéreo esta tan peligroso como el terrestre? Ya cayó otra avioneta.   \n",
              "6                          me voy a morir sin saber por qué @. y @.. y @... me dieron block y los espantaré cada noche hasta que se arrepientan   \n",
              "7                                                                                                       @tctelevision @calle7tc Terrible  esto!   \n",
              "8                                                                                            Para tristeza y felicidad, Ed Sheeran al rescate.🙃   \n",
              "9                                                    Con razon mi vieja se fue rapido a Santa Fe sin invitarme, no queria que me tatue denuevo    \n",
              "10  Lo lindo de sentir cerca a esa gente con la que compartiste tanto, eso es amistad! 😍 Soy una afortunada de tener a la gente que me rodea! ❤   \n",
              "11                                                                   Qué perra rabia cuando tienes sueño pero no puedes dormir, no lo entiendo.   \n",
              "12                                                                                                    Le dije por su nombre y cerró la cuenta 😆   \n",
              "13                                                    @LastiriAriel una pintura para mañana creo q tuve q haberme preocupado un poquito antes🤦🏻   \n",
              "14                                                         @NANCYPAZOS manipularon los resultados de las Pazos... ahora una mesa pro militar...   \n",
              "15                                                                                                       @wichouya Que diosito te escuche jaja    \n",
              "16                                                                                 Que bien se siente pelear de nuevo, aunque esté bien tronco    \n",
              "17                                                                        @DebRyanShow #Rayito Falsa alarma 🚨 sigo sacando ideas de mi cabeza 😉   \n",
              "18                                                                              El David no me quiere jugar más a la play jajajajaja 6 le metí    \n",
              "19                                                 @fiooresilva Fuera de joda si vi a tu hermana, vos sos la unica amargada que no sale nunca!!   \n",
              "\n",
              "   anger anticipation disgust fear joy love optimism pessimism sadness  \\\n",
              "0                                    e                                   \n",
              "1                                d                           h           \n",
              "2      a                                                                 \n",
              "3                                    e                                   \n",
              "4      a                    c                                            \n",
              "5                   b            d                           h           \n",
              "6                                d                                   i   \n",
              "7      a                    c                                        i   \n",
              "8                                    e                               i   \n",
              "9                                                            h           \n",
              "10                                   e    f                              \n",
              "11     a                                                                 \n",
              "12     a                             e                               i   \n",
              "13                                                           h           \n",
              "14     a                    c                                            \n",
              "15                                   e             g                     \n",
              "16     a                             e                                   \n",
              "17                                   e             g                     \n",
              "18                                   e                                   \n",
              "19     a                    c                                        i   \n",
              "\n",
              "   surprise trust sentiment  target  \n",
              "0                         e     137  \n",
              "1                        dh     131  \n",
              "2                         a       1  \n",
              "3                         e     137  \n",
              "4                        ac      13  \n",
              "5                       bdh      70  \n",
              "6                        di     134  \n",
              "7                       aci      25  \n",
              "8                        ei     151  \n",
              "9                         h     172  \n",
              "10                       ef     138  \n",
              "11                        a       1  \n",
              "12                      aei      40  \n",
              "13                        h     172  \n",
              "14                       ac      13  \n",
              "15                       eg     144  \n",
              "16                       ae      36  \n",
              "17                       eg     144  \n",
              "18                        e     137  \n",
              "19                      aci      25  "
            ],
            "text/html": [
              "\n",
              "  <div id=\"df-d9661caa-eea4-4104-bb82-29db686adf15\">\n",
              "    <div class=\"colab-df-container\">\n",
              "      <div>\n",
              "<style scoped>\n",
              "    .dataframe tbody tr th:only-of-type {\n",
              "        vertical-align: middle;\n",
              "    }\n",
              "\n",
              "    .dataframe tbody tr th {\n",
              "        vertical-align: top;\n",
              "    }\n",
              "\n",
              "    .dataframe thead th {\n",
              "        text-align: right;\n",
              "    }\n",
              "</style>\n",
              "<table border=\"1\" class=\"dataframe\">\n",
              "  <thead>\n",
              "    <tr style=\"text-align: right;\">\n",
              "      <th></th>\n",
              "      <th>ID</th>\n",
              "      <th>Tweet</th>\n",
              "      <th>anger</th>\n",
              "      <th>anticipation</th>\n",
              "      <th>disgust</th>\n",
              "      <th>fear</th>\n",
              "      <th>joy</th>\n",
              "      <th>love</th>\n",
              "      <th>optimism</th>\n",
              "      <th>pessimism</th>\n",
              "      <th>sadness</th>\n",
              "      <th>surprise</th>\n",
              "      <th>trust</th>\n",
              "      <th>sentiment</th>\n",
              "      <th>target</th>\n",
              "    </tr>\n",
              "  </thead>\n",
              "  <tbody>\n",
              "    <tr>\n",
              "      <th>0</th>\n",
              "      <td>2018-Es-01643</td>\n",
              "      <td>@aliciaenp Ajajjaa somos del clan twitteras perdidas pa eventos \"importantes\"</td>\n",
              "      <td></td>\n",
              "      <td></td>\n",
              "      <td></td>\n",
              "      <td></td>\n",
              "      <td>e</td>\n",
              "      <td></td>\n",
              "      <td></td>\n",
              "      <td></td>\n",
              "      <td></td>\n",
              "      <td></td>\n",
              "      <td></td>\n",
              "      <td>e</td>\n",
              "      <td>137</td>\n",
              "    </tr>\n",
              "    <tr>\n",
              "      <th>1</th>\n",
              "      <td>2018-Es-05142</td>\n",
              "      <td>@AwadaNai la mala suerte del gato fichame la cara de help me pls</td>\n",
              "      <td></td>\n",
              "      <td></td>\n",
              "      <td></td>\n",
              "      <td>d</td>\n",
              "      <td></td>\n",
              "      <td></td>\n",
              "      <td></td>\n",
              "      <td>h</td>\n",
              "      <td></td>\n",
              "      <td></td>\n",
              "      <td></td>\n",
              "      <td>dh</td>\n",
              "      <td>131</td>\n",
              "    </tr>\n",
              "    <tr>\n",
              "      <th>2</th>\n",
              "      <td>2018-Es-05379</td>\n",
              "      <td>@audiomano A mí tampoco me agrado mucho eso. Especialmente por tratarse de él. No hay justificación.</td>\n",
              "      <td>a</td>\n",
              "      <td></td>\n",
              "      <td></td>\n",
              "      <td></td>\n",
              "      <td></td>\n",
              "      <td></td>\n",
              "      <td></td>\n",
              "      <td></td>\n",
              "      <td></td>\n",
              "      <td></td>\n",
              "      <td></td>\n",
              "      <td>a</td>\n",
              "      <td>1</td>\n",
              "    </tr>\n",
              "    <tr>\n",
              "      <th>3</th>\n",
              "      <td>2018-Es-00208</td>\n",
              "      <td>Para llevar a los bebes de un lugar a otro debemos cantarles canciones...  Quiero cantarles Gunaa' nibiina (La llorona, en Zapoteco)</td>\n",
              "      <td></td>\n",
              "      <td></td>\n",
              "      <td></td>\n",
              "      <td></td>\n",
              "      <td>e</td>\n",
              "      <td></td>\n",
              "      <td></td>\n",
              "      <td></td>\n",
              "      <td></td>\n",
              "      <td></td>\n",
              "      <td></td>\n",
              "      <td>e</td>\n",
              "      <td>137</td>\n",
              "    </tr>\n",
              "    <tr>\n",
              "      <th>4</th>\n",
              "      <td>2018-Es-01385</td>\n",
              "      <td>@DalasReview me encanta la terrible hipocresia y doble moral que tiene esta gente, claro, cuando ella te lo quita ILEGALMENTE no importa...</td>\n",
              "      <td>a</td>\n",
              "      <td></td>\n",
              "      <td>c</td>\n",
              "      <td></td>\n",
              "      <td></td>\n",
              "      <td></td>\n",
              "      <td></td>\n",
              "      <td></td>\n",
              "      <td></td>\n",
              "      <td></td>\n",
              "      <td></td>\n",
              "      <td>ac</td>\n",
              "      <td>13</td>\n",
              "    </tr>\n",
              "    <tr>\n",
              "      <th>5</th>\n",
              "      <td>2018-Es-00089</td>\n",
              "      <td>En Venezuela, el tráfico aéreo esta tan peligroso como el terrestre? Ya cayó otra avioneta.</td>\n",
              "      <td></td>\n",
              "      <td>b</td>\n",
              "      <td></td>\n",
              "      <td>d</td>\n",
              "      <td></td>\n",
              "      <td></td>\n",
              "      <td></td>\n",
              "      <td>h</td>\n",
              "      <td></td>\n",
              "      <td></td>\n",
              "      <td></td>\n",
              "      <td>bdh</td>\n",
              "      <td>70</td>\n",
              "    </tr>\n",
              "    <tr>\n",
              "      <th>6</th>\n",
              "      <td>2018-Es-05189</td>\n",
              "      <td>me voy a morir sin saber por qué @. y @.. y @... me dieron block y los espantaré cada noche hasta que se arrepientan</td>\n",
              "      <td></td>\n",
              "      <td></td>\n",
              "      <td></td>\n",
              "      <td>d</td>\n",
              "      <td></td>\n",
              "      <td></td>\n",
              "      <td></td>\n",
              "      <td></td>\n",
              "      <td>i</td>\n",
              "      <td></td>\n",
              "      <td></td>\n",
              "      <td>di</td>\n",
              "      <td>134</td>\n",
              "    </tr>\n",
              "    <tr>\n",
              "      <th>7</th>\n",
              "      <td>2018-Es-02108</td>\n",
              "      <td>@tctelevision @calle7tc Terrible  esto!</td>\n",
              "      <td>a</td>\n",
              "      <td></td>\n",
              "      <td>c</td>\n",
              "      <td></td>\n",
              "      <td></td>\n",
              "      <td></td>\n",
              "      <td></td>\n",
              "      <td></td>\n",
              "      <td>i</td>\n",
              "      <td></td>\n",
              "      <td></td>\n",
              "      <td>aci</td>\n",
              "      <td>25</td>\n",
              "    </tr>\n",
              "    <tr>\n",
              "      <th>8</th>\n",
              "      <td>2018-Es-00795</td>\n",
              "      <td>Para tristeza y felicidad, Ed Sheeran al rescate.🙃</td>\n",
              "      <td></td>\n",
              "      <td></td>\n",
              "      <td></td>\n",
              "      <td></td>\n",
              "      <td>e</td>\n",
              "      <td></td>\n",
              "      <td></td>\n",
              "      <td></td>\n",
              "      <td>i</td>\n",
              "      <td></td>\n",
              "      <td></td>\n",
              "      <td>ei</td>\n",
              "      <td>151</td>\n",
              "    </tr>\n",
              "    <tr>\n",
              "      <th>9</th>\n",
              "      <td>2018-Es-02243</td>\n",
              "      <td>Con razon mi vieja se fue rapido a Santa Fe sin invitarme, no queria que me tatue denuevo</td>\n",
              "      <td></td>\n",
              "      <td></td>\n",
              "      <td></td>\n",
              "      <td></td>\n",
              "      <td></td>\n",
              "      <td></td>\n",
              "      <td></td>\n",
              "      <td>h</td>\n",
              "      <td></td>\n",
              "      <td></td>\n",
              "      <td></td>\n",
              "      <td>h</td>\n",
              "      <td>172</td>\n",
              "    </tr>\n",
              "    <tr>\n",
              "      <th>10</th>\n",
              "      <td>2018-Es-03082</td>\n",
              "      <td>Lo lindo de sentir cerca a esa gente con la que compartiste tanto, eso es amistad! 😍 Soy una afortunada de tener a la gente que me rodea! ❤</td>\n",
              "      <td></td>\n",
              "      <td></td>\n",
              "      <td></td>\n",
              "      <td></td>\n",
              "      <td>e</td>\n",
              "      <td>f</td>\n",
              "      <td></td>\n",
              "      <td></td>\n",
              "      <td></td>\n",
              "      <td></td>\n",
              "      <td></td>\n",
              "      <td>ef</td>\n",
              "      <td>138</td>\n",
              "    </tr>\n",
              "    <tr>\n",
              "      <th>11</th>\n",
              "      <td>2018-Es-04296</td>\n",
              "      <td>Qué perra rabia cuando tienes sueño pero no puedes dormir, no lo entiendo.</td>\n",
              "      <td>a</td>\n",
              "      <td></td>\n",
              "      <td></td>\n",
              "      <td></td>\n",
              "      <td></td>\n",
              "      <td></td>\n",
              "      <td></td>\n",
              "      <td></td>\n",
              "      <td></td>\n",
              "      <td></td>\n",
              "      <td></td>\n",
              "      <td>a</td>\n",
              "      <td>1</td>\n",
              "    </tr>\n",
              "    <tr>\n",
              "      <th>12</th>\n",
              "      <td>2018-Es-06944</td>\n",
              "      <td>Le dije por su nombre y cerró la cuenta 😆</td>\n",
              "      <td>a</td>\n",
              "      <td></td>\n",
              "      <td></td>\n",
              "      <td></td>\n",
              "      <td>e</td>\n",
              "      <td></td>\n",
              "      <td></td>\n",
              "      <td></td>\n",
              "      <td>i</td>\n",
              "      <td></td>\n",
              "      <td></td>\n",
              "      <td>aei</td>\n",
              "      <td>40</td>\n",
              "    </tr>\n",
              "    <tr>\n",
              "      <th>13</th>\n",
              "      <td>2018-Es-03502</td>\n",
              "      <td>@LastiriAriel una pintura para mañana creo q tuve q haberme preocupado un poquito antes🤦🏻</td>\n",
              "      <td></td>\n",
              "      <td></td>\n",
              "      <td></td>\n",
              "      <td></td>\n",
              "      <td></td>\n",
              "      <td></td>\n",
              "      <td></td>\n",
              "      <td>h</td>\n",
              "      <td></td>\n",
              "      <td></td>\n",
              "      <td></td>\n",
              "      <td>h</td>\n",
              "      <td>172</td>\n",
              "    </tr>\n",
              "    <tr>\n",
              "      <th>14</th>\n",
              "      <td>2018-Es-06713</td>\n",
              "      <td>@NANCYPAZOS manipularon los resultados de las Pazos... ahora una mesa pro militar...</td>\n",
              "      <td>a</td>\n",
              "      <td></td>\n",
              "      <td>c</td>\n",
              "      <td></td>\n",
              "      <td></td>\n",
              "      <td></td>\n",
              "      <td></td>\n",
              "      <td></td>\n",
              "      <td></td>\n",
              "      <td></td>\n",
              "      <td></td>\n",
              "      <td>ac</td>\n",
              "      <td>13</td>\n",
              "    </tr>\n",
              "    <tr>\n",
              "      <th>15</th>\n",
              "      <td>2018-Es-04753</td>\n",
              "      <td>@wichouya Que diosito te escuche jaja</td>\n",
              "      <td></td>\n",
              "      <td></td>\n",
              "      <td></td>\n",
              "      <td></td>\n",
              "      <td>e</td>\n",
              "      <td></td>\n",
              "      <td>g</td>\n",
              "      <td></td>\n",
              "      <td></td>\n",
              "      <td></td>\n",
              "      <td></td>\n",
              "      <td>eg</td>\n",
              "      <td>144</td>\n",
              "    </tr>\n",
              "    <tr>\n",
              "      <th>16</th>\n",
              "      <td>2018-Es-02247</td>\n",
              "      <td>Que bien se siente pelear de nuevo, aunque esté bien tronco</td>\n",
              "      <td>a</td>\n",
              "      <td></td>\n",
              "      <td></td>\n",
              "      <td></td>\n",
              "      <td>e</td>\n",
              "      <td></td>\n",
              "      <td></td>\n",
              "      <td></td>\n",
              "      <td></td>\n",
              "      <td></td>\n",
              "      <td></td>\n",
              "      <td>ae</td>\n",
              "      <td>36</td>\n",
              "    </tr>\n",
              "    <tr>\n",
              "      <th>17</th>\n",
              "      <td>2018-Es-04968</td>\n",
              "      <td>@DebRyanShow #Rayito Falsa alarma 🚨 sigo sacando ideas de mi cabeza 😉</td>\n",
              "      <td></td>\n",
              "      <td></td>\n",
              "      <td></td>\n",
              "      <td></td>\n",
              "      <td>e</td>\n",
              "      <td></td>\n",
              "      <td>g</td>\n",
              "      <td></td>\n",
              "      <td></td>\n",
              "      <td></td>\n",
              "      <td></td>\n",
              "      <td>eg</td>\n",
              "      <td>144</td>\n",
              "    </tr>\n",
              "    <tr>\n",
              "      <th>18</th>\n",
              "      <td>2018-Es-04737</td>\n",
              "      <td>El David no me quiere jugar más a la play jajajajaja 6 le metí</td>\n",
              "      <td></td>\n",
              "      <td></td>\n",
              "      <td></td>\n",
              "      <td></td>\n",
              "      <td>e</td>\n",
              "      <td></td>\n",
              "      <td></td>\n",
              "      <td></td>\n",
              "      <td></td>\n",
              "      <td></td>\n",
              "      <td></td>\n",
              "      <td>e</td>\n",
              "      <td>137</td>\n",
              "    </tr>\n",
              "    <tr>\n",
              "      <th>19</th>\n",
              "      <td>2018-Es-05998</td>\n",
              "      <td>@fiooresilva Fuera de joda si vi a tu hermana, vos sos la unica amargada que no sale nunca!!</td>\n",
              "      <td>a</td>\n",
              "      <td></td>\n",
              "      <td>c</td>\n",
              "      <td></td>\n",
              "      <td></td>\n",
              "      <td></td>\n",
              "      <td></td>\n",
              "      <td></td>\n",
              "      <td>i</td>\n",
              "      <td></td>\n",
              "      <td></td>\n",
              "      <td>aci</td>\n",
              "      <td>25</td>\n",
              "    </tr>\n",
              "  </tbody>\n",
              "</table>\n",
              "</div>\n",
              "      <button class=\"colab-df-convert\" onclick=\"convertToInteractive('df-d9661caa-eea4-4104-bb82-29db686adf15')\"\n",
              "              title=\"Convert this dataframe to an interactive table.\"\n",
              "              style=\"display:none;\">\n",
              "        \n",
              "  <svg xmlns=\"http://www.w3.org/2000/svg\" height=\"24px\"viewBox=\"0 0 24 24\"\n",
              "       width=\"24px\">\n",
              "    <path d=\"M0 0h24v24H0V0z\" fill=\"none\"/>\n",
              "    <path d=\"M18.56 5.44l.94 2.06.94-2.06 2.06-.94-2.06-.94-.94-2.06-.94 2.06-2.06.94zm-11 1L8.5 8.5l.94-2.06 2.06-.94-2.06-.94L8.5 2.5l-.94 2.06-2.06.94zm10 10l.94 2.06.94-2.06 2.06-.94-2.06-.94-.94-2.06-.94 2.06-2.06.94z\"/><path d=\"M17.41 7.96l-1.37-1.37c-.4-.4-.92-.59-1.43-.59-.52 0-1.04.2-1.43.59L10.3 9.45l-7.72 7.72c-.78.78-.78 2.05 0 2.83L4 21.41c.39.39.9.59 1.41.59.51 0 1.02-.2 1.41-.59l7.78-7.78 2.81-2.81c.8-.78.8-2.07 0-2.86zM5.41 20L4 18.59l7.72-7.72 1.47 1.35L5.41 20z\"/>\n",
              "  </svg>\n",
              "      </button>\n",
              "      \n",
              "  <style>\n",
              "    .colab-df-container {\n",
              "      display:flex;\n",
              "      flex-wrap:wrap;\n",
              "      gap: 12px;\n",
              "    }\n",
              "\n",
              "    .colab-df-convert {\n",
              "      background-color: #E8F0FE;\n",
              "      border: none;\n",
              "      border-radius: 50%;\n",
              "      cursor: pointer;\n",
              "      display: none;\n",
              "      fill: #1967D2;\n",
              "      height: 32px;\n",
              "      padding: 0 0 0 0;\n",
              "      width: 32px;\n",
              "    }\n",
              "\n",
              "    .colab-df-convert:hover {\n",
              "      background-color: #E2EBFA;\n",
              "      box-shadow: 0px 1px 2px rgba(60, 64, 67, 0.3), 0px 1px 3px 1px rgba(60, 64, 67, 0.15);\n",
              "      fill: #174EA6;\n",
              "    }\n",
              "\n",
              "    [theme=dark] .colab-df-convert {\n",
              "      background-color: #3B4455;\n",
              "      fill: #D2E3FC;\n",
              "    }\n",
              "\n",
              "    [theme=dark] .colab-df-convert:hover {\n",
              "      background-color: #434B5C;\n",
              "      box-shadow: 0px 1px 3px 1px rgba(0, 0, 0, 0.15);\n",
              "      filter: drop-shadow(0px 1px 2px rgba(0, 0, 0, 0.3));\n",
              "      fill: #FFFFFF;\n",
              "    }\n",
              "  </style>\n",
              "\n",
              "      <script>\n",
              "        const buttonEl =\n",
              "          document.querySelector('#df-d9661caa-eea4-4104-bb82-29db686adf15 button.colab-df-convert');\n",
              "        buttonEl.style.display =\n",
              "          google.colab.kernel.accessAllowed ? 'block' : 'none';\n",
              "\n",
              "        async function convertToInteractive(key) {\n",
              "          const element = document.querySelector('#df-d9661caa-eea4-4104-bb82-29db686adf15');\n",
              "          const dataTable =\n",
              "            await google.colab.kernel.invokeFunction('convertToInteractive',\n",
              "                                                     [key], {});\n",
              "          if (!dataTable) return;\n",
              "\n",
              "          const docLinkHtml = 'Like what you see? Visit the ' +\n",
              "            '<a target=\"_blank\" href=https://colab.research.google.com/notebooks/data_table.ipynb>data table notebook</a>'\n",
              "            + ' to learn more about interactive tables.';\n",
              "          element.innerHTML = '';\n",
              "          dataTable['output_type'] = 'display_data';\n",
              "          await google.colab.output.renderOutput(dataTable, element);\n",
              "          const docLink = document.createElement('div');\n",
              "          docLink.innerHTML = docLinkHtml;\n",
              "          element.appendChild(docLink);\n",
              "        }\n",
              "      </script>\n",
              "    </div>\n",
              "  </div>\n",
              "  "
            ]
          },
          "metadata": {},
          "execution_count": 8
        }
      ]
    },
    {
      "cell_type": "code",
      "source": [
        "le = preprocessing.LabelEncoder()\n",
        "df['target_anger'] = le.fit_transform(df.anger)"
      ],
      "metadata": {
        "id": "BuMZqoBe1Vi7"
      },
      "execution_count": 35,
      "outputs": []
    },
    {
      "cell_type": "code",
      "source": [
        "df_final = df[['Tweet','target_anger']]\n",
        "df_final"
      ],
      "metadata": {
        "id": "L1dc5vLRyrAE",
        "outputId": "3bf3406f-193d-48c0-e896-9d68c00cf41a",
        "colab": {
          "base_uri": "https://localhost:8080/",
          "height": 424
        }
      },
      "execution_count": 36,
      "outputs": [
        {
          "output_type": "execute_result",
          "data": {
            "text/plain": [
              "                                                                                                                                  Tweet  \\\n",
              "0                                                                            ajajjaa ser del clan twittera perdido pa evento importante   \n",
              "1                                                                                el malo suerte del gato fichame el cara de help yo pls   \n",
              "2                                            a yo tampoco yo agradar mucho ese especialmente por tratar él de él no haber justificación   \n",
              "3               para llevar a el beb de uno lugar a otro deber cantar él canción    querer cantarl gunaa nibiín el lloronar en zapoteco   \n",
              "4            yo encantar el terrible hipocresia y doble moral que tener este gente claro cuando él tú él quitar ilegalmente no importar   \n",
              "...                                                                                                                                 ...   \n",
              "3556                                        ahorita querer que mi preocupación más grande ser no poder ir festival de música y ese cosa   \n",
              "3557   el mayor criminal del país decir él delincuente a nuestro vicepresidente constitucional irónico quemássepuedeesperardeesasbasura   \n",
              "3558  mi prima de 4 año él haber enfadar yo porque él haber explicar de el azul no ser solo de chico ni el rosa de chica que él enseñar   \n",
              "3559                                                                                                                 jajajar    ya seee   \n",
              "3560                                                                querer abrazar querer querer yo hacer falta el cariño de mi gente 🙁   \n",
              "\n",
              "      target_anger  \n",
              "0                0  \n",
              "1                0  \n",
              "2                1  \n",
              "3                0  \n",
              "4                1  \n",
              "...            ...  \n",
              "3556             0  \n",
              "3557             1  \n",
              "3558             1  \n",
              "3559             0  \n",
              "3560             0  \n",
              "\n",
              "[3561 rows x 2 columns]"
            ],
            "text/html": [
              "\n",
              "  <div id=\"df-564fc94e-785f-4294-823c-dd9d2bbe3943\">\n",
              "    <div class=\"colab-df-container\">\n",
              "      <div>\n",
              "<style scoped>\n",
              "    .dataframe tbody tr th:only-of-type {\n",
              "        vertical-align: middle;\n",
              "    }\n",
              "\n",
              "    .dataframe tbody tr th {\n",
              "        vertical-align: top;\n",
              "    }\n",
              "\n",
              "    .dataframe thead th {\n",
              "        text-align: right;\n",
              "    }\n",
              "</style>\n",
              "<table border=\"1\" class=\"dataframe\">\n",
              "  <thead>\n",
              "    <tr style=\"text-align: right;\">\n",
              "      <th></th>\n",
              "      <th>Tweet</th>\n",
              "      <th>target_anger</th>\n",
              "    </tr>\n",
              "  </thead>\n",
              "  <tbody>\n",
              "    <tr>\n",
              "      <th>0</th>\n",
              "      <td>ajajjaa ser del clan twittera perdido pa evento importante</td>\n",
              "      <td>0</td>\n",
              "    </tr>\n",
              "    <tr>\n",
              "      <th>1</th>\n",
              "      <td>el malo suerte del gato fichame el cara de help yo pls</td>\n",
              "      <td>0</td>\n",
              "    </tr>\n",
              "    <tr>\n",
              "      <th>2</th>\n",
              "      <td>a yo tampoco yo agradar mucho ese especialmente por tratar él de él no haber justificación</td>\n",
              "      <td>1</td>\n",
              "    </tr>\n",
              "    <tr>\n",
              "      <th>3</th>\n",
              "      <td>para llevar a el beb de uno lugar a otro deber cantar él canción    querer cantarl gunaa nibiín el lloronar en zapoteco</td>\n",
              "      <td>0</td>\n",
              "    </tr>\n",
              "    <tr>\n",
              "      <th>4</th>\n",
              "      <td>yo encantar el terrible hipocresia y doble moral que tener este gente claro cuando él tú él quitar ilegalmente no importar</td>\n",
              "      <td>1</td>\n",
              "    </tr>\n",
              "    <tr>\n",
              "      <th>...</th>\n",
              "      <td>...</td>\n",
              "      <td>...</td>\n",
              "    </tr>\n",
              "    <tr>\n",
              "      <th>3556</th>\n",
              "      <td>ahorita querer que mi preocupación más grande ser no poder ir festival de música y ese cosa</td>\n",
              "      <td>0</td>\n",
              "    </tr>\n",
              "    <tr>\n",
              "      <th>3557</th>\n",
              "      <td>el mayor criminal del país decir él delincuente a nuestro vicepresidente constitucional irónico quemássepuedeesperardeesasbasura</td>\n",
              "      <td>1</td>\n",
              "    </tr>\n",
              "    <tr>\n",
              "      <th>3558</th>\n",
              "      <td>mi prima de 4 año él haber enfadar yo porque él haber explicar de el azul no ser solo de chico ni el rosa de chica que él enseñar</td>\n",
              "      <td>1</td>\n",
              "    </tr>\n",
              "    <tr>\n",
              "      <th>3559</th>\n",
              "      <td>jajajar    ya seee</td>\n",
              "      <td>0</td>\n",
              "    </tr>\n",
              "    <tr>\n",
              "      <th>3560</th>\n",
              "      <td>querer abrazar querer querer yo hacer falta el cariño de mi gente 🙁</td>\n",
              "      <td>0</td>\n",
              "    </tr>\n",
              "  </tbody>\n",
              "</table>\n",
              "<p>3561 rows × 2 columns</p>\n",
              "</div>\n",
              "      <button class=\"colab-df-convert\" onclick=\"convertToInteractive('df-564fc94e-785f-4294-823c-dd9d2bbe3943')\"\n",
              "              title=\"Convert this dataframe to an interactive table.\"\n",
              "              style=\"display:none;\">\n",
              "        \n",
              "  <svg xmlns=\"http://www.w3.org/2000/svg\" height=\"24px\"viewBox=\"0 0 24 24\"\n",
              "       width=\"24px\">\n",
              "    <path d=\"M0 0h24v24H0V0z\" fill=\"none\"/>\n",
              "    <path d=\"M18.56 5.44l.94 2.06.94-2.06 2.06-.94-2.06-.94-.94-2.06-.94 2.06-2.06.94zm-11 1L8.5 8.5l.94-2.06 2.06-.94-2.06-.94L8.5 2.5l-.94 2.06-2.06.94zm10 10l.94 2.06.94-2.06 2.06-.94-2.06-.94-.94-2.06-.94 2.06-2.06.94z\"/><path d=\"M17.41 7.96l-1.37-1.37c-.4-.4-.92-.59-1.43-.59-.52 0-1.04.2-1.43.59L10.3 9.45l-7.72 7.72c-.78.78-.78 2.05 0 2.83L4 21.41c.39.39.9.59 1.41.59.51 0 1.02-.2 1.41-.59l7.78-7.78 2.81-2.81c.8-.78.8-2.07 0-2.86zM5.41 20L4 18.59l7.72-7.72 1.47 1.35L5.41 20z\"/>\n",
              "  </svg>\n",
              "      </button>\n",
              "      \n",
              "  <style>\n",
              "    .colab-df-container {\n",
              "      display:flex;\n",
              "      flex-wrap:wrap;\n",
              "      gap: 12px;\n",
              "    }\n",
              "\n",
              "    .colab-df-convert {\n",
              "      background-color: #E8F0FE;\n",
              "      border: none;\n",
              "      border-radius: 50%;\n",
              "      cursor: pointer;\n",
              "      display: none;\n",
              "      fill: #1967D2;\n",
              "      height: 32px;\n",
              "      padding: 0 0 0 0;\n",
              "      width: 32px;\n",
              "    }\n",
              "\n",
              "    .colab-df-convert:hover {\n",
              "      background-color: #E2EBFA;\n",
              "      box-shadow: 0px 1px 2px rgba(60, 64, 67, 0.3), 0px 1px 3px 1px rgba(60, 64, 67, 0.15);\n",
              "      fill: #174EA6;\n",
              "    }\n",
              "\n",
              "    [theme=dark] .colab-df-convert {\n",
              "      background-color: #3B4455;\n",
              "      fill: #D2E3FC;\n",
              "    }\n",
              "\n",
              "    [theme=dark] .colab-df-convert:hover {\n",
              "      background-color: #434B5C;\n",
              "      box-shadow: 0px 1px 3px 1px rgba(0, 0, 0, 0.15);\n",
              "      filter: drop-shadow(0px 1px 2px rgba(0, 0, 0, 0.3));\n",
              "      fill: #FFFFFF;\n",
              "    }\n",
              "  </style>\n",
              "\n",
              "      <script>\n",
              "        const buttonEl =\n",
              "          document.querySelector('#df-564fc94e-785f-4294-823c-dd9d2bbe3943 button.colab-df-convert');\n",
              "        buttonEl.style.display =\n",
              "          google.colab.kernel.accessAllowed ? 'block' : 'none';\n",
              "\n",
              "        async function convertToInteractive(key) {\n",
              "          const element = document.querySelector('#df-564fc94e-785f-4294-823c-dd9d2bbe3943');\n",
              "          const dataTable =\n",
              "            await google.colab.kernel.invokeFunction('convertToInteractive',\n",
              "                                                     [key], {});\n",
              "          if (!dataTable) return;\n",
              "\n",
              "          const docLinkHtml = 'Like what you see? Visit the ' +\n",
              "            '<a target=\"_blank\" href=https://colab.research.google.com/notebooks/data_table.ipynb>data table notebook</a>'\n",
              "            + ' to learn more about interactive tables.';\n",
              "          element.innerHTML = '';\n",
              "          dataTable['output_type'] = 'display_data';\n",
              "          await google.colab.output.renderOutput(dataTable, element);\n",
              "          const docLink = document.createElement('div');\n",
              "          docLink.innerHTML = docLinkHtml;\n",
              "          element.appendChild(docLink);\n",
              "        }\n",
              "      </script>\n",
              "    </div>\n",
              "  </div>\n",
              "  "
            ]
          },
          "metadata": {},
          "execution_count": 36
        }
      ]
    },
    {
      "cell_type": "code",
      "source": [
        ""
      ],
      "metadata": {
        "id": "nxcnYux2yvUH"
      },
      "execution_count": null,
      "outputs": []
    },
    {
      "cell_type": "markdown",
      "source": [
        "# Limpiamos los datos"
      ],
      "metadata": {
        "id": "TQaeu3Fqy17t"
      }
    },
    {
      "cell_type": "code",
      "source": [
        "import re, string, spacy\n",
        "nlp=spacy.load('es_core_news_md')\n",
        "\n",
        "pattern2 = re.compile('[{}]'.format(re.escape(string.punctuation))) #elimina símbolos de puntuación\n",
        "\n",
        "def clean_text(text, lemas=False):\n",
        "    \"\"\"Limpiamos las menciones y URL del texto. Luego convertimos en tokens\n",
        "    y eliminamos signos de puntuación.\n",
        "    Si lemas=True extraemos el lema, si no dejamos en minúsculas solamente.\n",
        "    Como salida volvemos a convertir los tokens en cadena de texto\"\"\"\n",
        "    text = re.sub(r'@[\\w_]+|https?://[\\w_./]+', '', text) #elimina menciones y URL\n",
        "    tokens = nlp(text)\n",
        "    tokens = [tok.lemma_.lower() if lemas else tok.lower_ for tok in tokens if not tok.is_punct]\n",
        "    filtered_tokens = [pattern2.sub('', tok) for tok in tokens] #no quitamos stop-words\n",
        "    filtered_text = ' '.join(filtered_tokens)\n",
        "    \n",
        "    return filtered_text\n",
        "    "
      ],
      "metadata": {
        "id": "mHwJxvSZy3_m"
      },
      "execution_count": 37,
      "outputs": []
    },
    {
      "cell_type": "markdown",
      "source": [
        "## Preparamos el conjunto de datos\n",
        "Convertimos el texto en *tokens* y asignamos una ID numérica a cada token.  \n",
        "Convertimos a secuencias de longitud fija.  \n",
        "La longitud de la secuencia viene dada por la longitud en tokens del tweet más largo. Sólo se conservan los tokens de las palabras en el vocabulario."
      ],
      "metadata": {
        "id": "pqNb5GS4zD6R"
      }
    },
    {
      "cell_type": "code",
      "source": [
        "#limpiamos texto y quitamos tweets que se han quedado vacíos\n",
        "df.Tweet=df.Tweet.apply(clean_text, lemas=True)\n",
        "df = df[df['Tweet']!='']\n",
        "\n",
        "#Enviamos a Y los codigos asignados por label encodr, hay que convertir a numérico para Keras\n",
        "Y=df.target_anger\n",
        "\n",
        "#Separamos entrenamiento y test\n",
        "tweets_train, tweets_test, Y_train, Y_test = train_test_split(df.Tweet,Y, test_size = 0.3, random_state = 42)"
      ],
      "metadata": {
        "id": "j26wq7lazAGC"
      },
      "execution_count": 46,
      "outputs": []
    },
    {
      "cell_type": "code",
      "source": [
        "#Tokenizamos los textos\n",
        "tokenizer = Tokenizer(split=' ')\n",
        "tokenizer.fit_on_texts(tweets_train.values)\n",
        "X_train = tokenizer.texts_to_sequences(tweets_train.values)\n",
        "X_train = pad_sequences(X_train, padding='post')\n",
        "word_index = tokenizer.word_index\n",
        "print(f'Número de tokens distintos: {len(word_index)}')\n",
        "MAX_SEQUENCE_LENGTH = X_train.shape[1]\n",
        "max_features = len(word_index)+1\n",
        "X_test = tokenizer.texts_to_sequences(tweets_test.values)\n",
        "X_test = pad_sequences(X_test, padding='post', maxlen=MAX_SEQUENCE_LENGTH)"
      ],
      "metadata": {
        "id": "c6LheqxtzETU",
        "outputId": "a22bb548-6280-41cf-9f3d-e7667df1734f",
        "colab": {
          "base_uri": "https://localhost:8080/"
        }
      },
      "execution_count": 47,
      "outputs": [
        {
          "output_type": "stream",
          "name": "stdout",
          "text": [
            "Número de tokens distintos: 5632\n"
          ]
        }
      ]
    },
    {
      "cell_type": "code",
      "source": [
        "tokenizer.document_count"
      ],
      "metadata": {
        "id": "2pOWqGBgznEg",
        "outputId": "cd26cc5d-f7b6-40a5-a08e-1e5b12cf7005",
        "colab": {
          "base_uri": "https://localhost:8080/"
        }
      },
      "execution_count": 48,
      "outputs": [
        {
          "output_type": "execute_result",
          "data": {
            "text/plain": [
              "2492"
            ]
          },
          "metadata": {},
          "execution_count": 48
        }
      ]
    },
    {
      "cell_type": "code",
      "source": [
        "print(X_train.shape,Y_train.shape)\n",
        "print(X_test.shape,Y_test.shape)"
      ],
      "metadata": {
        "id": "6Y6BHZUDzq7p",
        "outputId": "48eb98c8-62a3-4b5f-919a-ecbed4abe76a",
        "colab": {
          "base_uri": "https://localhost:8080/"
        }
      },
      "execution_count": 49,
      "outputs": [
        {
          "output_type": "stream",
          "name": "stdout",
          "text": [
            "(2492, 33) (2492,)\n",
            "(1069, 33) (1069,)\n"
          ]
        }
      ]
    },
    {
      "cell_type": "code",
      "source": [
        "print(\"Clases:\", df_final.target_anger.nunique())"
      ],
      "metadata": {
        "id": "ytqQKeKJ0jJw",
        "outputId": "977841bd-e087-4e8e-c2fb-7fb32f86a71c",
        "colab": {
          "base_uri": "https://localhost:8080/"
        }
      },
      "execution_count": 50,
      "outputs": [
        {
          "output_type": "stream",
          "name": "stdout",
          "text": [
            "Clases: 2\n"
          ]
        }
      ]
    },
    {
      "cell_type": "markdown",
      "source": [
        "#Modelo Convolucional"
      ],
      "metadata": {
        "id": "CI85FBrP7PV8"
      }
    },
    {
      "cell_type": "markdown",
      "source": [
        "## Preparacion del Modelo"
      ],
      "metadata": {
        "id": "-1H0Yf0Nzw8m"
      }
    },
    {
      "cell_type": "code",
      "source": [
        "#Creamos el modelo CNN en Keras\n",
        "#pero quitamos la capa oculta intermedia para simplificar el modelo y dejarlo como en el artículo\n",
        "\n",
        "#Parámetros de la red\n",
        "embed_dim = 50\n",
        "filters = 64\n",
        "kernel_size = 3\n",
        "\n",
        "model = Sequential()\n",
        "model.add(Embedding(max_features, embed_dim, input_length = MAX_SEQUENCE_LENGTH))\n",
        "model.add(Dropout(0.2))\n",
        "\n",
        "# añadimos una capa de convolución 1D que aprende\n",
        "# filtros de grupos de palabras de tamaño kernel_size\n",
        "model.add(Conv1D(filters,\n",
        "                 kernel_size,\n",
        "                 padding='valid',\n",
        "                 activation='relu',\n",
        "                 strides=1))\n",
        "\n",
        "# calculamos el max pooling:\n",
        "model.add(GlobalMaxPooling1D())\n",
        "\n",
        "# conectamos a una capa de salida de una unidad con activación relu\n",
        "model.add(Dense(1))\n",
        "model.add(Activation('sigmoid'))\n",
        "\n",
        "# compilamos el modelo\n",
        "model.compile(loss='binary_crossentropy',\n",
        "              optimizer='adam',\n",
        "              metrics=['accuracy'])\n",
        "print(model.summary())"
      ],
      "metadata": {
        "id": "i35jj_VBzyJx",
        "outputId": "7d9570cf-727a-4b9d-8ce9-b5c426571f9a",
        "colab": {
          "base_uri": "https://localhost:8080/"
        }
      },
      "execution_count": 51,
      "outputs": [
        {
          "output_type": "stream",
          "name": "stdout",
          "text": [
            "Model: \"sequential_9\"\n",
            "_________________________________________________________________\n",
            " Layer (type)                Output Shape              Param #   \n",
            "=================================================================\n",
            " embedding_9 (Embedding)     (None, 33, 50)            281650    \n",
            "                                                                 \n",
            " dropout_9 (Dropout)         (None, 33, 50)            0         \n",
            "                                                                 \n",
            " conv1d_9 (Conv1D)           (None, 31, 64)            9664      \n",
            "                                                                 \n",
            " global_max_pooling1d_9 (Glo  (None, 64)               0         \n",
            " balMaxPooling1D)                                                \n",
            "                                                                 \n",
            " dense_9 (Dense)             (None, 1)                 65        \n",
            "                                                                 \n",
            " activation_9 (Activation)   (None, 1)                 0         \n",
            "                                                                 \n",
            "=================================================================\n",
            "Total params: 291,379\n",
            "Trainable params: 291,379\n",
            "Non-trainable params: 0\n",
            "_________________________________________________________________\n",
            "None\n"
          ]
        }
      ]
    },
    {
      "cell_type": "markdown",
      "source": [
        "## Entrenamos"
      ],
      "metadata": {
        "id": "RzFTTu_D0LFP"
      }
    },
    {
      "cell_type": "code",
      "source": [
        "batch_size = 16\n",
        "history = model.fit(X_train, Y_train, epochs=20, batch_size=batch_size, verbose=2, validation_data=(X_test, Y_test))"
      ],
      "metadata": {
        "id": "DG9P_V_ozyvf",
        "outputId": "0cc7e5ac-ec90-4483-bbf9-342326107b87",
        "colab": {
          "base_uri": "https://localhost:8080/"
        }
      },
      "execution_count": 52,
      "outputs": [
        {
          "output_type": "stream",
          "name": "stdout",
          "text": [
            "Epoch 1/20\n",
            "156/156 - 1s - loss: 0.6365 - accuracy: 0.6573 - val_loss: 0.6197 - val_accuracy: 0.6745 - 1s/epoch - 9ms/step\n",
            "Epoch 2/20\n",
            "156/156 - 1s - loss: 0.5506 - accuracy: 0.7147 - val_loss: 0.5046 - val_accuracy: 0.7699 - 671ms/epoch - 4ms/step\n",
            "Epoch 3/20\n",
            "156/156 - 1s - loss: 0.3461 - accuracy: 0.8511 - val_loss: 0.4968 - val_accuracy: 0.7727 - 675ms/epoch - 4ms/step\n",
            "Epoch 4/20\n",
            "156/156 - 1s - loss: 0.1880 - accuracy: 0.9354 - val_loss: 0.5600 - val_accuracy: 0.7699 - 656ms/epoch - 4ms/step\n",
            "Epoch 5/20\n",
            "156/156 - 1s - loss: 0.0931 - accuracy: 0.9767 - val_loss: 0.6586 - val_accuracy: 0.7708 - 677ms/epoch - 4ms/step\n",
            "Epoch 6/20\n",
            "156/156 - 1s - loss: 0.0544 - accuracy: 0.9904 - val_loss: 0.7477 - val_accuracy: 0.7587 - 673ms/epoch - 4ms/step\n",
            "Epoch 7/20\n",
            "156/156 - 1s - loss: 0.0338 - accuracy: 0.9940 - val_loss: 0.8088 - val_accuracy: 0.7512 - 649ms/epoch - 4ms/step\n",
            "Epoch 8/20\n",
            "156/156 - 1s - loss: 0.0260 - accuracy: 0.9948 - val_loss: 0.8712 - val_accuracy: 0.7493 - 670ms/epoch - 4ms/step\n",
            "Epoch 9/20\n",
            "156/156 - 1s - loss: 0.0160 - accuracy: 0.9972 - val_loss: 0.9176 - val_accuracy: 0.7512 - 657ms/epoch - 4ms/step\n",
            "Epoch 10/20\n",
            "156/156 - 1s - loss: 0.0135 - accuracy: 0.9984 - val_loss: 0.9615 - val_accuracy: 0.7540 - 680ms/epoch - 4ms/step\n",
            "Epoch 11/20\n",
            "156/156 - 1s - loss: 0.0088 - accuracy: 0.9980 - val_loss: 1.0115 - val_accuracy: 0.7577 - 684ms/epoch - 4ms/step\n",
            "Epoch 12/20\n",
            "156/156 - 1s - loss: 0.0072 - accuracy: 0.9988 - val_loss: 1.0464 - val_accuracy: 0.7549 - 648ms/epoch - 4ms/step\n",
            "Epoch 13/20\n",
            "156/156 - 1s - loss: 0.0049 - accuracy: 0.9996 - val_loss: 1.0898 - val_accuracy: 0.7540 - 679ms/epoch - 4ms/step\n",
            "Epoch 14/20\n",
            "156/156 - 1s - loss: 0.0069 - accuracy: 0.9988 - val_loss: 1.1268 - val_accuracy: 0.7530 - 671ms/epoch - 4ms/step\n",
            "Epoch 15/20\n",
            "156/156 - 1s - loss: 0.0069 - accuracy: 0.9980 - val_loss: 1.1399 - val_accuracy: 0.7540 - 634ms/epoch - 4ms/step\n",
            "Epoch 16/20\n",
            "156/156 - 1s - loss: 0.0029 - accuracy: 0.9992 - val_loss: 1.1732 - val_accuracy: 0.7530 - 652ms/epoch - 4ms/step\n",
            "Epoch 17/20\n",
            "156/156 - 1s - loss: 0.0047 - accuracy: 0.9984 - val_loss: 1.1890 - val_accuracy: 0.7521 - 658ms/epoch - 4ms/step\n",
            "Epoch 18/20\n",
            "156/156 - 1s - loss: 0.0053 - accuracy: 0.9988 - val_loss: 1.2187 - val_accuracy: 0.7437 - 684ms/epoch - 4ms/step\n",
            "Epoch 19/20\n",
            "156/156 - 1s - loss: 0.0027 - accuracy: 0.9996 - val_loss: 1.2712 - val_accuracy: 0.7549 - 680ms/epoch - 4ms/step\n",
            "Epoch 20/20\n",
            "156/156 - 1s - loss: 0.0035 - accuracy: 0.9996 - val_loss: 1.2646 - val_accuracy: 0.7428 - 693ms/epoch - 4ms/step\n"
          ]
        }
      ]
    },
    {
      "cell_type": "markdown",
      "source": [
        "## Visualizamos el aprendizaje"
      ],
      "metadata": {
        "id": "QbYO8DX15EAE"
      }
    },
    {
      "cell_type": "code",
      "source": [
        "# Plot training & validation accuracy values\n",
        "plt.plot(history.history['accuracy'])\n",
        "plt.plot(history.history['val_accuracy'])\n",
        "plt.title('TF con WE FastText')\n",
        "plt.ylabel('Accuracy')\n",
        "plt.xlabel('Epoch')\n",
        "plt.legend(['Train', 'Test'], loc='upper left')\n",
        "plt.show()"
      ],
      "metadata": {
        "id": "DCinYtF94WM3",
        "outputId": "1eb02154-2a32-45e3-aa6c-8426e7c94693",
        "colab": {
          "base_uri": "https://localhost:8080/",
          "height": 295
        }
      },
      "execution_count": 69,
      "outputs": [
        {
          "output_type": "display_data",
          "data": {
            "text/plain": [
              "<Figure size 432x288 with 1 Axes>"
            ],
            "image/png": "[encoded data removed]"
          },
          "metadata": {
            "needs_background": "light"
          }
        }
      ]
    },
    {
      "cell_type": "markdown",
      "source": [
        "## Inferencias al modelo"
      ],
      "metadata": {
        "id": "1ssbhLB_2h_q"
      }
    },
    {
      "cell_type": "code",
      "source": [
        "twt = 'estoy muy alegre con este viaje'\n",
        "#vectorizing the tweet by the pre-fitted tokenizer instance\n",
        "twt = tokenizer.texts_to_sequences([clean_text(twt, lemas=True)]) #hay que pasar el texto a array\n",
        "twt"
      ],
      "metadata": {
        "id": "tUc7TAYx0MGJ",
        "outputId": "dda6c1b7-f815-426f-9fd1-313d77d09b4d",
        "colab": {
          "base_uri": "https://localhost:8080/"
        }
      },
      "execution_count": 80,
      "outputs": [
        {
          "output_type": "execute_result",
          "data": {
            "text/plain": [
              "[[12, 29, 407, 17, 19, 631]]"
            ]
          },
          "metadata": {},
          "execution_count": 80
        }
      ]
    },
    {
      "cell_type": "code",
      "source": [
        "twt = pad_sequences(twt, maxlen=X_train.shape[1], dtype='int32', padding='post', truncating='post', value=0)\n",
        "twt"
      ],
      "metadata": {
        "id": "kqxr5yoA2mzP",
        "outputId": "774d423b-db11-4d94-abce-1f899063f1cd",
        "colab": {
          "base_uri": "https://localhost:8080/"
        }
      },
      "execution_count": 81,
      "outputs": [
        {
          "output_type": "execute_result",
          "data": {
            "text/plain": [
              "array([[ 12,  29, 407,  17,  19, 631,   0,   0,   0,   0,   0,   0,   0,\n",
              "          0,   0,   0,   0,   0,   0,   0,   0,   0,   0,   0,   0,   0,\n",
              "          0,   0,   0,   0,   0,   0,   0]], dtype=int32)"
            ]
          },
          "metadata": {},
          "execution_count": 81
        }
      ]
    },
    {
      "cell_type": "code",
      "source": [
        "sentiment = model.predict(twt,batch_size=1,verbose = 2)\n",
        "if(np.round(sentiment) == 0):\n",
        "    print(\"Desconocido\")\n",
        "elif (np.round(sentiment) == 1):\n",
        "    print(\"Enojo\")"
      ],
      "metadata": {
        "id": "N5ddy7KT2qyF",
        "outputId": "3f0afc1e-ea23-4bc3-86c5-3f7bd4021d07",
        "colab": {
          "base_uri": "https://localhost:8080/"
        }
      },
      "execution_count": 82,
      "outputs": [
        {
          "output_type": "stream",
          "name": "stdout",
          "text": [
            "1/1 - 0s - 13ms/epoch - 13ms/step\n",
            "Desconocido\n"
          ]
        }
      ]
    },
    {
      "cell_type": "code",
      "source": [
        "sentiment = model.predict(twt,batch_size=1)\n",
        "sentiment"
      ],
      "metadata": {
        "id": "ZsJycvPa218N",
        "outputId": "f74ff5bb-9e70-446c-ceaa-c406346b1c8a",
        "colab": {
          "base_uri": "https://localhost:8080/"
        }
      },
      "execution_count": 83,
      "outputs": [
        {
          "output_type": "execute_result",
          "data": {
            "text/plain": [
              "array([[3.4278487e-06]], dtype=float32)"
            ]
          },
          "metadata": {},
          "execution_count": 83
        }
      ]
    },
    {
      "cell_type": "markdown",
      "source": [
        "# Transfer Learning con Word Embeddings de Glove y RNN"
      ],
      "metadata": {
        "id": "-9iclcf65xAl"
      }
    },
    {
      "cell_type": "code",
      "source": [
        "#Definimos características de la capa RNN\n",
        "\n",
        "RNN_DIM = 50 #Nº de neuronas en la capa RNN\n",
        "RNN_layer = LSTM #usar GRU o LSTM"
      ],
      "metadata": {
        "id": "c5VqsYbv60WQ"
      },
      "execution_count": 93,
      "outputs": []
    },
    {
      "cell_type": "code",
      "source": [
        "#Estimamos el tamaño de vocabulario (parabras con un min_df de 2 en TRAIN)\n",
        "from sklearn.feature_extraction.text import CountVectorizer\n",
        "\n",
        "cv = CountVectorizer(min_df=2)\n",
        "cv.fit(tweets_train)\n",
        "max_features = len(cv.get_feature_names())\n",
        "print('Tamaño vocabulario: {}'.format(max_features))"
      ],
      "metadata": {
        "id": "yLy8_Ual58ph",
        "outputId": "8f621694-2e5a-4c2f-8f79-2c6e59cbd8b4",
        "colab": {
          "base_uri": "https://localhost:8080/"
        }
      },
      "execution_count": 85,
      "outputs": [
        {
          "output_type": "stream",
          "name": "stdout",
          "text": [
            "Tamaño vocabulario: 1763\n"
          ]
        },
        {
          "output_type": "stream",
          "name": "stderr",
          "text": [
            "/usr/local/lib/python3.7/dist-packages/sklearn/utils/deprecation.py:87: FutureWarning: Function get_feature_names is deprecated; get_feature_names is deprecated in 1.0 and will be removed in 1.2. Please use get_feature_names_out instead.\n",
            "  warnings.warn(msg, category=FutureWarning)\n"
          ]
        }
      ]
    },
    {
      "cell_type": "code",
      "source": [
        "MAX_NB_WORDS = max_features+2 #hay que considerar 1 término más para el OOV y otro para el 0\n",
        "tokenizer = Tokenizer(num_words=MAX_NB_WORDS, split=' ', oov_token='OOV')\n",
        "tokenizer.fit_on_texts(tweets_train.values)\n",
        "\n",
        "X_train = tokenizer.texts_to_sequences(tweets_train.values)\n",
        "X_train = pad_sequences(X_train, padding='post')\n",
        "word_index = tokenizer.word_index\n",
        "print('Found %s unique tokens.' % len(word_index))\n",
        "MAX_SEQUENCE_LENGTH = X_train.shape[1]\n",
        "\n",
        "X_test = tokenizer.texts_to_sequences(tweets_test.values)\n",
        "X_test = pad_sequences(X_test, padding='post', maxlen=MAX_SEQUENCE_LENGTH)\n",
        "# Note that you could \"pre\" padding (at the beginning) or\n",
        "# \"post\" padding (at the end).\n",
        "# We recommend using \"post\" padding when working with RNN layers\n",
        "# (in order to be able to use the \n",
        "# CuDNN implementation of the layers)."
      ],
      "metadata": {
        "id": "uG5q8ZDO6RoD",
        "outputId": "910502a4-e586-47b3-dcaf-6b8fdff78370",
        "colab": {
          "base_uri": "https://localhost:8080/"
        }
      },
      "execution_count": 86,
      "outputs": [
        {
          "output_type": "stream",
          "name": "stdout",
          "text": [
            "Found 5633 unique tokens.\n"
          ]
        }
      ]
    },
    {
      "cell_type": "code",
      "source": [
        "#Rellenamos los vectores con el valor en spaCy para la MAX_NB_WORDS palabras más frecuentes\n",
        "nlp=spacy.load('es_core_news_md')\n",
        "\n",
        "\n",
        "EMBEDDING_DIM = nlp.vocab.vectors_length\n",
        "embedding_matrix = np.zeros((MAX_NB_WORDS, EMBEDDING_DIM))\n",
        "vectores = 0\n",
        "for word, i in word_index.items():\n",
        "    if(i<MAX_NB_WORDS):\n",
        "        embedding_vector = nlp.vocab[word].vector\n",
        "        if not np.array_equal(embedding_vector, np.zeros(EMBEDDING_DIM)):\n",
        "            # words not found in embedding index will be all-zeros.\n",
        "            embedding_matrix[i] = embedding_vector\n",
        "            vectores += 1\n",
        "        \n",
        "print(\"Cargados {} vectores en la matriz\".format(vectores))"
      ],
      "metadata": {
        "id": "rGJO1_wc4VV4",
        "outputId": "47f78b2c-2461-436f-e432-876f84de2534",
        "colab": {
          "base_uri": "https://localhost:8080/"
        }
      },
      "execution_count": 87,
      "outputs": [
        {
          "output_type": "stream",
          "name": "stdout",
          "text": [
            "Cargados 1671 vectores en la matriz\n"
          ]
        }
      ]
    },
    {
      "cell_type": "code",
      "source": [
        "print(X_train.shape,Y_train.shape)\n",
        "print(X_test.shape,Y_test.shape)"
      ],
      "metadata": {
        "id": "1y0t9t6c6LNv",
        "outputId": "4aca4e2b-57e4-4bd6-bb71-ed5405f60497",
        "colab": {
          "base_uri": "https://localhost:8080/"
        }
      },
      "execution_count": 88,
      "outputs": [
        {
          "output_type": "stream",
          "name": "stdout",
          "text": [
            "(2492, 33) (2492,)\n",
            "(1069, 33) (1069,)\n"
          ]
        }
      ]
    },
    {
      "cell_type": "code",
      "source": [
        "\n",
        "#Creamos el modelo RNN en Keras usando los embeddings cargados como pesos\n",
        "embedding_layer = Embedding(MAX_NB_WORDS,\n",
        "                            EMBEDDING_DIM,\n",
        "                            weights=[embedding_matrix],\n",
        "                            input_length=MAX_SEQUENCE_LENGTH,\n",
        "                            trainable=False,\n",
        "                            mask_zero=True)\n",
        "\n",
        "model = Sequential()\n",
        "model.add(embedding_layer)\n",
        "model.add(SpatialDropout1D(0.4))\n",
        "model.add(LSTM(RNN_DIM, dropout=0.2, recurrent_dropout=0.2)) #no usamos recurrent_dropout=0.2 por problemas con el M1\n",
        "model.add(Dense(1, activation='sigmoid'))\n",
        "model.compile(loss='binary_crossentropy', optimizer='adam', metrics=['accuracy'])\n",
        "print(model.summary())"
      ],
      "metadata": {
        "id": "6jHHSPvi6cRC",
        "outputId": "ec65e640-be21-48fa-e479-4f9f87a90eaa",
        "colab": {
          "base_uri": "https://localhost:8080/"
        }
      },
      "execution_count": 94,
      "outputs": [
        {
          "output_type": "stream",
          "name": "stdout",
          "text": [
            "WARNING:tensorflow:Layer lstm will not use cuDNN kernels since it doesn't meet the criteria. It will use a generic GPU kernel as fallback when running on GPU.\n",
            "Model: \"sequential_12\"\n",
            "_________________________________________________________________\n",
            " Layer (type)                Output Shape              Param #   \n",
            "=================================================================\n",
            " embedding_12 (Embedding)    (None, 33, 300)           529500    \n",
            "                                                                 \n",
            " spatial_dropout1d_1 (Spatia  (None, 33, 300)          0         \n",
            " lDropout1D)                                                     \n",
            "                                                                 \n",
            " lstm (LSTM)                 (None, 50)                70200     \n",
            "                                                                 \n",
            " dense_10 (Dense)            (None, 1)                 51        \n",
            "                                                                 \n",
            "=================================================================\n",
            "Total params: 599,751\n",
            "Trainable params: 70,251\n",
            "Non-trainable params: 529,500\n",
            "_________________________________________________________________\n",
            "None\n"
          ]
        }
      ]
    },
    {
      "cell_type": "markdown",
      "source": [
        "## Training Model"
      ],
      "metadata": {
        "id": "1OitPZbL66oc"
      }
    },
    {
      "cell_type": "code",
      "source": [
        "batch_size=16\n",
        "history=model.fit(X_train, Y_train, epochs=30, batch_size=batch_size, verbose=10, validation_data=(X_test, Y_test))"
      ],
      "metadata": {
        "id": "En3p07nV6fto",
        "outputId": "ea8189e4-a20c-4363-85e5-6c9dbc2f91b7",
        "colab": {
          "base_uri": "https://localhost:8080/"
        }
      },
      "execution_count": 96,
      "outputs": [
        {
          "output_type": "stream",
          "name": "stdout",
          "text": [
            "Epoch 1/30\n",
            "Epoch 2/30\n",
            "Epoch 3/30\n",
            "Epoch 4/30\n",
            "Epoch 5/30\n",
            "Epoch 6/30\n",
            "Epoch 7/30\n",
            "Epoch 8/30\n",
            "Epoch 9/30\n",
            "Epoch 10/30\n",
            "Epoch 11/30\n",
            "Epoch 12/30\n",
            "Epoch 13/30\n",
            "Epoch 14/30\n",
            "Epoch 15/30\n",
            "Epoch 16/30\n",
            "Epoch 17/30\n",
            "Epoch 18/30\n",
            "Epoch 19/30\n",
            "Epoch 20/30\n",
            "Epoch 21/30\n",
            "Epoch 22/30\n",
            "Epoch 23/30\n",
            "Epoch 24/30\n",
            "Epoch 25/30\n",
            "Epoch 26/30\n",
            "Epoch 27/30\n",
            "Epoch 28/30\n",
            "Epoch 29/30\n",
            "Epoch 30/30\n"
          ]
        }
      ]
    },
    {
      "cell_type": "markdown",
      "source": [
        "## Visualizamos el entrenamiento"
      ],
      "metadata": {
        "id": "DncFvLwZ6-8Q"
      }
    },
    {
      "cell_type": "code",
      "source": [
        "# Plot training & validation accuracy values\n",
        "plt.plot(history.history['accuracy'])\n",
        "plt.plot(history.history['val_accuracy'])\n",
        "plt.title('Modelo WE spaCy fijos')\n",
        "plt.ylabel('Accuracy')\n",
        "plt.xlabel('Epoch')\n",
        "plt.legend(['Train', 'Test'], loc='upper left')\n",
        "plt.show()"
      ],
      "metadata": {
        "id": "uT-kKo6E65r_",
        "outputId": "10f51c5b-4392-4344-cb48-582da0552256",
        "colab": {
          "base_uri": "https://localhost:8080/",
          "height": 295
        }
      },
      "execution_count": 98,
      "outputs": [
        {
          "output_type": "display_data",
          "data": {
            "text/plain": [
              "<Figure size 432x288 with 1 Axes>"
            ],
            "image/png": "[encoded data removed]"
          },
          "metadata": {
            "needs_background": "light"
          }
        }
      ]
    },
    {
      "cell_type": "markdown",
      "source": [
        "## Evaluamos"
      ],
      "metadata": {
        "id": "pNTTYcbi8ldR"
      }
    },
    {
      "cell_type": "code",
      "source": [
        "score,acc = model.evaluate(X_test, Y_test, verbose = 0, batch_size = batch_size)\n",
        "print(\"score: %.2f\" % (score))\n",
        "print(\"acc: %.2f\" % (acc))"
      ],
      "metadata": {
        "id": "rBL_Htk18kX_",
        "outputId": "d3bd03c5-3aa8-4de4-cf8a-7d59172a9c57",
        "colab": {
          "base_uri": "https://localhost:8080/"
        }
      },
      "execution_count": 100,
      "outputs": [
        {
          "output_type": "stream",
          "name": "stdout",
          "text": [
            "score: 0.75\n",
            "acc: 0.72\n"
          ]
        }
      ]
    },
    {
      "cell_type": "markdown",
      "source": [
        "# Transfer Learning con Embbedings Propios"
      ],
      "metadata": {
        "id": "dBOIczY58R6d"
      }
    },
    {
      "cell_type": "code",
      "source": [
        "model3 = Sequential()\n",
        "model3.add(Embedding(MAX_NB_WORDS, EMBEDDING_DIM, input_length = MAX_SEQUENCE_LENGTH, mask_zero=True))\n",
        "model3.add(SpatialDropout1D(0.4))\n",
        "model3.add(RNN_layer(RNN_DIM, dropout=0.2, recurrent_dropout=0.2))\n",
        "model3.add(Dense(1, activation='sigmoid'))\n",
        "model3.compile(loss='binary_crossentropy', optimizer='adam', metrics=['accuracy'])\n",
        "print(model3.summary())"
      ],
      "metadata": {
        "id": "jEHOwiY67BNV",
        "outputId": "4a76d458-07a0-4d9a-c460-972053e2881d",
        "colab": {
          "base_uri": "https://localhost:8080/"
        }
      },
      "execution_count": 101,
      "outputs": [
        {
          "output_type": "stream",
          "name": "stdout",
          "text": [
            "WARNING:tensorflow:Layer lstm_1 will not use cuDNN kernels since it doesn't meet the criteria. It will use a generic GPU kernel as fallback when running on GPU.\n",
            "Model: \"sequential_13\"\n",
            "_________________________________________________________________\n",
            " Layer (type)                Output Shape              Param #   \n",
            "=================================================================\n",
            " embedding_13 (Embedding)    (None, 33, 50)            88250     \n",
            "                                                                 \n",
            " spatial_dropout1d_2 (Spatia  (None, 33, 50)           0         \n",
            " lDropout1D)                                                     \n",
            "                                                                 \n",
            " lstm_1 (LSTM)               (None, 50)                20200     \n",
            "                                                                 \n",
            " dense_11 (Dense)            (None, 1)                 51        \n",
            "                                                                 \n",
            "=================================================================\n",
            "Total params: 108,501\n",
            "Trainable params: 108,501\n",
            "Non-trainable params: 0\n",
            "_________________________________________________________________\n",
            "None\n"
          ]
        }
      ]
    },
    {
      "cell_type": "code",
      "source": [
        "history=model3.fit(X_train, Y_train, epochs=30, batch_size=batch_size, verbose=2, validation_data=(X_test, Y_test))"
      ],
      "metadata": {
        "id": "RIu08kSd8anS",
        "outputId": "ce1e8dd5-06e4-4ecf-b3a7-e7082b3e377b",
        "colab": {
          "base_uri": "https://localhost:8080/"
        }
      },
      "execution_count": 103,
      "outputs": [
        {
          "output_type": "stream",
          "name": "stdout",
          "text": [
            "Epoch 1/30\n",
            "156/156 - 30s - loss: 0.6422 - accuracy: 0.6754 - val_loss: 0.6166 - val_accuracy: 0.6745 - 30s/epoch - 189ms/step\n",
            "Epoch 2/30\n",
            "156/156 - 29s - loss: 0.5205 - accuracy: 0.7396 - val_loss: 0.5292 - val_accuracy: 0.7399 - 29s/epoch - 189ms/step\n",
            "Epoch 3/30\n",
            "156/156 - 25s - loss: 0.3744 - accuracy: 0.8379 - val_loss: 0.5216 - val_accuracy: 0.7409 - 25s/epoch - 158ms/step\n",
            "Epoch 4/30\n",
            "156/156 - 25s - loss: 0.2984 - accuracy: 0.8784 - val_loss: 0.5955 - val_accuracy: 0.7549 - 25s/epoch - 157ms/step\n",
            "Epoch 5/30\n",
            "156/156 - 25s - loss: 0.2557 - accuracy: 0.8965 - val_loss: 0.5780 - val_accuracy: 0.7661 - 25s/epoch - 159ms/step\n",
            "Epoch 6/30\n",
            "156/156 - 25s - loss: 0.2151 - accuracy: 0.9193 - val_loss: 0.5993 - val_accuracy: 0.7418 - 25s/epoch - 162ms/step\n",
            "Epoch 7/30\n",
            "156/156 - 27s - loss: 0.1849 - accuracy: 0.9298 - val_loss: 0.6486 - val_accuracy: 0.7502 - 27s/epoch - 173ms/step\n",
            "Epoch 8/30\n",
            "156/156 - 25s - loss: 0.1662 - accuracy: 0.9362 - val_loss: 0.6658 - val_accuracy: 0.7306 - 25s/epoch - 163ms/step\n",
            "Epoch 9/30\n",
            "156/156 - 25s - loss: 0.1349 - accuracy: 0.9526 - val_loss: 0.8052 - val_accuracy: 0.7558 - 25s/epoch - 159ms/step\n",
            "Epoch 10/30\n",
            "156/156 - 25s - loss: 0.1331 - accuracy: 0.9518 - val_loss: 0.8180 - val_accuracy: 0.7493 - 25s/epoch - 160ms/step\n",
            "Epoch 11/30\n",
            "156/156 - 25s - loss: 0.1192 - accuracy: 0.9543 - val_loss: 0.8018 - val_accuracy: 0.7418 - 25s/epoch - 160ms/step\n",
            "Epoch 12/30\n",
            "156/156 - 25s - loss: 0.1021 - accuracy: 0.9647 - val_loss: 0.9686 - val_accuracy: 0.7343 - 25s/epoch - 161ms/step\n",
            "Epoch 13/30\n",
            "156/156 - 24s - loss: 0.1042 - accuracy: 0.9675 - val_loss: 1.1511 - val_accuracy: 0.7343 - 24s/epoch - 155ms/step\n",
            "Epoch 14/30\n",
            "156/156 - 24s - loss: 0.0925 - accuracy: 0.9651 - val_loss: 0.9857 - val_accuracy: 0.7259 - 24s/epoch - 156ms/step\n",
            "Epoch 15/30\n",
            "156/156 - 25s - loss: 0.0874 - accuracy: 0.9699 - val_loss: 0.9878 - val_accuracy: 0.7334 - 25s/epoch - 161ms/step\n",
            "Epoch 16/30\n",
            "156/156 - 24s - loss: 0.0830 - accuracy: 0.9723 - val_loss: 0.9666 - val_accuracy: 0.7484 - 24s/epoch - 156ms/step\n",
            "Epoch 17/30\n",
            "156/156 - 24s - loss: 0.0770 - accuracy: 0.9715 - val_loss: 1.0608 - val_accuracy: 0.7353 - 24s/epoch - 157ms/step\n",
            "Epoch 18/30\n",
            "156/156 - 24s - loss: 0.0621 - accuracy: 0.9759 - val_loss: 1.1499 - val_accuracy: 0.7297 - 24s/epoch - 156ms/step\n",
            "Epoch 19/30\n",
            "156/156 - 24s - loss: 0.0605 - accuracy: 0.9852 - val_loss: 1.1793 - val_accuracy: 0.7502 - 24s/epoch - 156ms/step\n",
            "Epoch 20/30\n",
            "156/156 - 24s - loss: 0.0685 - accuracy: 0.9755 - val_loss: 1.1688 - val_accuracy: 0.7371 - 24s/epoch - 157ms/step\n",
            "Epoch 21/30\n",
            "156/156 - 25s - loss: 0.0572 - accuracy: 0.9791 - val_loss: 1.1538 - val_accuracy: 0.7325 - 25s/epoch - 159ms/step\n",
            "Epoch 22/30\n",
            "156/156 - 25s - loss: 0.0517 - accuracy: 0.9815 - val_loss: 1.3129 - val_accuracy: 0.7465 - 25s/epoch - 162ms/step\n",
            "Epoch 23/30\n",
            "156/156 - 25s - loss: 0.0502 - accuracy: 0.9799 - val_loss: 1.3026 - val_accuracy: 0.7166 - 25s/epoch - 158ms/step\n",
            "Epoch 24/30\n",
            "Epoch 25/30\n",
            "156/156 - 25s - loss: 0.0400 - accuracy: 0.9852 - val_loss: 1.3497 - val_accuracy: 0.7138 - 25s/epoch - 161ms/step\n",
            "Epoch 26/30\n",
            "156/156 - 25s - loss: 0.0421 - accuracy: 0.9860 - val_loss: 1.2869 - val_accuracy: 0.7184 - 25s/epoch - 159ms/step\n",
            "Epoch 27/30\n",
            "156/156 - 24s - loss: 0.0427 - accuracy: 0.9831 - val_loss: 1.3538 - val_accuracy: 0.7343 - 24s/epoch - 156ms/step\n",
            "Epoch 28/30\n",
            "156/156 - 25s - loss: 0.0449 - accuracy: 0.9848 - val_loss: 1.3337 - val_accuracy: 0.7184 - 25s/epoch - 161ms/step\n",
            "Epoch 29/30\n",
            "156/156 - 25s - loss: 0.0340 - accuracy: 0.9892 - val_loss: 1.2997 - val_accuracy: 0.7194 - 25s/epoch - 158ms/step\n",
            "Epoch 30/30\n",
            "156/156 - 24s - loss: 0.0357 - accuracy: 0.9888 - val_loss: 1.4366 - val_accuracy: 0.7109 - 24s/epoch - 155ms/step\n"
          ]
        }
      ]
    },
    {
      "cell_type": "code",
      "source": [
        "# Plot training & validation accuracy values\n",
        "plt.plot(history.history['accuracy'])\n",
        "plt.plot(history.history['val_accuracy'])\n",
        "plt.title('Modelo WE propios')\n",
        "plt.ylabel('Accuracy')\n",
        "plt.xlabel('Epoch')\n",
        "plt.legend(['Train', 'Test'], loc='upper left')\n",
        "plt.show()"
      ],
      "metadata": {
        "id": "Nqraew9u8ftA",
        "outputId": "7e1129c7-b8a4-48e6-c40b-d0cbb6c5b597",
        "colab": {
          "base_uri": "https://localhost:8080/",
          "height": 295
        }
      },
      "execution_count": 106,
      "outputs": [
        {
          "output_type": "display_data",
          "data": {
            "text/plain": [
              "<Figure size 432x288 with 1 Axes>"
            ],
            "image/png": "[encoded data removed]"
          },
          "metadata": {
            "needs_background": "light"
          }
        }
      ]
    },
    {
      "cell_type": "code",
      "source": [
        "score,acc = model3.evaluate(X_test, Y_test, verbose = 0, batch_size = batch_size)\n",
        "print(\"score: %.2f\" % (score))\n",
        "print(\"acc: %.2f\" % (acc))"
      ],
      "metadata": {
        "id": "SBgjmvzs_Dv2",
        "outputId": "eb1eb616-9e0c-47e8-dabd-dddb42bd588e",
        "colab": {
          "base_uri": "https://localhost:8080/"
        }
      },
      "execution_count": 107,
      "outputs": [
        {
          "output_type": "stream",
          "name": "stdout",
          "text": [
            "score: 1.44\n",
            "acc: 0.71\n"
          ]
        }
      ]
    },
    {
      "cell_type": "code",
      "source": [
        ""
      ],
      "metadata": {
        "id": "di6O93yf_HQn"
      },
      "execution_count": null,
      "outputs": []
    }
  ]
}