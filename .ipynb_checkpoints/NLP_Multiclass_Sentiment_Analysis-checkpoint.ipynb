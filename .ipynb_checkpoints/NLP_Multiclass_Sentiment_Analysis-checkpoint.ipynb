{
 "cells": [
  {
   "cell_type": "markdown",
   "metadata": {
    "colab_type": "text",
    "id": "view-in-github"
   },
   "source": [
    "<a href=\"https://colab.research.google.com/github/urvog/NLP-Sentiment-Analysis/blob/main/NLP_Multiclass_Sentiment_Analysis.ipynb\" target=\"_parent\"><img src=\"https://colab.research.google.com/assets/colab-badge.svg\" alt=\"Open In Colab\"/></a>"
   ]
  },
  {
   "cell_type": "code",
   "execution_count": 275,
   "metadata": {
    "id": "V6vnCw7GJ8ck"
   },
   "outputs": [],
   "source": [
    "import pandas as pd\n",
    "import numpy as np\n",
    "import re, string, spacy\n",
    "from sklearn.feature_extraction.text import CountVectorizer\n",
    "from tensorflow.keras.preprocessing.text import Tokenizer\n",
    "from tensorflow.keras.preprocessing.sequence import pad_sequences\n",
    "from tensorflow.keras.models import Sequential\n",
    "from tensorflow.keras.layers import Dense, Embedding, Dropout, Activation, Conv1D, GlobalMaxPooling1D\n",
    "from tensorflow.keras.layers import LSTM, Dense, Dropout, SpatialDropout1D, GRU\n",
    "from sklearn.model_selection import train_test_split\n",
    "from sklearn.metrics import classification_report\n",
    "import matplotlib.pyplot as plt\n",
    "import joblib\n",
    "%matplotlib inline\n",
    "\n",
    "pd.options.display.max_colwidth = None\n",
    "np.random.seed(123)"
   ]
  },
  {
   "cell_type": "markdown",
   "metadata": {
    "id": "VJZZNiQZKKty"
   },
   "source": [
    "# Importando los datos"
   ]
  },
  {
   "cell_type": "code",
   "execution_count": 276,
   "metadata": {},
   "outputs": [
    {
     "name": "stdout",
     "output_type": "stream",
     "text": [
      "\u001b[31mdf_anger.csv\u001b[m\u001b[m               \u001b[31mdf_pessimism.csv\u001b[m\u001b[m\n",
      "\u001b[31mdf_anticipation.csv\u001b[m\u001b[m        \u001b[31mdf_sadness.csv\u001b[m\u001b[m\n",
      "\u001b[31mdf_disgust.csv\u001b[m\u001b[m             \u001b[31mdf_surprise.csv\u001b[m\u001b[m\n",
      "\u001b[31mdf_fear.csv\u001b[m\u001b[m                \u001b[31mdf_trust.csv\u001b[m\u001b[m\n",
      "\u001b[31mdf_joy.csv\u001b[m\u001b[m                 \u001b[31msem_eval_test_blank_es.csv\u001b[m\u001b[m\n",
      "\u001b[31mdf_love.csv\u001b[m\u001b[m                \u001b[31msem_eval_train_es.csv\u001b[m\u001b[m\n",
      "\u001b[31mdf_optimism.csv\u001b[m\u001b[m\n"
     ]
    }
   ],
   "source": [
    "!ls data/"
   ]
  },
  {
   "cell_type": "code",
   "execution_count": 277,
   "metadata": {
    "colab": {
     "base_uri": "https://localhost:8080/",
     "height": 424
    },
    "id": "HzsdrvaTKFZz",
    "outputId": "0454c4ff-94a6-4761-9ddf-5723b5b110ec"
   },
   "outputs": [
    {
     "data": {
      "text/html": [
       "<div>\n",
       "<style scoped>\n",
       "    .dataframe tbody tr th:only-of-type {\n",
       "        vertical-align: middle;\n",
       "    }\n",
       "\n",
       "    .dataframe tbody tr th {\n",
       "        vertical-align: top;\n",
       "    }\n",
       "\n",
       "    .dataframe thead th {\n",
       "        text-align: right;\n",
       "    }\n",
       "</style>\n",
       "<table border=\"1\" class=\"dataframe\">\n",
       "  <thead>\n",
       "    <tr style=\"text-align: right;\">\n",
       "      <th></th>\n",
       "      <th>Tweet</th>\n",
       "      <th>Sentiment</th>\n",
       "    </tr>\n",
       "  </thead>\n",
       "  <tbody>\n",
       "    <tr>\n",
       "      <th>15</th>\n",
       "      <td>@wichouya Que diosito te escuche jaja</td>\n",
       "      <td>1</td>\n",
       "    </tr>\n",
       "    <tr>\n",
       "      <th>17</th>\n",
       "      <td>@DebRyanShow #Rayito Falsa alarma 🚨 sigo sacando ideas de mi cabeza 😉</td>\n",
       "      <td>1</td>\n",
       "    </tr>\n",
       "    <tr>\n",
       "      <th>28</th>\n",
       "      <td>@Miguel_layun Hay que cosas le sale lo gruñon a @JorgeGonzalezGo animo optimista te sigo apoyando</td>\n",
       "      <td>1</td>\n",
       "    </tr>\n",
       "    <tr>\n",
       "      <th>44</th>\n",
       "      <td>Solicito seriamente que haya un festivo todas las semanas💋</td>\n",
       "      <td>1</td>\n",
       "    </tr>\n",
       "    <tr>\n",
       "      <th>54</th>\n",
       "      <td>Estoy segura de que en mi examen de hoy saqué 10 y estoy muy contenta, ya quiero hacer otro examen.🙈</td>\n",
       "      <td>1</td>\n",
       "    </tr>\n",
       "    <tr>\n",
       "      <th>...</th>\n",
       "      <td>...</td>\n",
       "      <td>...</td>\n",
       "    </tr>\n",
       "    <tr>\n",
       "      <th>3518</th>\n",
       "      <td>Orgullosa de ser aquella que tiene problemas y sonrie.</td>\n",
       "      <td>1</td>\n",
       "    </tr>\n",
       "    <tr>\n",
       "      <th>3521</th>\n",
       "      <td>Es normal que me sienta tan emocionado🙈</td>\n",
       "      <td>1</td>\n",
       "    </tr>\n",
       "    <tr>\n",
       "      <th>3529</th>\n",
       "      <td>Pero les tengo una sorpresa para ustedes, así que valió la pena 💃.</td>\n",
       "      <td>1</td>\n",
       "    </tr>\n",
       "    <tr>\n",
       "      <th>3544</th>\n",
       "      <td>Recuerda mijo @DalasReview una mujer herida es muy peligrosa... mucho animo @MIAREsproject</td>\n",
       "      <td>1</td>\n",
       "    </tr>\n",
       "    <tr>\n",
       "      <th>3548</th>\n",
       "      <td>Ya comienza a darme hambre; esa es buena señal</td>\n",
       "      <td>1</td>\n",
       "    </tr>\n",
       "  </tbody>\n",
       "</table>\n",
       "<p>378 rows × 2 columns</p>\n",
       "</div>"
      ],
      "text/plain": [
       "                                                                                                     Tweet  \\\n",
       "15                                                                  @wichouya Que diosito te escuche jaja    \n",
       "17                                   @DebRyanShow #Rayito Falsa alarma 🚨 sigo sacando ideas de mi cabeza 😉   \n",
       "28       @Miguel_layun Hay que cosas le sale lo gruñon a @JorgeGonzalezGo animo optimista te sigo apoyando   \n",
       "44                                              Solicito seriamente que haya un festivo todas las semanas💋   \n",
       "54    Estoy segura de que en mi examen de hoy saqué 10 y estoy muy contenta, ya quiero hacer otro examen.🙈   \n",
       "...                                                                                                    ...   \n",
       "3518                                                Orgullosa de ser aquella que tiene problemas y sonrie.   \n",
       "3521                                                               Es normal que me sienta tan emocionado🙈   \n",
       "3529                                    Pero les tengo una sorpresa para ustedes, así que valió la pena 💃.   \n",
       "3544            Recuerda mijo @DalasReview una mujer herida es muy peligrosa... mucho animo @MIAREsproject   \n",
       "3548                                                       Ya comienza a darme hambre; esa es buena señal    \n",
       "\n",
       "      Sentiment  \n",
       "15            1  \n",
       "17            1  \n",
       "28            1  \n",
       "44            1  \n",
       "54            1  \n",
       "...         ...  \n",
       "3518          1  \n",
       "3521          1  \n",
       "3529          1  \n",
       "3544          1  \n",
       "3548          1  \n",
       "\n",
       "[378 rows x 2 columns]"
      ]
     },
     "execution_count": 277,
     "metadata": {},
     "output_type": "execute_result"
    }
   ],
   "source": [
    "# Leemos los datos\n",
    "SENTIMENT_NAME = \"optimism\" #@param\n",
    "df = pd.read_csv('data/df_'+SENTIMENT_NAME+'.csv', index_col=None)\n",
    "df.columns = ['Tweet','Sentiment']\n",
    "df[df.Sentiment>0]"
   ]
  },
  {
   "cell_type": "markdown",
   "metadata": {
    "id": "Y6V6_HLnTmjq"
   },
   "source": [
    "# Limpiando los datos\n"
   ]
  },
  {
   "cell_type": "code",
   "execution_count": 278,
   "metadata": {
    "colab": {
     "base_uri": "https://localhost:8080/"
    },
    "id": "k5v0gN1US4lo",
    "outputId": "474686e5-2b26-48f8-aa2d-265f072fc23a"
   },
   "outputs": [],
   "source": [
    "#!python -m spacy download es_core_news_md\n",
    "import re, string, spacy\n",
    "nlp=spacy.load('es_core_news_md')\n",
    "\n",
    "pattern2 = re.compile('[{}]'.format(re.escape(string.punctuation))) #elimina símbolos de puntuación\n",
    "\n",
    "def clean_text(text, lemas=False):\n",
    "    \"\"\"Limpiamos las menciones y URL del texto. Luego convertimos en tokens\n",
    "    y eliminamos signos de puntuación.\n",
    "    Si lemas=True extraemos el lema, si no dejamos en minúsculas solamente.\n",
    "    Como salida volvemos a convertir los tokens en cadena de texto\"\"\"\n",
    "    text = re.sub(r'@[\\w_]+|https?://[\\w_./]+', '', text) #elimina menciones y URL\n",
    "    tokens = nlp(text)\n",
    "    tokens = [tok.lemma_.lower() if lemas else tok.lower_ for tok in tokens if not tok.is_punct]\n",
    "    filtered_tokens = [pattern2.sub('', tok) for tok in tokens] #no quitamos stop-words\n",
    "    filtered_text = ' '.join(filtered_tokens)\n",
    "    \n",
    "    return filtered_text"
   ]
  },
  {
   "cell_type": "markdown",
   "metadata": {
    "id": "c_N3x18eT9Ex"
   },
   "source": [
    "# Preparando los Datos"
   ]
  },
  {
   "cell_type": "code",
   "execution_count": 279,
   "metadata": {
    "id": "-JjmZsRKS6OP"
   },
   "outputs": [],
   "source": [
    "#limpiamos texto y quitamos tweets que se han quedado vacíos\n",
    "df.Tweet=df.Tweet.apply(clean_text, lemas=True)\n",
    "df = df[df['Tweet']!='']\n",
    "\n",
    "#Enviamos a Y los codigos asignados por label encodr, hay que convertir a numérico para Keras\n",
    "Y=df.Sentiment\n",
    "\n",
    "#Separamos entrenamiento y test\n",
    "tweets_train, tweets_test, Y_train, Y_test = train_test_split(df.Tweet,Y, test_size = 0.3, random_state = 42)"
   ]
  },
  {
   "cell_type": "code",
   "execution_count": 280,
   "metadata": {
    "colab": {
     "base_uri": "https://localhost:8080/"
    },
    "id": "hpd3gGt5UBsq",
    "outputId": "a82231a0-872a-427f-d701-65165e7e33dd"
   },
   "outputs": [
    {
     "name": "stdout",
     "output_type": "stream",
     "text": [
      "Número de tokens distintos: 5769\n"
     ]
    }
   ],
   "source": [
    "#Tokenizamos los textos\n",
    "tokenizer = Tokenizer(split=' ')\n",
    "tokenizer.fit_on_texts(tweets_train.values)\n",
    "\n",
    "X_train = tokenizer.texts_to_sequences(tweets_train.values)\n",
    "X_train = pad_sequences(X_train, padding='post')\n",
    "word_index = tokenizer.word_index\n",
    "print(f'Número de tokens distintos: {len(word_index)}')\n",
    "MAX_SEQUENCE_LENGTH = X_train.shape[1]\n",
    "max_features = len(word_index)+1\n",
    "X_test = tokenizer.texts_to_sequences(tweets_test.values)\n",
    "X_test = pad_sequences(X_test, padding='post', maxlen=MAX_SEQUENCE_LENGTH)"
   ]
  },
  {
   "cell_type": "code",
   "execution_count": 281,
   "metadata": {
    "colab": {
     "base_uri": "https://localhost:8080/"
    },
    "id": "pe_k1QvTn2R6",
    "outputId": "226b59de-e4b2-4074-ce41-2a5f33f2e289"
   },
   "outputs": [
    {
     "name": "stdout",
     "output_type": "stream",
     "text": [
      "(2492, 33) (2492,)\n",
      "(1069, 33) (1069,)\n"
     ]
    }
   ],
   "source": [
    "print(X_train.shape,Y_train.shape)\n",
    "print(X_test.shape,Y_test.shape)"
   ]
  },
  {
   "cell_type": "markdown",
   "metadata": {
    "id": "KMbQA47toHDr"
   },
   "source": [
    "# Preparamos el Modelo"
   ]
  },
  {
   "cell_type": "code",
   "execution_count": 297,
   "metadata": {
    "colab": {
     "base_uri": "https://localhost:8080/"
    },
    "id": "qfDtuNbJoKJ1",
    "outputId": "f8621fdd-10c8-4e82-ac04-ab5fdca42ccd"
   },
   "outputs": [
    {
     "name": "stdout",
     "output_type": "stream",
     "text": [
      "Model: \"sequential_10\"\n",
      "_________________________________________________________________\n",
      " Layer (type)                Output Shape              Param #   \n",
      "=================================================================\n",
      " embedding_10 (Embedding)    (None, 33, 50)            288500    \n",
      "                                                                 \n",
      " dropout_10 (Dropout)        (None, 33, 50)            0         \n",
      "                                                                 \n",
      " conv1d_10 (Conv1D)          (None, 31, 64)            9664      \n",
      "                                                                 \n",
      " dropout_11 (Dropout)        (None, 31, 64)            0         \n",
      "                                                                 \n",
      " global_max_pooling1d_10 (Gl  (None, 64)               0         \n",
      " obalMaxPooling1D)                                               \n",
      "                                                                 \n",
      " dense_10 (Dense)            (None, 1)                 65        \n",
      "                                                                 \n",
      " activation_10 (Activation)  (None, 1)                 0         \n",
      "                                                                 \n",
      "=================================================================\n",
      "Total params: 298,229\n",
      "Trainable params: 298,229\n",
      "Non-trainable params: 0\n",
      "_________________________________________________________________\n",
      "None\n"
     ]
    }
   ],
   "source": [
    "#Creamos el modelo CNN en Keras\n",
    "#Parámetros de la red\n",
    "embed_dim = 50\n",
    "filters = 64\n",
    "kernel_size = 3\n",
    "\n",
    "model = Sequential()\n",
    "model.add(Embedding(max_features, embed_dim, input_length = MAX_SEQUENCE_LENGTH))\n",
    "model.add(Dropout(0.2))\n",
    "\n",
    "# añadimos una capa de convolución 1D que aprende\n",
    "# filtros de grupos de palabras de tamaño kernel_size\n",
    "model.add(Conv1D(filters,\n",
    "                 kernel_size,\n",
    "                 padding='valid',\n",
    "                 activation='relu',\n",
    "                 strides=1))\n",
    "\n",
    "# calculamos el max pooling:\n",
    "model.add(GlobalMaxPooling1D())\n",
    "\n",
    "# conectamos a una capa de salida de una unidad con activación relu\n",
    "model.add(Dense(1))\n",
    "model.add(Activation('sigmoid'))\n",
    "\n",
    "# compilamos el modelo\n",
    "model.compile(loss='binary_crossentropy',\n",
    "              optimizer='adam',\n",
    "              metrics=['accuracy'])\n",
    "print(model.summary())"
   ]
  },
  {
   "cell_type": "markdown",
   "metadata": {},
   "source": [
    "# Entrenamiento"
   ]
  },
  {
   "cell_type": "code",
   "execution_count": 298,
   "metadata": {
    "colab": {
     "base_uri": "https://localhost:8080/"
    },
    "id": "7csR6z80oXxM",
    "outputId": "2ef94a14-21f7-4cce-e2c1-a471fde22aa5"
   },
   "outputs": [
    {
     "name": "stdout",
     "output_type": "stream",
     "text": [
      "Epoch 1/20\n"
     ]
    },
    {
     "name": "stderr",
     "output_type": "stream",
     "text": [
      "2022-07-08 08:39:26.251776: I tensorflow/core/grappler/optimizers/custom_graph_optimizer_registry.cc:113] Plugin optimizer for device_type GPU is enabled.\n",
      "2022-07-08 08:39:28.542604: I tensorflow/core/grappler/optimizers/custom_graph_optimizer_registry.cc:113] Plugin optimizer for device_type GPU is enabled.\n"
     ]
    },
    {
     "name": "stdout",
     "output_type": "stream",
     "text": [
      "156/156 - 3s - loss: 0.3789 - accuracy: 0.8840 - val_loss: 0.3930 - val_accuracy: 0.8924 - 3s/epoch - 21ms/step\n",
      "Epoch 2/20\n",
      "156/156 - 1s - loss: 0.3297 - accuracy: 0.8945 - val_loss: 0.3611 - val_accuracy: 0.8924 - 1s/epoch - 10ms/step\n",
      "Epoch 3/20\n",
      "156/156 - 1s - loss: 0.2782 - accuracy: 0.8973 - val_loss: 0.3230 - val_accuracy: 0.8934 - 1s/epoch - 9ms/step\n",
      "Epoch 4/20\n",
      "156/156 - 1s - loss: 0.1741 - accuracy: 0.9338 - val_loss: 0.3232 - val_accuracy: 0.8793 - 1s/epoch - 9ms/step\n",
      "Epoch 5/20\n",
      "156/156 - 1s - loss: 0.0969 - accuracy: 0.9695 - val_loss: 0.3369 - val_accuracy: 0.8625 - 1s/epoch - 8ms/step\n",
      "Epoch 6/20\n",
      "156/156 - 1s - loss: 0.0529 - accuracy: 0.9860 - val_loss: 0.3636 - val_accuracy: 0.8700 - 1s/epoch - 8ms/step\n",
      "Epoch 7/20\n",
      "156/156 - 1s - loss: 0.0295 - accuracy: 0.9940 - val_loss: 0.3931 - val_accuracy: 0.8662 - 1s/epoch - 8ms/step\n",
      "Epoch 8/20\n",
      "156/156 - 1s - loss: 0.0177 - accuracy: 0.9952 - val_loss: 0.4322 - val_accuracy: 0.8709 - 1s/epoch - 8ms/step\n",
      "Epoch 9/20\n",
      "156/156 - 1s - loss: 0.0105 - accuracy: 0.9980 - val_loss: 0.4527 - val_accuracy: 0.8587 - 1s/epoch - 8ms/step\n",
      "Epoch 10/20\n",
      "156/156 - 1s - loss: 0.0078 - accuracy: 0.9988 - val_loss: 0.4885 - val_accuracy: 0.8597 - 1s/epoch - 8ms/step\n",
      "Epoch 11/20\n",
      "156/156 - 1s - loss: 0.0052 - accuracy: 0.9988 - val_loss: 0.5068 - val_accuracy: 0.8559 - 1s/epoch - 8ms/step\n",
      "Epoch 12/20\n",
      "156/156 - 1s - loss: 0.0059 - accuracy: 0.9984 - val_loss: 0.5327 - val_accuracy: 0.8559 - 1s/epoch - 8ms/step\n",
      "Epoch 13/20\n",
      "156/156 - 1s - loss: 0.0034 - accuracy: 0.9992 - val_loss: 0.5554 - val_accuracy: 0.8531 - 1s/epoch - 8ms/step\n",
      "Epoch 14/20\n",
      "156/156 - 1s - loss: 0.0028 - accuracy: 0.9996 - val_loss: 0.5756 - val_accuracy: 0.8559 - 1s/epoch - 8ms/step\n",
      "Epoch 15/20\n",
      "156/156 - 1s - loss: 0.0015 - accuracy: 1.0000 - val_loss: 0.5930 - val_accuracy: 0.8587 - 1s/epoch - 8ms/step\n",
      "Epoch 16/20\n",
      "156/156 - 1s - loss: 0.0012 - accuracy: 1.0000 - val_loss: 0.6110 - val_accuracy: 0.8550 - 1s/epoch - 8ms/step\n",
      "Epoch 17/20\n",
      "156/156 - 1s - loss: 0.0012 - accuracy: 1.0000 - val_loss: 0.6224 - val_accuracy: 0.8587 - 1s/epoch - 8ms/step\n",
      "Epoch 18/20\n",
      "156/156 - 1s - loss: 0.0014 - accuracy: 1.0000 - val_loss: 0.6361 - val_accuracy: 0.8569 - 1s/epoch - 8ms/step\n",
      "Epoch 19/20\n",
      "156/156 - 1s - loss: 0.0013 - accuracy: 0.9996 - val_loss: 0.6543 - val_accuracy: 0.8531 - 1s/epoch - 8ms/step\n",
      "Epoch 20/20\n",
      "156/156 - 1s - loss: 8.4401e-04 - accuracy: 0.9996 - val_loss: 0.6829 - val_accuracy: 0.8578 - 1s/epoch - 8ms/step\n"
     ]
    }
   ],
   "source": [
    "batch_size = 16\n",
    "history = model.fit(X_train, Y_train, epochs=20, batch_size=batch_size, verbose=2, validation_data=(X_test, Y_test))"
   ]
  },
  {
   "cell_type": "markdown",
   "metadata": {
    "id": "Y8LuYPzXy-Iv"
   },
   "source": [
    "# Visualizamos"
   ]
  },
  {
   "cell_type": "code",
   "execution_count": 284,
   "metadata": {
    "colab": {
     "base_uri": "https://localhost:8080/",
     "height": 295
    },
    "id": "XBNc7A2vohMo",
    "outputId": "96a2ceb9-1bfe-4844-84a7-c624eeb00675"
   },
   "outputs": [
    {
     "data": {
      "image/png": "[encoded data removed]",
      "text/plain": [
       "<Figure size 432x288 with 1 Axes>"
      ]
     },
     "metadata": {
      "needs_background": "light"
     },
     "output_type": "display_data"
    }
   ],
   "source": [
    "# Plot training & validation accuracy values\n",
    "plt.plot(history.history['accuracy'])\n",
    "plt.plot(history.history['val_accuracy'])\n",
    "plt.title('TF con WE FastText')\n",
    "plt.ylabel('Accuracy')\n",
    "plt.xlabel('Epoch')\n",
    "plt.legend(['Train', 'Test'], loc='upper left')\n",
    "plt.show()"
   ]
  },
  {
   "cell_type": "markdown",
   "metadata": {
    "id": "EabzXEU6zB45"
   },
   "source": [
    "# Probamos con algunas inferencias"
   ]
  },
  {
   "cell_type": "code",
   "execution_count": 285,
   "metadata": {
    "colab": {
     "base_uri": "https://localhost:8080/"
    },
    "id": "qNfByCFco1Ka",
    "outputId": "66f6409a-d8bf-4119-9a98-44675b8acae4"
   },
   "outputs": [
    {
     "name": "stdout",
     "output_type": "stream",
     "text": [
      "1/1 - 0s - 72ms/epoch - 72ms/step\n",
      "optimism\n"
     ]
    },
    {
     "name": "stderr",
     "output_type": "stream",
     "text": [
      "2022-07-08 08:38:35.561248: I tensorflow/core/grappler/optimizers/custom_graph_optimizer_registry.cc:113] Plugin optimizer for device_type GPU is enabled.\n"
     ]
    }
   ],
   "source": [
    "twt = 'Ya comienza a darme hambre; esa es buena señal'\n",
    "#vectorizing the tweet by the pre-fitted tokenizer instance\n",
    "twt = tokenizer.texts_to_sequences([clean_text(twt, lemas=True)]) #hay que pasar el texto a array\n",
    "twt = pad_sequences(twt, maxlen=X_train.shape[1], dtype='int32', padding='post', truncating='post', value=0)\n",
    "sentiment = model.predict(twt,batch_size=1,verbose = 2)\n",
    "if(np.round(sentiment) == 0):\n",
    "    print(\"Desconocido\")\n",
    "elif (np.round(sentiment) == 1):\n",
    "    print(SENTIMENT_NAME)"
   ]
  },
  {
   "cell_type": "code",
   "execution_count": 286,
   "metadata": {
    "colab": {
     "base_uri": "https://localhost:8080/"
    },
    "id": "3RJr3X-fX3i7",
    "outputId": "ace8d6a5-b4d1-45c4-e407-0f8298d6211e"
   },
   "outputs": [
    {
     "name": "stdout",
     "output_type": "stream",
     "text": [
      "67/67 - 0s - loss: 0.7752 - accuracy: 0.8653 - 197ms/epoch - 3ms/step\n",
      "score: 0.78\n",
      "acc: 0.87\n"
     ]
    }
   ],
   "source": [
    "score,acc = model.evaluate(X_test, Y_test, verbose = 2, batch_size = batch_size)\n",
    "print(\"score: %.2f\" % (score))\n",
    "print(\"acc: %.2f\" % (acc))"
   ]
  },
  {
   "cell_type": "code",
   "execution_count": 287,
   "metadata": {},
   "outputs": [
    {
     "data": {
      "text/plain": [
       "(1069, 33)"
      ]
     },
     "execution_count": 287,
     "metadata": {},
     "output_type": "execute_result"
    }
   ],
   "source": [
    "X_test.shape"
   ]
  },
  {
   "cell_type": "code",
   "execution_count": 288,
   "metadata": {
    "colab": {
     "base_uri": "https://localhost:8080/"
    },
    "id": "7yH7KIhPzE8t",
    "outputId": "ef27ded2-11e2-4d20-9ff4-9452e30aace3"
   },
   "outputs": [
    {
     "name": "stdout",
     "output_type": "stream",
     "text": [
      "1069/1069 [==============================] - 2s 1ms/step\n",
      "              precision    recall  f1-score   support\n",
      "\n",
      "           N       0.90      0.95      0.93       954\n",
      "           S       0.25      0.13      0.17       115\n",
      "\n",
      "    accuracy                           0.87      1069\n",
      "   macro avg       0.58      0.54      0.55      1069\n",
      "weighted avg       0.83      0.87      0.85      1069\n",
      "\n"
     ]
    }
   ],
   "source": [
    "predict=model.predict(X_test, batch_size=1)\n",
    "prediccion=(predict>0.5).tolist()\n",
    "\n",
    "from sklearn.metrics import classification_report\n",
    "print(classification_report(Y_test, prediccion, target_names=['N','S']))"
   ]
  },
  {
   "cell_type": "markdown",
   "metadata": {
    "id": "oCAO_fFdX82B"
   },
   "source": [
    "# Guardamos el Modelo"
   ]
  },
  {
   "cell_type": "code",
   "execution_count": 289,
   "metadata": {
    "id": "Q7mrZ1VKXavO"
   },
   "outputs": [
    {
     "name": "stderr",
     "output_type": "stream",
     "text": [
      "WARNING:absl:Found untraced functions such as _jit_compiled_convolution_op while saving (showing 1 of 1). These functions will not be directly callable after loading.\n"
     ]
    },
    {
     "name": "stdout",
     "output_type": "stream",
     "text": [
      "INFO:tensorflow:Assets written to: ram://dc013f61-8785-4c11-8943-ff06195addc0/assets\n"
     ]
    },
    {
     "name": "stderr",
     "output_type": "stream",
     "text": [
      "INFO:tensorflow:Assets written to: ram://dc013f61-8785-4c11-8943-ff06195addc0/assets\n"
     ]
    },
    {
     "data": {
      "text/plain": [
       "['models/optimism.jlb']"
      ]
     },
     "execution_count": 289,
     "metadata": {},
     "output_type": "execute_result"
    }
   ],
   "source": [
    "file_path = \"models/\"+SENTIMENT_NAME+\".jlb\"\n",
    "joblib.dump(model, file_path)"
   ]
  },
  {
   "cell_type": "markdown",
   "metadata": {},
   "source": [
    "# Predicciones en Dataset de Test"
   ]
  },
  {
   "cell_type": "code",
   "execution_count": 290,
   "metadata": {},
   "outputs": [
    {
     "data": {
      "text/html": [
       "<div>\n",
       "<style scoped>\n",
       "    .dataframe tbody tr th:only-of-type {\n",
       "        vertical-align: middle;\n",
       "    }\n",
       "\n",
       "    .dataframe tbody tr th {\n",
       "        vertical-align: top;\n",
       "    }\n",
       "\n",
       "    .dataframe thead th {\n",
       "        text-align: right;\n",
       "    }\n",
       "</style>\n",
       "<table border=\"1\" class=\"dataframe\">\n",
       "  <thead>\n",
       "    <tr style=\"text-align: right;\">\n",
       "      <th></th>\n",
       "      <th>ID</th>\n",
       "      <th>Tweet</th>\n",
       "    </tr>\n",
       "  </thead>\n",
       "  <tbody>\n",
       "    <tr>\n",
       "      <th>0</th>\n",
       "      <td>2018-Es-06697</td>\n",
       "      <td>No me pienso perder la pelea de McGregor contra Myweather</td>\n",
       "    </tr>\n",
       "    <tr>\n",
       "      <th>1</th>\n",
       "      <td>2018-Es-05385</td>\n",
       "      <td>Yo preocupada pensando que mi papá ya había llegado y me estaba llamando para decirme que el vuelo todavía no había salido 👍</td>\n",
       "    </tr>\n",
       "    <tr>\n",
       "      <th>2</th>\n",
       "      <td>2018-Es-03777</td>\n",
       "      <td>Pucha ya no me sirven todos los carros a Rondizzoni.... #ironía jajajjajaja #unañomas</td>\n",
       "    </tr>\n",
       "    <tr>\n",
       "      <th>3</th>\n",
       "      <td>2018-Es-02175</td>\n",
       "      <td>Si estar contigo es un delito, hago cien años en prision 😃</td>\n",
       "    </tr>\n",
       "    <tr>\n",
       "      <th>4</th>\n",
       "      <td>2018-Es-00726</td>\n",
       "      <td>@macacifuentesC @sergmujica Perfect... Y de una mansa ni que terrible PLR</td>\n",
       "    </tr>\n",
       "    <tr>\n",
       "      <th>...</th>\n",
       "      <td>...</td>\n",
       "      <td>...</td>\n",
       "    </tr>\n",
       "    <tr>\n",
       "      <th>674</th>\n",
       "      <td>2018-Es-06551</td>\n",
       "      <td>@tccharless  -Peligro al volante -Tec -Los Santos -Memes -Galletas -3C</td>\n",
       "    </tr>\n",
       "    <tr>\n",
       "      <th>675</th>\n",
       "      <td>2018-Es-02782</td>\n",
       "      <td>Vamos a ver q sucedio en mi barrio en los 90 #veronicalapelicula  #Vallekas</td>\n",
       "    </tr>\n",
       "    <tr>\n",
       "      <th>676</th>\n",
       "      <td>2018-Es-01308</td>\n",
       "      <td>@kopexinfinity FELICIDADES FER 💕 QUE ESTA PASANDO AL AGUS PARA DARLE LIKE A FOTOS DE CARO JAJAAAA</td>\n",
       "    </tr>\n",
       "    <tr>\n",
       "      <th>677</th>\n",
       "      <td>2018-Es-02136</td>\n",
       "      <td>@PabloEmanuel299 LAMENTO MI CONFUSIÓN DE RAMA LEGISLATIVA : Habida cuenta, publicamente corregí. Espero haber satisfecho el reclamo.</td>\n",
       "    </tr>\n",
       "    <tr>\n",
       "      <th>678</th>\n",
       "      <td>2018-Es-03951</td>\n",
       "      <td>Mi sobrina vio la foto que esta en la pared, la que estoy con vos y me dijo \"Mira tía cuando ahí estabas contenta\" @AbrahamMateo</td>\n",
       "    </tr>\n",
       "  </tbody>\n",
       "</table>\n",
       "<p>679 rows × 2 columns</p>\n",
       "</div>"
      ],
      "text/plain": [
       "                ID  \\\n",
       "0    2018-Es-06697   \n",
       "1    2018-Es-05385   \n",
       "2    2018-Es-03777   \n",
       "3    2018-Es-02175   \n",
       "4    2018-Es-00726   \n",
       "..             ...   \n",
       "674  2018-Es-06551   \n",
       "675  2018-Es-02782   \n",
       "676  2018-Es-01308   \n",
       "677  2018-Es-02136   \n",
       "678  2018-Es-03951   \n",
       "\n",
       "                                                                                                                                    Tweet  \n",
       "0                                                                               No me pienso perder la pelea de McGregor contra Myweather  \n",
       "1            Yo preocupada pensando que mi papá ya había llegado y me estaba llamando para decirme que el vuelo todavía no había salido 👍  \n",
       "2                                                   Pucha ya no me sirven todos los carros a Rondizzoni.... #ironía jajajjajaja #unañomas  \n",
       "3                                                                              Si estar contigo es un delito, hago cien años en prision 😃  \n",
       "4                                                               @macacifuentesC @sergmujica Perfect... Y de una mansa ni que terrible PLR  \n",
       "..                                                                                                                                    ...  \n",
       "674                                                                @tccharless  -Peligro al volante -Tec -Los Santos -Memes -Galletas -3C  \n",
       "675                                                          Vamos a ver q sucedio en mi barrio en los 90 #veronicalapelicula  #Vallekas   \n",
       "676                                    @kopexinfinity FELICIDADES FER 💕 QUE ESTA PASANDO AL AGUS PARA DARLE LIKE A FOTOS DE CARO JAJAAAA   \n",
       "677  @PabloEmanuel299 LAMENTO MI CONFUSIÓN DE RAMA LEGISLATIVA : Habida cuenta, publicamente corregí. Espero haber satisfecho el reclamo.  \n",
       "678      Mi sobrina vio la foto que esta en la pared, la que estoy con vos y me dijo \"Mira tía cuando ahí estabas contenta\" @AbrahamMateo  \n",
       "\n",
       "[679 rows x 2 columns]"
      ]
     },
     "execution_count": 290,
     "metadata": {},
     "output_type": "execute_result"
    }
   ],
   "source": [
    "df_eval = pd.read_csv('data/sem_eval_test_blank_es.csv')\n",
    "df_eval"
   ]
  },
  {
   "cell_type": "code",
   "execution_count": 291,
   "metadata": {},
   "outputs": [
    {
     "data": {
      "text/html": [
       "<div>\n",
       "<style scoped>\n",
       "    .dataframe tbody tr th:only-of-type {\n",
       "        vertical-align: middle;\n",
       "    }\n",
       "\n",
       "    .dataframe tbody tr th {\n",
       "        vertical-align: top;\n",
       "    }\n",
       "\n",
       "    .dataframe thead th {\n",
       "        text-align: right;\n",
       "    }\n",
       "</style>\n",
       "<table border=\"1\" class=\"dataframe\">\n",
       "  <thead>\n",
       "    <tr style=\"text-align: right;\">\n",
       "      <th></th>\n",
       "      <th>ID</th>\n",
       "      <th>Tweet</th>\n",
       "    </tr>\n",
       "  </thead>\n",
       "  <tbody>\n",
       "    <tr>\n",
       "      <th>0</th>\n",
       "      <td>2018-Es-06697</td>\n",
       "      <td>no yo pensar perder el pelea de mcgregor contra myweather</td>\n",
       "    </tr>\n",
       "    <tr>\n",
       "      <th>1</th>\n",
       "      <td>2018-Es-05385</td>\n",
       "      <td>yo preocupado pensar que mi papá ya haber llegar y yo estar llamar para decir yo que el vuelo todavía no haber salir 👍</td>\n",
       "    </tr>\n",
       "    <tr>\n",
       "      <th>2</th>\n",
       "      <td>2018-Es-03777</td>\n",
       "      <td>pucha ya no yo servir todo el carro a rondizzoni ironía jajajjajaja unañomas</td>\n",
       "    </tr>\n",
       "    <tr>\n",
       "      <th>3</th>\n",
       "      <td>2018-Es-02175</td>\n",
       "      <td>si estar contigo ser uno delito hacer cien año en prision 😃</td>\n",
       "    </tr>\n",
       "    <tr>\n",
       "      <th>4</th>\n",
       "      <td>2018-Es-00726</td>\n",
       "      <td>perfect y de uno mansa ni que terrible plr</td>\n",
       "    </tr>\n",
       "    <tr>\n",
       "      <th>...</th>\n",
       "      <td>...</td>\n",
       "      <td>...</td>\n",
       "    </tr>\n",
       "    <tr>\n",
       "      <th>674</th>\n",
       "      <td>2018-Es-06551</td>\n",
       "      <td>peligro al volante tec los santos memes galleta 3c</td>\n",
       "    </tr>\n",
       "    <tr>\n",
       "      <th>675</th>\n",
       "      <td>2018-Es-02782</td>\n",
       "      <td>ir a ver q suceder en mi barrio en el 90 veronicalapelicula   vallekas</td>\n",
       "    </tr>\n",
       "    <tr>\n",
       "      <th>676</th>\n",
       "      <td>2018-Es-01308</td>\n",
       "      <td>felicidades fer 💕 que este pasando al agus para darle like a foto de caro jajaaaa</td>\n",
       "    </tr>\n",
       "    <tr>\n",
       "      <th>677</th>\n",
       "      <td>2018-Es-02136</td>\n",
       "      <td>lamento mi confusión de rama legislativa habida cuenta publicamente corregí esperar haber satisfacer el reclamo</td>\n",
       "    </tr>\n",
       "    <tr>\n",
       "      <th>678</th>\n",
       "      <td>2018-Es-03951</td>\n",
       "      <td>mi sobrina ver el foto que este en el pared el que estar con vo y yo decir mirar tía cuando ahí estabar contentar</td>\n",
       "    </tr>\n",
       "  </tbody>\n",
       "</table>\n",
       "<p>679 rows × 2 columns</p>\n",
       "</div>"
      ],
      "text/plain": [
       "                ID  \\\n",
       "0    2018-Es-06697   \n",
       "1    2018-Es-05385   \n",
       "2    2018-Es-03777   \n",
       "3    2018-Es-02175   \n",
       "4    2018-Es-00726   \n",
       "..             ...   \n",
       "674  2018-Es-06551   \n",
       "675  2018-Es-02782   \n",
       "676  2018-Es-01308   \n",
       "677  2018-Es-02136   \n",
       "678  2018-Es-03951   \n",
       "\n",
       "                                                                                                                      Tweet  \n",
       "0                                                                 no yo pensar perder el pelea de mcgregor contra myweather  \n",
       "1    yo preocupado pensar que mi papá ya haber llegar y yo estar llamar para decir yo que el vuelo todavía no haber salir 👍  \n",
       "2                                              pucha ya no yo servir todo el carro a rondizzoni ironía jajajjajaja unañomas  \n",
       "3                                                               si estar contigo ser uno delito hacer cien año en prision 😃  \n",
       "4                                                                                perfect y de uno mansa ni que terrible plr  \n",
       "..                                                                                                                      ...  \n",
       "674                                                                      peligro al volante tec los santos memes galleta 3c  \n",
       "675                                                  ir a ver q suceder en mi barrio en el 90 veronicalapelicula   vallekas  \n",
       "676                                       felicidades fer 💕 que este pasando al agus para darle like a foto de caro jajaaaa  \n",
       "677         lamento mi confusión de rama legislativa habida cuenta publicamente corregí esperar haber satisfacer el reclamo  \n",
       "678       mi sobrina ver el foto que este en el pared el que estar con vo y yo decir mirar tía cuando ahí estabar contentar  \n",
       "\n",
       "[679 rows x 2 columns]"
      ]
     },
     "execution_count": 291,
     "metadata": {},
     "output_type": "execute_result"
    }
   ],
   "source": [
    "#Limpiando los datos \n",
    "df_eval.Tweet=df_eval.Tweet.apply(clean_text, lemas=True)\n",
    "df_eval = df_eval[df_eval['Tweet']!='']\n",
    "df_eval"
   ]
  },
  {
   "cell_type": "code",
   "execution_count": 292,
   "metadata": {},
   "outputs": [],
   "source": [
    "X_test_eval = tokenizer.texts_to_sequences(df_eval.Tweet)\n",
    "X_test_eval = pad_sequences(X_test_eval, padding='post', maxlen=MAX_SEQUENCE_LENGTH)"
   ]
  },
  {
   "cell_type": "code",
   "execution_count": 293,
   "metadata": {},
   "outputs": [
    {
     "data": {
      "text/plain": [
       "array([[   9,    5,   83, ...,    0,    0,    0],\n",
       "       [   5,  193,   83, ...,    0,    0,    0],\n",
       "       [  28,    9,    5, ...,    0,    0,    0],\n",
       "       ...,\n",
       "       [ 249,    2,   19, ...,    0,    0,    0],\n",
       "       [  13,    3,  158, ...,    0,    0,    0],\n",
       "       [  13, 1846,   24, ...,    0,    0,    0]], dtype=int32)"
      ]
     },
     "execution_count": 293,
     "metadata": {},
     "output_type": "execute_result"
    }
   ],
   "source": [
    "X_test_eval"
   ]
  },
  {
   "cell_type": "code",
   "execution_count": 294,
   "metadata": {},
   "outputs": [
    {
     "data": {
      "text/plain": [
       "(679, 33)"
      ]
     },
     "execution_count": 294,
     "metadata": {},
     "output_type": "execute_result"
    }
   ],
   "source": [
    "X_test_eval.shape"
   ]
  },
  {
   "cell_type": "code",
   "execution_count": 295,
   "metadata": {},
   "outputs": [
    {
     "name": "stdout",
     "output_type": "stream",
     "text": [
      "679/679 [==============================] - 1s 1ms/step\n"
     ]
    }
   ],
   "source": [
    "predict_eval = model.predict(X_test_eval, batch_size=1)"
   ]
  },
  {
   "cell_type": "code",
   "execution_count": 296,
   "metadata": {},
   "outputs": [
    {
     "data": {
      "text/html": [
       "<div>\n",
       "<style scoped>\n",
       "    .dataframe tbody tr th:only-of-type {\n",
       "        vertical-align: middle;\n",
       "    }\n",
       "\n",
       "    .dataframe tbody tr th {\n",
       "        vertical-align: top;\n",
       "    }\n",
       "\n",
       "    .dataframe thead th {\n",
       "        text-align: right;\n",
       "    }\n",
       "</style>\n",
       "<table border=\"1\" class=\"dataframe\">\n",
       "  <thead>\n",
       "    <tr style=\"text-align: right;\">\n",
       "      <th></th>\n",
       "      <th>ID</th>\n",
       "      <th>optimism</th>\n",
       "    </tr>\n",
       "  </thead>\n",
       "  <tbody>\n",
       "    <tr>\n",
       "      <th>0</th>\n",
       "      <td>2018-Es-06697</td>\n",
       "      <td>1.538391e-06</td>\n",
       "    </tr>\n",
       "    <tr>\n",
       "      <th>1</th>\n",
       "      <td>2018-Es-05385</td>\n",
       "      <td>3.068997e-06</td>\n",
       "    </tr>\n",
       "    <tr>\n",
       "      <th>2</th>\n",
       "      <td>2018-Es-03777</td>\n",
       "      <td>2.251514e-04</td>\n",
       "    </tr>\n",
       "    <tr>\n",
       "      <th>3</th>\n",
       "      <td>2018-Es-02175</td>\n",
       "      <td>4.995558e-03</td>\n",
       "    </tr>\n",
       "    <tr>\n",
       "      <th>4</th>\n",
       "      <td>2018-Es-00726</td>\n",
       "      <td>4.600923e-07</td>\n",
       "    </tr>\n",
       "    <tr>\n",
       "      <th>...</th>\n",
       "      <td>...</td>\n",
       "      <td>...</td>\n",
       "    </tr>\n",
       "    <tr>\n",
       "      <th>674</th>\n",
       "      <td>2018-Es-06551</td>\n",
       "      <td>4.433094e-01</td>\n",
       "    </tr>\n",
       "    <tr>\n",
       "      <th>675</th>\n",
       "      <td>2018-Es-02782</td>\n",
       "      <td>1.044924e-04</td>\n",
       "    </tr>\n",
       "    <tr>\n",
       "      <th>676</th>\n",
       "      <td>2018-Es-01308</td>\n",
       "      <td>2.613766e-04</td>\n",
       "    </tr>\n",
       "    <tr>\n",
       "      <th>677</th>\n",
       "      <td>2018-Es-02136</td>\n",
       "      <td>8.450971e-04</td>\n",
       "    </tr>\n",
       "    <tr>\n",
       "      <th>678</th>\n",
       "      <td>2018-Es-03951</td>\n",
       "      <td>4.652505e-06</td>\n",
       "    </tr>\n",
       "  </tbody>\n",
       "</table>\n",
       "<p>679 rows × 2 columns</p>\n",
       "</div>"
      ],
      "text/plain": [
       "                ID      optimism\n",
       "0    2018-Es-06697  1.538391e-06\n",
       "1    2018-Es-05385  3.068997e-06\n",
       "2    2018-Es-03777  2.251514e-04\n",
       "3    2018-Es-02175  4.995558e-03\n",
       "4    2018-Es-00726  4.600923e-07\n",
       "..             ...           ...\n",
       "674  2018-Es-06551  4.433094e-01\n",
       "675  2018-Es-02782  1.044924e-04\n",
       "676  2018-Es-01308  2.613766e-04\n",
       "677  2018-Es-02136  8.450971e-04\n",
       "678  2018-Es-03951  4.652505e-06\n",
       "\n",
       "[679 rows x 2 columns]"
      ]
     },
     "execution_count": 296,
     "metadata": {},
     "output_type": "execute_result"
    }
   ],
   "source": [
    "df_output = pd.DataFrame(df_eval.ID)\n",
    "df_output[SENTIMENT_NAME] = predict_eval\n",
    "df_output.to_csv('predictions/pred_'+SENTIMENT_NAME+'.csv', index = False)\n",
    "df_output\n"
   ]
  }
 ],
 "metadata": {
  "accelerator": "GPU",
  "colab": {
   "authorship_tag": "ABX9TyM66OgJyQ179zGkpHecPBm7",
   "include_colab_link": true,
   "mount_file_id": "https://github.com/urvog/NLP-Sentiment-Analysis/blob/main/NLP_Multiclass_Sentiment_Analysis.ipynb",
   "name": "NLP-Multiclass Sentiment Analysis.ipynb",
   "provenance": [],
   "toc_visible": true
  },
  "gpuClass": "standard",
  "kernelspec": {
   "display_name": "Python 3 (ipykernel)",
   "language": "python",
   "name": "python3"
  },
  "language_info": {
   "codemirror_mode": {
    "name": "ipython",
    "version": 3
   },
   "file_extension": ".py",
   "mimetype": "text/x-python",
   "name": "python",
   "nbconvert_exporter": "python",
   "pygments_lexer": "ipython3",
   "version": "3.10.4"
  }
 },
 "nbformat": 4,
 "nbformat_minor": 4
}
